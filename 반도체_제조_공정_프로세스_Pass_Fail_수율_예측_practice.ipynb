{
  "nbformat": 4,
  "nbformat_minor": 0,
  "metadata": {
    "colab": {
      "provenance": [],
      "include_colab_link": true
    },
    "kernelspec": {
      "name": "python3",
      "display_name": "Python 3"
    },
    "language_info": {
      "name": "python"
    }
  },
  "cells": [
    {
      "cell_type": "markdown",
      "metadata": {
        "id": "view-in-github",
        "colab_type": "text"
      },
      "source": [
        "<a href=\"https://colab.research.google.com/github/SHIBAGYEON/da_study/blob/main/%EB%B0%98%EB%8F%84%EC%B2%B4_%EC%A0%9C%EC%A1%B0_%EA%B3%B5%EC%A0%95_%ED%94%84%EB%A1%9C%EC%84%B8%EC%8A%A4_Pass_Fail_%EC%88%98%EC%9C%A8_%EC%98%88%EC%B8%A1_practice.ipynb\" target=\"_parent\"><img src=\"https://colab.research.google.com/assets/colab-badge.svg\" alt=\"Open In Colab\"/></a>"
      ]
    },
    {
      "cell_type": "markdown",
      "metadata": {
        "id": "a3l1SA2mO8uj"
      },
      "source": [
        "* [uci-secom.csv] : https://www.kaggle.com/paresh2047/uci-semcom"
      ]
    },
    {
      "cell_type": "code",
      "source": [
        "# from google.colab import drive\n",
        "# drive.mount('/content/drive')\n",
        "!git clone https://github.com/SHIBAGYEON/da_study.git"
      ],
      "metadata": {
        "colab": {
          "base_uri": "https://localhost:8080/"
        },
        "id": "EF5BFLUnMlVu",
        "outputId": "6f1c1241-3141-4e72-f1b2-01d69498ab79"
      },
      "execution_count": null,
      "outputs": [
        {
          "output_type": "stream",
          "name": "stdout",
          "text": [
            "Cloning into 'da_study'...\n",
            "remote: Enumerating objects: 1374, done.\u001b[K\n",
            "remote: Counting objects: 100% (304/304), done.\u001b[K\n",
            "remote: Compressing objects: 100% (147/147), done.\u001b[K\n",
            "remote: Total 1374 (delta 134), reused 293 (delta 126), pack-reused 1070\u001b[K\n",
            "Receiving objects: 100% (1374/1374), 27.23 MiB | 20.02 MiB/s, done.\n",
            "Resolving deltas: 100% (628/628), done.\n"
          ]
        }
      ]
    },
    {
      "cell_type": "markdown",
      "metadata": {
        "id": "q_0Z1xaXNjN0"
      },
      "source": [
        "반도체 제조 공정 프로세스 Pass_Fail 수율 예측"
      ]
    },
    {
      "cell_type": "markdown",
      "metadata": {
        "id": "m8W42nWzmx5r"
      },
      "source": [
        "* matplotlib 한글 깨짐 현상 해결\n",
        "> 셀 실행 후 런타임 재시작 필요"
      ]
    },
    {
      "cell_type": "code",
      "metadata": {
        "id": "vpWXM5xgm0HK"
      },
      "source": [
        "# import matplotlib.pyplot as plt\n",
        "\n",
        "# !apt-get update -qq\n",
        "# !apt-get install fonts-nanum* -qq\n",
        "\n",
        "# import matplotlib.font_manager as fm\n",
        "\n",
        "# path = '/usr/share/fonts/truetype/nanum/NanumGothicEco.ttf'\n",
        "# font_name = fm.FontProperties(fname=path, size=10).get_name()\n",
        "\n",
        "# plt.rc('font', family=font_name)\n",
        "\n",
        "# fm._rebuild()"
      ],
      "execution_count": null,
      "outputs": []
    },
    {
      "cell_type": "code",
      "metadata": {
        "id": "ZlF_KNwym_Xh"
      },
      "source": [
        "from matplotlib import pyplot as plt\n",
        "plt.rc('font', family='NanumBarunGothic')"
      ],
      "execution_count": null,
      "outputs": []
    },
    {
      "cell_type": "markdown",
      "metadata": {
        "id": "qjp_wGLQlYB4"
      },
      "source": [
        "## 01. 데이터 소개 및 분석프로세스 수립\n",
        " : \"강의자료 → 반도체 제조 공정 프로세스 Pass_Fail 수율 예측\" 참고"
      ]
    },
    {
      "cell_type": "markdown",
      "metadata": {
        "id": "ep6FDntQnDAp"
      },
      "source": [
        "## 02. 데이터 준비를 위한 EDA 및 전처리"
      ]
    },
    {
      "cell_type": "markdown",
      "metadata": {
        "id": "Uv9ytVT1OgKe"
      },
      "source": [
        "### 0. 데이터 불러오기"
      ]
    },
    {
      "cell_type": "code",
      "metadata": {
        "id": "SgL4lIYSOZxI",
        "colab": {
          "base_uri": "https://localhost:8080/",
          "height": 17
        },
        "outputId": "f1f3dc26-8058-4e3c-832f-7adeaeac6a4b"
      },
      "source": [
        "############################################## 00. 필요한 파이썬 라이브러리 불러오기 #####################################################\n",
        "import numpy as np\n",
        "import pandas as pd\n",
        "\n",
        "import matplotlib.pyplot as plt\n",
        "import seaborn as sns\n",
        "plt.style.use('fivethirtyeight')\n",
        "\n",
        "# Plotly\n",
        "import plotly.offline as py\n",
        "py.init_notebook_mode(connected=True)\n",
        "import plotly.graph_objs as go\n",
        "import plotly.tools as tls\n",
        "\n",
        "from sklearn.model_selection import train_test_split\n",
        "\n",
        "import xgboost as xgb\n",
        "from xgboost.sklearn import XGBClassifier\n",
        "from sklearn.metrics import confusion_matrix\n",
        "from sklearn.model_selection import GridSearchCV\n",
        "from imblearn.over_sampling import SMOTE\n",
        "from sklearn.model_selection import train_test_split\n",
        "from sklearn.preprocessing import StandardScaler\n",
        "from sklearn.ensemble import RandomForestClassifier\n",
        "from sklearn.linear_model import LogisticRegression\n",
        "from sklearn.linear_model import Lasso\n",
        "from sklearn.svm import OneClassSVM\n",
        "\n",
        "import warnings\n",
        "warnings.filterwarnings(\"ignore\", category=DeprecationWarning)\n"
      ],
      "execution_count": null,
      "outputs": [
        {
          "output_type": "display_data",
          "data": {
            "text/html": [
              "        <script type=\"text/javascript\">\n",
              "        window.PlotlyConfig = {MathJaxConfig: 'local'};\n",
              "        if (window.MathJax && window.MathJax.Hub && window.MathJax.Hub.Config) {window.MathJax.Hub.Config({SVG: {font: \"STIX-Web\"}});}\n",
              "        if (typeof require !== 'undefined') {\n",
              "        require.undef(\"plotly\");\n",
              "        requirejs.config({\n",
              "            paths: {\n",
              "                'plotly': ['https://cdn.plot.ly/plotly-2.18.2.min']\n",
              "            }\n",
              "        });\n",
              "        require(['plotly'], function(Plotly) {\n",
              "            window._Plotly = Plotly;\n",
              "        });\n",
              "        }\n",
              "        </script>\n",
              "        "
            ]
          },
          "metadata": {}
        }
      ]
    },
    {
      "cell_type": "code",
      "metadata": {
        "id": "MXrfM7jbOsVt",
        "colab": {
          "base_uri": "https://localhost:8080/",
          "height": 330
        },
        "outputId": "d8da4a0f-7757-477f-e388-d3a35ab775e1"
      },
      "source": [
        "data = pd.read_csv('/content/drive/MyDrive/강의/실습자료/data/ch8/uci-secom.csv')\n",
        "data.head()"
      ],
      "execution_count": null,
      "outputs": [
        {
          "output_type": "error",
          "ename": "NotADirectoryError",
          "evalue": "ignored",
          "traceback": [
            "\u001b[0;31m---------------------------------------------------------------------------\u001b[0m",
            "\u001b[0;31mNotADirectoryError\u001b[0m                        Traceback (most recent call last)",
            "\u001b[0;32m<ipython-input-6-6ffbc1bbf9d8>\u001b[0m in \u001b[0;36m<cell line: 1>\u001b[0;34m()\u001b[0m\n\u001b[0;32m----> 1\u001b[0;31m \u001b[0mdata\u001b[0m \u001b[0;34m=\u001b[0m \u001b[0mpd\u001b[0m\u001b[0;34m.\u001b[0m\u001b[0mread_csv\u001b[0m\u001b[0;34m(\u001b[0m\u001b[0;34m'/content/drive/MyDrive/강의/실습자료/data/ch8/uci-secom.csv'\u001b[0m\u001b[0;34m)\u001b[0m\u001b[0;34m\u001b[0m\u001b[0;34m\u001b[0m\u001b[0m\n\u001b[0m\u001b[1;32m      2\u001b[0m \u001b[0mdata\u001b[0m\u001b[0;34m.\u001b[0m\u001b[0mhead\u001b[0m\u001b[0;34m(\u001b[0m\u001b[0;34m)\u001b[0m\u001b[0;34m\u001b[0m\u001b[0;34m\u001b[0m\u001b[0m\n",
            "\u001b[0;32m/usr/local/lib/python3.10/dist-packages/pandas/util/_decorators.py\u001b[0m in \u001b[0;36mwrapper\u001b[0;34m(*args, **kwargs)\u001b[0m\n\u001b[1;32m    209\u001b[0m                 \u001b[0;32melse\u001b[0m\u001b[0;34m:\u001b[0m\u001b[0;34m\u001b[0m\u001b[0;34m\u001b[0m\u001b[0m\n\u001b[1;32m    210\u001b[0m                     \u001b[0mkwargs\u001b[0m\u001b[0;34m[\u001b[0m\u001b[0mnew_arg_name\u001b[0m\u001b[0;34m]\u001b[0m \u001b[0;34m=\u001b[0m \u001b[0mnew_arg_value\u001b[0m\u001b[0;34m\u001b[0m\u001b[0;34m\u001b[0m\u001b[0m\n\u001b[0;32m--> 211\u001b[0;31m             \u001b[0;32mreturn\u001b[0m \u001b[0mfunc\u001b[0m\u001b[0;34m(\u001b[0m\u001b[0;34m*\u001b[0m\u001b[0margs\u001b[0m\u001b[0;34m,\u001b[0m \u001b[0;34m**\u001b[0m\u001b[0mkwargs\u001b[0m\u001b[0;34m)\u001b[0m\u001b[0;34m\u001b[0m\u001b[0;34m\u001b[0m\u001b[0m\n\u001b[0m\u001b[1;32m    212\u001b[0m \u001b[0;34m\u001b[0m\u001b[0m\n\u001b[1;32m    213\u001b[0m         \u001b[0;32mreturn\u001b[0m \u001b[0mcast\u001b[0m\u001b[0;34m(\u001b[0m\u001b[0mF\u001b[0m\u001b[0;34m,\u001b[0m \u001b[0mwrapper\u001b[0m\u001b[0;34m)\u001b[0m\u001b[0;34m\u001b[0m\u001b[0;34m\u001b[0m\u001b[0m\n",
            "\u001b[0;32m/usr/local/lib/python3.10/dist-packages/pandas/util/_decorators.py\u001b[0m in \u001b[0;36mwrapper\u001b[0;34m(*args, **kwargs)\u001b[0m\n\u001b[1;32m    329\u001b[0m                     \u001b[0mstacklevel\u001b[0m\u001b[0;34m=\u001b[0m\u001b[0mfind_stack_level\u001b[0m\u001b[0;34m(\u001b[0m\u001b[0;34m)\u001b[0m\u001b[0;34m,\u001b[0m\u001b[0;34m\u001b[0m\u001b[0;34m\u001b[0m\u001b[0m\n\u001b[1;32m    330\u001b[0m                 )\n\u001b[0;32m--> 331\u001b[0;31m             \u001b[0;32mreturn\u001b[0m \u001b[0mfunc\u001b[0m\u001b[0;34m(\u001b[0m\u001b[0;34m*\u001b[0m\u001b[0margs\u001b[0m\u001b[0;34m,\u001b[0m \u001b[0;34m**\u001b[0m\u001b[0mkwargs\u001b[0m\u001b[0;34m)\u001b[0m\u001b[0;34m\u001b[0m\u001b[0;34m\u001b[0m\u001b[0m\n\u001b[0m\u001b[1;32m    332\u001b[0m \u001b[0;34m\u001b[0m\u001b[0m\n\u001b[1;32m    333\u001b[0m         \u001b[0;31m# error: \"Callable[[VarArg(Any), KwArg(Any)], Any]\" has no\u001b[0m\u001b[0;34m\u001b[0m\u001b[0;34m\u001b[0m\u001b[0m\n",
            "\u001b[0;32m/usr/local/lib/python3.10/dist-packages/pandas/io/parsers/readers.py\u001b[0m in \u001b[0;36mread_csv\u001b[0;34m(filepath_or_buffer, sep, delimiter, header, names, index_col, usecols, squeeze, prefix, mangle_dupe_cols, dtype, engine, converters, true_values, false_values, skipinitialspace, skiprows, skipfooter, nrows, na_values, keep_default_na, na_filter, verbose, skip_blank_lines, parse_dates, infer_datetime_format, keep_date_col, date_parser, dayfirst, cache_dates, iterator, chunksize, compression, thousands, decimal, lineterminator, quotechar, quoting, doublequote, escapechar, comment, encoding, encoding_errors, dialect, error_bad_lines, warn_bad_lines, on_bad_lines, delim_whitespace, low_memory, memory_map, float_precision, storage_options)\u001b[0m\n\u001b[1;32m    948\u001b[0m     \u001b[0mkwds\u001b[0m\u001b[0;34m.\u001b[0m\u001b[0mupdate\u001b[0m\u001b[0;34m(\u001b[0m\u001b[0mkwds_defaults\u001b[0m\u001b[0;34m)\u001b[0m\u001b[0;34m\u001b[0m\u001b[0;34m\u001b[0m\u001b[0m\n\u001b[1;32m    949\u001b[0m \u001b[0;34m\u001b[0m\u001b[0m\n\u001b[0;32m--> 950\u001b[0;31m     \u001b[0;32mreturn\u001b[0m \u001b[0m_read\u001b[0m\u001b[0;34m(\u001b[0m\u001b[0mfilepath_or_buffer\u001b[0m\u001b[0;34m,\u001b[0m \u001b[0mkwds\u001b[0m\u001b[0;34m)\u001b[0m\u001b[0;34m\u001b[0m\u001b[0;34m\u001b[0m\u001b[0m\n\u001b[0m\u001b[1;32m    951\u001b[0m \u001b[0;34m\u001b[0m\u001b[0m\n\u001b[1;32m    952\u001b[0m \u001b[0;34m\u001b[0m\u001b[0m\n",
            "\u001b[0;32m/usr/local/lib/python3.10/dist-packages/pandas/io/parsers/readers.py\u001b[0m in \u001b[0;36m_read\u001b[0;34m(filepath_or_buffer, kwds)\u001b[0m\n\u001b[1;32m    603\u001b[0m \u001b[0;34m\u001b[0m\u001b[0m\n\u001b[1;32m    604\u001b[0m     \u001b[0;31m# Create the parser.\u001b[0m\u001b[0;34m\u001b[0m\u001b[0;34m\u001b[0m\u001b[0m\n\u001b[0;32m--> 605\u001b[0;31m     \u001b[0mparser\u001b[0m \u001b[0;34m=\u001b[0m \u001b[0mTextFileReader\u001b[0m\u001b[0;34m(\u001b[0m\u001b[0mfilepath_or_buffer\u001b[0m\u001b[0;34m,\u001b[0m \u001b[0;34m**\u001b[0m\u001b[0mkwds\u001b[0m\u001b[0;34m)\u001b[0m\u001b[0;34m\u001b[0m\u001b[0;34m\u001b[0m\u001b[0m\n\u001b[0m\u001b[1;32m    606\u001b[0m \u001b[0;34m\u001b[0m\u001b[0m\n\u001b[1;32m    607\u001b[0m     \u001b[0;32mif\u001b[0m \u001b[0mchunksize\u001b[0m \u001b[0;32mor\u001b[0m \u001b[0miterator\u001b[0m\u001b[0;34m:\u001b[0m\u001b[0;34m\u001b[0m\u001b[0;34m\u001b[0m\u001b[0m\n",
            "\u001b[0;32m/usr/local/lib/python3.10/dist-packages/pandas/io/parsers/readers.py\u001b[0m in \u001b[0;36m__init__\u001b[0;34m(self, f, engine, **kwds)\u001b[0m\n\u001b[1;32m   1440\u001b[0m \u001b[0;34m\u001b[0m\u001b[0m\n\u001b[1;32m   1441\u001b[0m         \u001b[0mself\u001b[0m\u001b[0;34m.\u001b[0m\u001b[0mhandles\u001b[0m\u001b[0;34m:\u001b[0m \u001b[0mIOHandles\u001b[0m \u001b[0;34m|\u001b[0m \u001b[0;32mNone\u001b[0m \u001b[0;34m=\u001b[0m \u001b[0;32mNone\u001b[0m\u001b[0;34m\u001b[0m\u001b[0;34m\u001b[0m\u001b[0m\n\u001b[0;32m-> 1442\u001b[0;31m         \u001b[0mself\u001b[0m\u001b[0;34m.\u001b[0m\u001b[0m_engine\u001b[0m \u001b[0;34m=\u001b[0m \u001b[0mself\u001b[0m\u001b[0;34m.\u001b[0m\u001b[0m_make_engine\u001b[0m\u001b[0;34m(\u001b[0m\u001b[0mf\u001b[0m\u001b[0;34m,\u001b[0m \u001b[0mself\u001b[0m\u001b[0;34m.\u001b[0m\u001b[0mengine\u001b[0m\u001b[0;34m)\u001b[0m\u001b[0;34m\u001b[0m\u001b[0;34m\u001b[0m\u001b[0m\n\u001b[0m\u001b[1;32m   1443\u001b[0m \u001b[0;34m\u001b[0m\u001b[0m\n\u001b[1;32m   1444\u001b[0m     \u001b[0;32mdef\u001b[0m \u001b[0mclose\u001b[0m\u001b[0;34m(\u001b[0m\u001b[0mself\u001b[0m\u001b[0;34m)\u001b[0m \u001b[0;34m->\u001b[0m \u001b[0;32mNone\u001b[0m\u001b[0;34m:\u001b[0m\u001b[0;34m\u001b[0m\u001b[0;34m\u001b[0m\u001b[0m\n",
            "\u001b[0;32m/usr/local/lib/python3.10/dist-packages/pandas/io/parsers/readers.py\u001b[0m in \u001b[0;36m_make_engine\u001b[0;34m(self, f, engine)\u001b[0m\n\u001b[1;32m   1733\u001b[0m                 \u001b[0;32mif\u001b[0m \u001b[0;34m\"b\"\u001b[0m \u001b[0;32mnot\u001b[0m \u001b[0;32min\u001b[0m \u001b[0mmode\u001b[0m\u001b[0;34m:\u001b[0m\u001b[0;34m\u001b[0m\u001b[0;34m\u001b[0m\u001b[0m\n\u001b[1;32m   1734\u001b[0m                     \u001b[0mmode\u001b[0m \u001b[0;34m+=\u001b[0m \u001b[0;34m\"b\"\u001b[0m\u001b[0;34m\u001b[0m\u001b[0;34m\u001b[0m\u001b[0m\n\u001b[0;32m-> 1735\u001b[0;31m             self.handles = get_handle(\n\u001b[0m\u001b[1;32m   1736\u001b[0m                 \u001b[0mf\u001b[0m\u001b[0;34m,\u001b[0m\u001b[0;34m\u001b[0m\u001b[0;34m\u001b[0m\u001b[0m\n\u001b[1;32m   1737\u001b[0m                 \u001b[0mmode\u001b[0m\u001b[0;34m,\u001b[0m\u001b[0;34m\u001b[0m\u001b[0;34m\u001b[0m\u001b[0m\n",
            "\u001b[0;32m/usr/local/lib/python3.10/dist-packages/pandas/io/common.py\u001b[0m in \u001b[0;36mget_handle\u001b[0;34m(path_or_buf, mode, encoding, compression, memory_map, is_text, errors, storage_options)\u001b[0m\n\u001b[1;32m    854\u001b[0m         \u001b[0;32mif\u001b[0m \u001b[0mioargs\u001b[0m\u001b[0;34m.\u001b[0m\u001b[0mencoding\u001b[0m \u001b[0;32mand\u001b[0m \u001b[0;34m\"b\"\u001b[0m \u001b[0;32mnot\u001b[0m \u001b[0;32min\u001b[0m \u001b[0mioargs\u001b[0m\u001b[0;34m.\u001b[0m\u001b[0mmode\u001b[0m\u001b[0;34m:\u001b[0m\u001b[0;34m\u001b[0m\u001b[0;34m\u001b[0m\u001b[0m\n\u001b[1;32m    855\u001b[0m             \u001b[0;31m# Encoding\u001b[0m\u001b[0;34m\u001b[0m\u001b[0;34m\u001b[0m\u001b[0m\n\u001b[0;32m--> 856\u001b[0;31m             handle = open(\n\u001b[0m\u001b[1;32m    857\u001b[0m                 \u001b[0mhandle\u001b[0m\u001b[0;34m,\u001b[0m\u001b[0;34m\u001b[0m\u001b[0;34m\u001b[0m\u001b[0m\n\u001b[1;32m    858\u001b[0m                 \u001b[0mioargs\u001b[0m\u001b[0;34m.\u001b[0m\u001b[0mmode\u001b[0m\u001b[0;34m,\u001b[0m\u001b[0;34m\u001b[0m\u001b[0;34m\u001b[0m\u001b[0m\n",
            "\u001b[0;31mNotADirectoryError\u001b[0m: [Errno 20] Not a directory: '/content/drive/MyDrive/강의/실습자료/data/ch8/uci-secom.csv'"
          ]
        }
      ]
    },
    {
      "cell_type": "code",
      "metadata": {
        "id": "C8kIQhKOnc5-"
      },
      "source": [
        "# 데이터의 모양 알아보기\n",
        "data.shape"
      ],
      "execution_count": null,
      "outputs": []
    },
    {
      "cell_type": "markdown",
      "metadata": {
        "id": "BorUNbO_ojNl"
      },
      "source": [
        "### 1. 데이터 탐색\n",
        "\n"
      ]
    },
    {
      "cell_type": "markdown",
      "metadata": {
        "id": "6B2_vs-HolhY"
      },
      "source": [
        "#### 1) 데이터 타입"
      ]
    },
    {
      "cell_type": "code",
      "metadata": {
        "id": "zMLPFmYGondK"
      },
      "source": [
        "# 컬럼별 데이터 타입 알아보기\n",
        "data.info()"
      ],
      "execution_count": null,
      "outputs": []
    },
    {
      "cell_type": "markdown",
      "metadata": {
        "id": "IzIsPEe6o2Uc"
      },
      "source": [
        "#### 2) 데이터 통계값"
      ]
    },
    {
      "cell_type": "code",
      "metadata": {
        "id": "-h-onVC0op0m"
      },
      "source": [
        "# 컬럼별 간단한 통계값 보기\n",
        "data.describe()"
      ],
      "execution_count": null,
      "outputs": []
    },
    {
      "cell_type": "markdown",
      "metadata": {
        "id": "_yHRqCogpKG3"
      },
      "source": [
        "#### 3) 결측값"
      ]
    },
    {
      "cell_type": "code",
      "metadata": {
        "id": "iFkH-PKjO274"
      },
      "source": [
        "data.isnull().any().any()"
      ],
      "execution_count": null,
      "outputs": []
    },
    {
      "cell_type": "markdown",
      "metadata": {
        "id": "HBg5rYiPp79z"
      },
      "source": [
        "#### 4) 중복값"
      ]
    },
    {
      "cell_type": "code",
      "metadata": {
        "id": "73k1FjSSp-cX"
      },
      "source": [
        "# 중복된 항목 수 알아보기\n",
        "print(\"중복된 항목 수 :\", len(data[data.duplicated()]))"
      ],
      "execution_count": null,
      "outputs": []
    },
    {
      "cell_type": "markdown",
      "metadata": {
        "id": "wyl8zS9bqEj2"
      },
      "source": [
        "### 2. 데이터 전처리"
      ]
    },
    {
      "cell_type": "markdown",
      "metadata": {
        "id": "WIPuVQiCqpRJ"
      },
      "source": [
        "#### 1. 결측값 채우기"
      ]
    },
    {
      "cell_type": "code",
      "metadata": {
        "id": "oxdTC2wLPkN5"
      },
      "source": [
        "# NaN 을 0으로 채우기\n",
        "###### 코드 작성 부분 시작 ######\n",
        "\n",
        "###### 코드 작성 부분 마침 ######\n",
        "\n",
        "# 결측값 확인\n",
        "data.isnull().any().any()"
      ],
      "execution_count": null,
      "outputs": []
    },
    {
      "cell_type": "markdown",
      "metadata": {
        "id": "Yz90nQdaxLjW"
      },
      "source": [
        "### 3. Target Feature 정의\n",
        "\n"
      ]
    },
    {
      "cell_type": "markdown",
      "metadata": {
        "id": "yWNWel4z1q-f"
      },
      "source": [
        "#### 1) 데이터 탐색"
      ]
    },
    {
      "cell_type": "code",
      "metadata": {
        "id": "eJ6O0MtixVe6"
      },
      "source": [
        "data['Pass/Fail'].unique()"
      ],
      "execution_count": null,
      "outputs": []
    },
    {
      "cell_type": "markdown",
      "metadata": {
        "id": "Liox5yQx2qBn"
      },
      "source": [
        "> Pie Chart"
      ]
    },
    {
      "cell_type": "code",
      "metadata": {
        "id": "_2-2CNO1PqPj"
      },
      "source": [
        "labels = ['Pass', 'Fail']\n",
        "size = data['Pass/Fail'].value_counts()\n",
        "colors = ['blue', 'green']\n",
        "explode = [0, 0.1]\n",
        "\n",
        "plt.style.use('seaborn-deep')\n",
        "plt.rcParams['figure.figsize'] = (8, 8)\n",
        "plt.pie(size, labels =labels, colors = colors, explode = explode, autopct = \"%.2f%%\", shadow = True)\n",
        "plt.axis('off')\n",
        "plt.title('Target: Pass or Fail', fontsize = 20)\n",
        "plt.legend()\n",
        "plt.show()\n",
        "data['Pass/Fail'].value_counts().plot(kind=\"bar\");"
      ],
      "execution_count": null,
      "outputs": []
    },
    {
      "cell_type": "markdown",
      "metadata": {
        "id": "qIeiU7l02wY0"
      },
      "source": [
        "* 매우 불균형한 데이터"
      ]
    },
    {
      "cell_type": "markdown",
      "metadata": {
        "id": "IgTMFE43PmxG"
      },
      "source": [
        "#### 2) 각 센서별 Target Feature 분포"
      ]
    },
    {
      "cell_type": "code",
      "metadata": {
        "id": "q53KBM1CPnD_"
      },
      "source": [
        "unique_vals = data['Pass/Fail'].unique()\n",
        "# Pass 와 Fail 인 데이터 나눠서 탐색해보기\n",
        "###### 코드 작성 부분 시작 ######\n",
        "\n",
        "###### 코드 작성 부분 마침 ######"
      ],
      "execution_count": null,
      "outputs": []
    },
    {
      "cell_type": "code",
      "metadata": {
        "id": "lElTKR32y8H4"
      },
      "source": [
        "targets"
      ],
      "execution_count": null,
      "outputs": []
    },
    {
      "cell_type": "code",
      "metadata": {
        "id": "MDtMejSQPoFv"
      },
      "source": [
        "fig = plt.figure(figsize=(20,20))\n",
        "\n",
        "plt.subplot(2, 2, 1)\n",
        "for target in targets:\n",
        "    sns.distplot(target['1'], hist=True, rug=True)\n",
        "plt.title('1번 센서 계측값', fontsize = 20)\n",
        "\n",
        "plt.subplot(2, 2, 2)\n",
        "for target in targets:\n",
        "    sns.distplot(target['2'], hist=True, rug=True)\n",
        "plt.title('2번 센서 계측값', fontsize = 20)\n",
        "\n",
        "plt.subplot(2, 2, 3)\n",
        "for target in targets:\n",
        "    sns.distplot(target['3'], hist=True, rug=True)\n",
        "plt.title('3번 센서 계측값', fontsize = 20)\n",
        "\n",
        "plt.subplot(2, 2, 4)\n",
        "for target in targets:\n",
        "    sns.distplot(target['4'], hist=True, rug=True)\n",
        "plt.title('4번 센서 계측값', fontsize = 20)\n",
        "\n",
        "fig.legend(labels=['Pass','Fail'])\n",
        "plt.show()"
      ],
      "execution_count": null,
      "outputs": []
    },
    {
      "cell_type": "markdown",
      "metadata": {
        "id": "-KZA7K1b3KgS"
      },
      "source": [
        "### 4. 상관성에 따른 Feature 정제"
      ]
    },
    {
      "cell_type": "markdown",
      "metadata": {
        "id": "-68nIKJIQF_c"
      },
      "source": [
        "#### 1) 히트맵 확인"
      ]
    },
    {
      "cell_type": "code",
      "metadata": {
        "id": "janGaH9SPxDh"
      },
      "source": [
        "plt.rcParams['figure.figsize'] = (18, 18)\n",
        "# Seaborn Heatmap 그려보기\n",
        "###### 코드 작성 부분 시작 ######\n",
        "# sns.\n",
        "###### 코드 작성 부분 마침 ######\n",
        "plt.title('상관 히트맵', fontsize = 20)"
      ],
      "execution_count": null,
      "outputs": []
    },
    {
      "cell_type": "markdown",
      "metadata": {
        "id": "CtueKDrD4j-3"
      },
      "source": [
        "#### 2) 상관계수"
      ]
    },
    {
      "cell_type": "markdown",
      "metadata": {
        "id": "arRufcj2W36t"
      },
      "source": [
        "##### 상관계수 필터링 함수"
      ]
    },
    {
      "cell_type": "markdown",
      "metadata": {
        "id": "UVJKcFPFXGVH"
      },
      "source": [
        "> 입력한 상관계수 threshold 에 따라 Feature 들 필터링하는 함수 정의"
      ]
    },
    {
      "cell_type": "code",
      "metadata": {
        "id": "o3um09-9Xsb2"
      },
      "source": [
        "# 상관계수 구하기\n",
        "###### 코드 작성 부분 시작 ######\n",
        "\n",
        "###### 코드 작성 부분 마침 ######"
      ],
      "execution_count": null,
      "outputs": []
    },
    {
      "cell_type": "code",
      "metadata": {
        "id": "1iU3Fx-WQGQ6"
      },
      "source": [
        "def remove_collinear_features(x, threshold):\n",
        "    # 데이터프레임 x 의 상관계수 구하기\n",
        "    corr_matrix = x.corr()\n",
        "    # Pass / Fail 을 제외한 컬럼수\n",
        "    iters = range(len(corr_matrix.columns) - 1)\n",
        "    # 제거할 컬럼들 저장할 리스트\n",
        "    drop_cols = []\n",
        "\n",
        "    for i in iters:\n",
        "        for j in range(i+1):\n",
        "\n",
        "            # j행 (i+1)열 상관계수 가져오기\n",
        "            ###### 코드 작성 부분 시작 ######\n",
        "            # item=\n",
        "            ###### 코드 작성 부분 마침 ######\n",
        "            # 상관계수 셀의 컬럼명 가져오기\n",
        "            col = item.columns\n",
        "            # 상관계수 셀의 행 인덱스 가져오기\n",
        "            row = item.index\n",
        "            # 상관계수의 절대값\n",
        "            val = abs(item.values)\n",
        "\n",
        "            if val >= threshold:\n",
        "                print(col.values[0], \"열\", row.values[0], \"행의 상관계수 : \", round(val[0][0], 2))\n",
        "                drop_cols.append(col.values[0])\n",
        "\n",
        "    drops = set(drop_cols)\n",
        "    x = x.drop(columns=drops)\n",
        "\n",
        "    return x"
      ],
      "execution_count": null,
      "outputs": []
    },
    {
      "cell_type": "code",
      "metadata": {
        "id": "GSp3ugqIQH5W"
      },
      "source": [
        "threshold = 0.70\n",
        "data = remove_collinear_features(data,threshold)"
      ],
      "execution_count": null,
      "outputs": []
    },
    {
      "cell_type": "markdown",
      "metadata": {
        "id": "DtlnXNa8Z1LI"
      },
      "source": [
        "#### 3) 머신러닝 모델 입력 데이터 생성"
      ]
    },
    {
      "cell_type": "code",
      "metadata": {
        "id": "Dt-fz1wzQJBZ"
      },
      "source": [
        "# Time 컬럼 삭제\n",
        "data = data.drop(columns = ['Time'], axis = 1)"
      ],
      "execution_count": null,
      "outputs": []
    },
    {
      "cell_type": "code",
      "metadata": {
        "id": "PKfofXSoaicW"
      },
      "source": [
        "data.shape"
      ],
      "execution_count": null,
      "outputs": []
    },
    {
      "cell_type": "code",
      "metadata": {
        "id": "qy4ZCCpJQRnR"
      },
      "source": [
        "data.head()"
      ],
      "execution_count": null,
      "outputs": []
    },
    {
      "cell_type": "markdown",
      "metadata": {
        "id": "ySdslBEDlMcb"
      },
      "source": [
        "### 5. Target Feature 불균형 문제 처리"
      ]
    },
    {
      "cell_type": "markdown",
      "metadata": {
        "id": "CPDaL3-ilVtR"
      },
      "source": [
        "#### 1. UnderSampling"
      ]
    },
    {
      "cell_type": "markdown",
      "metadata": {
        "id": "Lymx_o7SlbA6"
      },
      "source": [
        "> 데이터 탐색"
      ]
    },
    {
      "cell_type": "code",
      "metadata": {
        "id": "b8HnJRQNTa-0"
      },
      "source": [
        "failed_tests = np.array(data[data['Pass/Fail'] == 1].index)\n",
        "no_failed_tests = len(failed_tests)\n",
        "\n",
        "print(no_failed_tests)"
      ],
      "execution_count": null,
      "outputs": []
    },
    {
      "cell_type": "code",
      "metadata": {
        "id": "tm8HtAxQTvTW"
      },
      "source": [
        "normal_indices = data[data['Pass/Fail'] == -1]\n",
        "no_normal_indices = len(normal_indices)\n",
        "\n",
        "print(no_normal_indices)"
      ],
      "execution_count": null,
      "outputs": []
    },
    {
      "cell_type": "code",
      "metadata": {
        "id": "Gq3iZa-DTwZ7"
      },
      "source": [
        "# Pass 라벨(값이 1)에서 랜덤으로 104개 가져오기\n",
        "###### 코드 작성 부분 시작 ######\n",
        "# random_normal_indices =\n",
        "###### 코드 작성 부분 마침 ######\n",
        "\n",
        "print(len(random_normal_indices))"
      ],
      "execution_count": null,
      "outputs": []
    },
    {
      "cell_type": "code",
      "metadata": {
        "id": "JQ0oErUuTxiD"
      },
      "source": [
        "# 같은 비율로 합친 Pass/Fail 데이터 생성\n",
        "under_sample = np.concatenate([failed_tests, random_normal_indices])\n",
        "print(len(under_sample))"
      ],
      "execution_count": null,
      "outputs": []
    },
    {
      "cell_type": "code",
      "metadata": {
        "id": "-pYr63DdTy36"
      },
      "source": [
        "undersample_data = data.iloc[under_sample, :]"
      ],
      "execution_count": null,
      "outputs": []
    },
    {
      "cell_type": "code",
      "metadata": {
        "id": "R_HiYCPAT0JA"
      },
      "source": [
        "x = undersample_data.iloc[:, undersample_data.columns != 'Pass/Fail']\n",
        "y = undersample_data.iloc[:, undersample_data.columns == 'Pass/Fail']\n",
        "\n",
        "print(x.shape)\n",
        "print(y.shape)"
      ],
      "execution_count": null,
      "outputs": []
    },
    {
      "cell_type": "code",
      "metadata": {
        "id": "FqdgJdfLT1bo"
      },
      "source": [
        "# 언더샘플링 데이터 훈련/테스트 데이터 분할\n",
        "from sklearn.model_selection import train_test_split\n",
        "\n",
        "x_train_us, x_test_us, y_train_us, y_test_us = train_test_split(x, y, test_size = 0.3, random_state = 1)\n",
        "\n",
        "print(x_train_us.shape)\n",
        "print(y_train_us.shape)\n",
        "print(x_test_us.shape)\n",
        "print(y_test_us.shape)"
      ],
      "execution_count": null,
      "outputs": []
    },
    {
      "cell_type": "code",
      "metadata": {
        "id": "V3WOQJSNT265"
      },
      "source": [
        "# StandardScaler 적용\n",
        "###### 코드 작성 부분 시작 ######\n",
        "# sc =\n",
        "# x_train_us =\n",
        "# x_test_us =\n",
        "###### 코드 작성 부분 마침 ######"
      ],
      "execution_count": null,
      "outputs": []
    },
    {
      "cell_type": "markdown",
      "metadata": {
        "id": "nA4Ye0_Nm-F7"
      },
      "source": [
        "#### 2. OverSampling using SMOTE"
      ]
    },
    {
      "cell_type": "code",
      "metadata": {
        "id": "o1JfNs08UaKy"
      },
      "source": [
        "# SMOTE 적용\n",
        "###### 코드 작성 부분 시작 ######\n",
        "# x_resample, y_resample =\n",
        "###### 코드 작성 부분 마침 ######\n",
        "\n",
        "print(x_resample.shape)\n",
        "print(y_resample.shape)"
      ],
      "execution_count": null,
      "outputs": []
    },
    {
      "cell_type": "code",
      "metadata": {
        "id": "cHw9dffbUbUa"
      },
      "source": [
        "x_train_os, x_test_os, y_train_os, y_test_os = train_test_split(x, y, test_size = 0.3, random_state = 1)\n",
        "\n",
        "print(x_train_os.shape)\n",
        "print(y_train_os.shape)\n",
        "print(x_test_os.shape)\n",
        "print(y_test_os.shape)"
      ],
      "execution_count": null,
      "outputs": []
    },
    {
      "cell_type": "code",
      "metadata": {
        "id": "9pItg-XwUdJi"
      },
      "source": [
        "# standardScale 적용\n",
        "sc = StandardScaler()\n",
        "x_train_os = sc.fit_transform(x_train_os)\n",
        "x_test_os = sc.transform(x_test_os)"
      ],
      "execution_count": null,
      "outputs": []
    },
    {
      "cell_type": "markdown",
      "metadata": {
        "id": "7KJjzOjravsd"
      },
      "source": [
        "## 03. 머신러닝 모델링"
      ]
    },
    {
      "cell_type": "markdown",
      "metadata": {
        "id": "kwLUmMbEbJft"
      },
      "source": [
        "### 1) 데이터 준비"
      ]
    },
    {
      "cell_type": "code",
      "metadata": {
        "id": "-XhibSd3QVOP"
      },
      "source": [
        "x = data.iloc[:,:(data.shape[1]-1)]\n",
        "y = data[\"Pass/Fail\"]\n",
        "\n",
        "print(\"shape of x:\", x.shape)\n",
        "print(\"shape of y:\", y.shape)"
      ],
      "execution_count": null,
      "outputs": []
    },
    {
      "cell_type": "code",
      "metadata": {
        "id": "9LdbDmAGQWg5"
      },
      "source": [
        "# 훈련/테스트 데이터 세트 나누기\n",
        "x_train, x_test, y_train, y_test = train_test_split(x, y, test_size = 0.3, random_state = 1)\n",
        "\n",
        "print(\"shape of x_train: \", x_train.shape)\n",
        "print(\"shape of x_test: \", x_test.shape)\n",
        "print(\"shape of y_train: \", y_train.shape)\n",
        "print(\"shape of y_test: \", y_test.shape)"
      ],
      "execution_count": null,
      "outputs": []
    },
    {
      "cell_type": "markdown",
      "metadata": {
        "id": "usaRSDxKNZlB"
      },
      "source": [
        "### 2) 다양한 Classifier 와 Grid Search 를 활용한 최적 모델 탐색\n",
        "\n"
      ]
    },
    {
      "cell_type": "markdown",
      "metadata": {
        "id": "jGfK_Kvlbzz6"
      },
      "source": [
        "#### 1. Feature Scailing"
      ]
    },
    {
      "cell_type": "code",
      "metadata": {
        "id": "RTPP1nzyQYrv"
      },
      "source": [
        "from sklearn.preprocessing import StandardScaler\n",
        "\n",
        "# StandardScaler 선언\n",
        "sc = StandardScaler()\n",
        "# StandardScaler 에 fit_transform\n",
        "x_train = sc.fit_transform(x_train)\n",
        "x_test = sc.transform(x_test)"
      ],
      "execution_count": null,
      "outputs": []
    },
    {
      "cell_type": "markdown",
      "metadata": {
        "id": "90KTaAJKQbxZ"
      },
      "source": [
        "#### 2. XGBoost (Scaled 데이터)"
      ]
    },
    {
      "cell_type": "code",
      "metadata": {
        "id": "PxSfHldRQcLr"
      },
      "source": [
        "xg = XGBClassifier(random_state=1)\n",
        "xg.fit(x_train, y_train)\n",
        "y_pred = xg.predict(x_test)"
      ],
      "execution_count": null,
      "outputs": []
    },
    {
      "cell_type": "markdown",
      "metadata": {
        "id": "-cM43M3meBj4"
      },
      "source": [
        "> Confusion Matrix"
      ]
    },
    {
      "cell_type": "code",
      "metadata": {
        "id": "zV-RUbEgQehz"
      },
      "source": [
        "cm = confusion_matrix(y_test, y_pred)\n",
        "plt.rcParams['figure.figsize'] = (5, 5)\n",
        "sns.set(style = 'dark', font_scale = 1.4)\n",
        "sns.heatmap(cm, annot = True, annot_kws = {\"size\": 15})"
      ],
      "execution_count": null,
      "outputs": []
    },
    {
      "cell_type": "code",
      "metadata": {
        "id": "EGH1-aOMQaN3"
      },
      "source": [
        "print(\"Accuracy: \", xg.score(x_test,y_test)*100)"
      ],
      "execution_count": null,
      "outputs": []
    },
    {
      "cell_type": "markdown",
      "metadata": {
        "id": "MWLtZ9JsQmU4"
      },
      "source": [
        "#### 3. RandomForest (Scaled 데이터)"
      ]
    },
    {
      "cell_type": "code",
      "metadata": {
        "id": "pqWPknQGQCzI"
      },
      "source": [
        "# RandomForest 모델링\n",
        "###### 코드 작성 부분 시작 ######\n",
        "# rf =\n",
        "# rf.\n",
        "# y_pred =\n",
        "###### 코드 작성 부분 마침 ######"
      ],
      "execution_count": null,
      "outputs": []
    },
    {
      "cell_type": "markdown",
      "metadata": {
        "id": "HEPCykAJgMSy"
      },
      "source": [
        "> Confusion Matrix"
      ]
    },
    {
      "cell_type": "code",
      "metadata": {
        "id": "q4anHK9nRAZ-"
      },
      "source": [
        "# confusion matrix 생성\n",
        "###### 코드 작성 부분 시작 ######\n",
        "# cm =\n",
        "###### 코드 작성 부분 마침 ######\n",
        "plt.rcParams['figure.figsize'] = (5, 5)\n",
        "sns.set(style = 'dark', font_scale = 1.4)\n",
        "sns.heatmap(cm, annot = True, annot_kws = {\"size\": 15})"
      ],
      "execution_count": null,
      "outputs": []
    },
    {
      "cell_type": "code",
      "metadata": {
        "id": "L9fokQsIRBWa"
      },
      "source": [
        "print(\"Accuracy: \", rf.score(x_test,y_test)*100)"
      ],
      "execution_count": null,
      "outputs": []
    },
    {
      "cell_type": "markdown",
      "metadata": {
        "id": "eq2WuZ04RMXk"
      },
      "source": [
        "#### 4. Logistic Regression (Scaled 데이터)"
      ]
    },
    {
      "cell_type": "code",
      "metadata": {
        "id": "At-ZQCQ3PlYc"
      },
      "source": [
        "# Logistic Regression 생성\n",
        "###### 코드 작성 부분 시작 ######\n",
        "# lr =\n",
        "###### 코드 작성 부분 마침 ######"
      ],
      "execution_count": null,
      "outputs": []
    },
    {
      "cell_type": "markdown",
      "metadata": {
        "id": "LtnDnQTChC-X"
      },
      "source": [
        "> Confusion Matrix"
      ]
    },
    {
      "cell_type": "code",
      "metadata": {
        "id": "GvUj_X-yRRb6"
      },
      "source": [
        "cm = confusion_matrix(y_test, y_pred)\n",
        "plt.rcParams['figure.figsize'] = (5, 5)\n",
        "sns.set(style = 'dark', font_scale = 1.4)\n",
        "sns.heatmap(cm, annot = True, annot_kws = {\"size\": 15})"
      ],
      "execution_count": null,
      "outputs": []
    },
    {
      "cell_type": "code",
      "metadata": {
        "id": "jo75ht4ERSaY"
      },
      "source": [
        "print(\"Accuracy: \", lr.score(x_test,y_test)*100)"
      ],
      "execution_count": null,
      "outputs": []
    },
    {
      "cell_type": "markdown",
      "metadata": {
        "id": "5uItRCeJTPsa"
      },
      "source": [
        "#### 5. Lasso (Scaled 데이터)"
      ]
    },
    {
      "cell_type": "code",
      "metadata": {
        "id": "X5K3ZXGjSd8g"
      },
      "source": [
        "lasso = Lasso(alpha=0.1,random_state=1)\n",
        "lasso.fit(x_train,y_train)\n",
        "y_pred = lasso.predict(x_test)"
      ],
      "execution_count": null,
      "outputs": []
    },
    {
      "cell_type": "code",
      "metadata": {
        "id": "3uZHHHHfifYj"
      },
      "source": [
        "# 예측값의 부호를 classifier 로 변환\n",
        "y_pred2 = np.sign(y_pred)"
      ],
      "execution_count": null,
      "outputs": []
    },
    {
      "cell_type": "code",
      "metadata": {
        "id": "cBSKd1hYTTlP"
      },
      "source": [
        "print(\"Accuracy: \", lasso.score(x_test,y_test)*100)"
      ],
      "execution_count": null,
      "outputs": []
    },
    {
      "cell_type": "markdown",
      "metadata": {
        "id": "2_PqY6APkjPh"
      },
      "source": [
        "> Confusion Matrix"
      ]
    },
    {
      "cell_type": "code",
      "metadata": {
        "id": "n2thOrF-TUnv"
      },
      "source": [
        "cm = confusion_matrix(y_test, y_pred2)\n",
        "sns.heatmap(cm, annot = True, cmap = 'rainbow')"
      ],
      "execution_count": null,
      "outputs": []
    },
    {
      "cell_type": "markdown",
      "metadata": {
        "id": "PKeV4HP0n0IA"
      },
      "source": [
        "### 3) 언더샘플링 데이터 대상 재모델링"
      ]
    },
    {
      "cell_type": "markdown",
      "metadata": {
        "id": "DZjodOW1T5Mt"
      },
      "source": [
        "#### 1. XGBoost (Undersampled 데이터)"
      ]
    },
    {
      "cell_type": "code",
      "metadata": {
        "id": "Ot86JtGhT4RZ"
      },
      "source": [
        "model = XGBClassifier(random_state=1)\n",
        "model.fit(x_train_us, y_train_us)\n",
        "y_pred = model.predict(x_test_us)"
      ],
      "execution_count": null,
      "outputs": []
    },
    {
      "cell_type": "markdown",
      "metadata": {
        "id": "eXqLTCvAT_3B"
      },
      "source": [
        "> Confusion Matrix"
      ]
    },
    {
      "cell_type": "code",
      "metadata": {
        "id": "ZcY-3ssAT9SF"
      },
      "source": [
        "cm = confusion_matrix(y_test_us, y_pred)\n",
        "\n",
        "plt.rcParams['figure.figsize'] = (5, 5)\n",
        "sns.set(style = 'dark', font_scale = 1.4)\n",
        "sns.heatmap(cm, annot = True, annot_kws = {\"size\": 15})"
      ],
      "execution_count": null,
      "outputs": []
    },
    {
      "cell_type": "code",
      "metadata": {
        "id": "k9HgNyebTfT4"
      },
      "source": [
        "print(\"Accuracy: \", model.score(x_test,y_test)*100)"
      ],
      "execution_count": null,
      "outputs": []
    },
    {
      "cell_type": "markdown",
      "metadata": {
        "id": "PAj8SqlHUG14"
      },
      "source": [
        "#### 2. Grid Search - XGBoost (Undersampled 데이터)"
      ]
    },
    {
      "cell_type": "code",
      "metadata": {
        "id": "FiXLS1EnUFJ5"
      },
      "source": [
        "parameters = [{'max_depth' : [1, 2, 3, 4, 5, 6],\n",
        "              'cv' : [2,4,6,8,10],\n",
        "              'random_state' : [1]}]\n",
        "\n",
        "# GridSearchCV 생성\n",
        "###### 코드 작성 부분 시작 ######\n",
        "# grid_search =\n",
        "###### 코드 작성 부분 마침 ######\n",
        "\n",
        "grid_search = grid_search.fit(x_train_us, y_train_us)\n",
        "best_accuracy = grid_search.best_score_\n",
        "best_parameters = grid_search.best_params_"
      ],
      "execution_count": null,
      "outputs": []
    },
    {
      "cell_type": "code",
      "metadata": {
        "id": "jyI-4353UK1Y"
      },
      "source": [
        "print(\"Best Accuracy: \", best_accuracy*100)\n",
        "print(\"Best Parameter: \", best_parameters)"
      ],
      "execution_count": null,
      "outputs": []
    },
    {
      "cell_type": "code",
      "metadata": {
        "id": "gHrkkowiUMYk"
      },
      "source": [
        "# scale_pos_weights 사용\n",
        "weights = (y == 0).sum()/(1.0*(y == -1).sum())\n",
        "\n",
        "model = XGBClassifier(max_depth = 3, scale_pos_weights = weights, n_jobs = 4,random_state=1,cv=2)\n",
        "model.fit(x_train_us, y_train_us)\n",
        "y_pred = model.predict(x_test_us)"
      ],
      "execution_count": null,
      "outputs": []
    },
    {
      "cell_type": "code",
      "metadata": {
        "id": "906doV5JUNvq"
      },
      "source": [
        "print(\"Accuracy: \", model.score(x_test,y_test)*100)"
      ],
      "execution_count": null,
      "outputs": []
    },
    {
      "cell_type": "markdown",
      "metadata": {
        "id": "TLRSAM-hUP57"
      },
      "source": [
        "> Confusion Matrix"
      ]
    },
    {
      "cell_type": "code",
      "metadata": {
        "id": "ofIE7R8rUPKw"
      },
      "source": [
        "cm = confusion_matrix(y_test_us, y_pred)\n",
        "\n",
        "plt.rcParams['figure.figsize'] = (5, 5)\n",
        "sns.set(style = 'dark', font_scale = 1.4)\n",
        "sns.heatmap(cm, annot = True, annot_kws = {\"size\": 15})"
      ],
      "execution_count": null,
      "outputs": []
    },
    {
      "cell_type": "markdown",
      "metadata": {
        "id": "5Bsb68yUU_0f"
      },
      "source": [
        "#### 2. Random Forest (Undersampled 데이터)"
      ]
    },
    {
      "cell_type": "code",
      "metadata": {
        "id": "OAAiGubSU-bZ"
      },
      "source": [
        "model = RandomForestClassifier(n_estimators=100, random_state=1,verbose=0 )\n",
        "model.fit(x_train_us, y_train_us)\n",
        "y_pred = model.predict(x_test_us)"
      ],
      "execution_count": null,
      "outputs": []
    },
    {
      "cell_type": "markdown",
      "metadata": {
        "id": "IDJsme2tVC6n"
      },
      "source": [
        "> Confusion Matrix"
      ]
    },
    {
      "cell_type": "code",
      "metadata": {
        "id": "0LSZqE2PVBee"
      },
      "source": [
        "cm = confusion_matrix(y_test_us, y_pred)\n",
        "\n",
        "plt.rcParams['figure.figsize'] = (5, 5)\n",
        "sns.set(style = 'dark', font_scale = 1.4)\n",
        "sns.heatmap(cm, annot = True, annot_kws = {\"size\": 15})"
      ],
      "execution_count": null,
      "outputs": []
    },
    {
      "cell_type": "code",
      "metadata": {
        "id": "7S12NPolVFSD"
      },
      "source": [
        "print(\"Accuracy: \", model.score(x_test,y_test)*100)"
      ],
      "execution_count": null,
      "outputs": []
    },
    {
      "cell_type": "markdown",
      "metadata": {
        "id": "6TMicPMp6_kX"
      },
      "source": [
        "#### 3. Logistic Regression (Undersampled 데이터)"
      ]
    },
    {
      "cell_type": "code",
      "metadata": {
        "id": "SKJsoo0wVVr4"
      },
      "source": [
        "lr = LogisticRegression(random_state=1)\n",
        "lr.fit(x_train_us, y_train_us)"
      ],
      "execution_count": null,
      "outputs": []
    },
    {
      "cell_type": "code",
      "metadata": {
        "id": "9_s3B8vfTXJw"
      },
      "source": [
        "y_pred = lr.predict(x_test_us)"
      ],
      "execution_count": null,
      "outputs": []
    },
    {
      "cell_type": "markdown",
      "metadata": {
        "id": "4MSENOeW-Dd2"
      },
      "source": [
        "**Confusion matrix for Logistic Regression (Undersampled)**"
      ]
    },
    {
      "cell_type": "code",
      "metadata": {
        "id": "OWelSnKMSZte"
      },
      "source": [
        "cm = confusion_matrix(y_test_us, y_pred)\n",
        "\n",
        "plt.rcParams['figure.figsize'] = (5, 5)\n",
        "sns.set(style = 'dark', font_scale = 1.4)\n",
        "sns.heatmap(cm, annot = True, annot_kws = {\"size\": 15})"
      ],
      "execution_count": null,
      "outputs": []
    },
    {
      "cell_type": "code",
      "metadata": {
        "id": "rZLM7Gbi-U_-"
      },
      "source": [
        "print(\"Accuracy: \", lr.score(x_test,y_test)*100)"
      ],
      "execution_count": null,
      "outputs": []
    },
    {
      "cell_type": "markdown",
      "metadata": {
        "id": "YaK87twXVI77"
      },
      "source": [
        "#### 4. Lasso (Undersampled 데이터)"
      ]
    },
    {
      "cell_type": "code",
      "metadata": {
        "id": "CBnX3oGeVG-r"
      },
      "source": [
        "lasso = Lasso(alpha=0.1,random_state=1)\n",
        "lasso.fit(x_train_us,y_train_us)\n",
        "#print (\"Lasso model:\", (lasso.coef_))"
      ],
      "execution_count": null,
      "outputs": []
    },
    {
      "cell_type": "code",
      "metadata": {
        "id": "feZ0pBAAVK0z"
      },
      "source": [
        "y_pred = lasso.predict(x_test_us)"
      ],
      "execution_count": null,
      "outputs": []
    },
    {
      "cell_type": "code",
      "metadata": {
        "id": "EyALGLEEVMD5"
      },
      "source": [
        "print(y_pred)"
      ],
      "execution_count": null,
      "outputs": []
    },
    {
      "cell_type": "code",
      "metadata": {
        "id": "1Lr7y3pIVM2U"
      },
      "source": [
        "print(y_test_us)"
      ],
      "execution_count": null,
      "outputs": []
    },
    {
      "cell_type": "code",
      "metadata": {
        "id": "2dX0CLaPVOR_"
      },
      "source": [
        "y_pred2 = np.sign(y_pred)"
      ],
      "execution_count": null,
      "outputs": []
    },
    {
      "cell_type": "markdown",
      "metadata": {
        "id": "re4kNhXPVSA-"
      },
      "source": [
        "> Confusion Matrix"
      ]
    },
    {
      "cell_type": "code",
      "metadata": {
        "id": "qnQ2uTT5VQRm"
      },
      "source": [
        "cm = confusion_matrix(y_test_us, y_pred2)\n",
        "\n",
        "plt.rcParams['figure.figsize'] = (5, 5)\n",
        "sns.set(style = 'dark', font_scale = 1.4)\n",
        "sns.heatmap(cm, annot = True, annot_kws = {\"size\": 15})"
      ],
      "execution_count": null,
      "outputs": []
    },
    {
      "cell_type": "code",
      "metadata": {
        "id": "cm_TYPoAVUPP"
      },
      "source": [
        "print(\"Accuracy: \", lasso.score(x_test_us,y_test_us)*100)"
      ],
      "execution_count": null,
      "outputs": []
    },
    {
      "cell_type": "markdown",
      "metadata": {
        "id": "jmzfMcgorvIv"
      },
      "source": [
        "### 4) 오버샘플링 데이터 대상 재모델링"
      ]
    },
    {
      "cell_type": "markdown",
      "metadata": {
        "id": "jHp5v5jMUgOC"
      },
      "source": [
        "#### 1. Grid Search - XGBoost (Oversampled 데이터)"
      ]
    },
    {
      "cell_type": "code",
      "metadata": {
        "id": "561Vpx9uUeRT"
      },
      "source": [
        "import xgboost as xgb\n",
        "from xgboost.sklearn import XGBClassifier\n",
        "\n",
        "model = XGBClassifier(random_state=1)\n",
        "model.fit(x_train_os, y_train_os)\n",
        "y_pred = model.predict(x_test_os)"
      ],
      "execution_count": null,
      "outputs": []
    },
    {
      "cell_type": "code",
      "metadata": {
        "id": "zOWgbo9rUiD3"
      },
      "source": [
        "from sklearn.model_selection import GridSearchCV\n",
        "\n",
        "parameters = [{'max_depth' : [1, 2, 3, 4, 5, 6],\n",
        "              'cv' : [2,4,6,8,10],\n",
        "              'random_state' : [1]}]\n",
        "\n",
        "grid_search = GridSearchCV(estimator = model, param_grid = parameters, scoring = 'accuracy', n_jobs = -1)\n",
        "grid_search = grid_search.fit(x_train_os, y_train_os)\n",
        "\n",
        "best_accuracy = grid_search.best_score_\n",
        "best_parameters = grid_search.best_params_"
      ],
      "execution_count": null,
      "outputs": []
    },
    {
      "cell_type": "code",
      "metadata": {
        "id": "R67ZqYCmUXX-"
      },
      "source": [
        "print(\"Best Accuracy: \", best_accuracy)\n",
        "print(\"Best Parameter: \", best_parameters)"
      ],
      "execution_count": null,
      "outputs": []
    },
    {
      "cell_type": "code",
      "metadata": {
        "id": "TIRJsZCVTmfA"
      },
      "source": [
        "weights = (y == 0).sum()/(1.0*(y == -1).sum())\n",
        "\n",
        "model = XGBClassifier(max_depth = 1, scale_pos_weights = weights, n_jobs = 4,random_state=1,cv=2)\n",
        "model.fit(x_train_os, y_train_os)\n",
        "y_pred = model.predict(x_test_os)"
      ],
      "execution_count": null,
      "outputs": []
    },
    {
      "cell_type": "markdown",
      "metadata": {
        "id": "VNri2J1GUpk8"
      },
      "source": [
        "> Confusion Matrix"
      ]
    },
    {
      "cell_type": "code",
      "metadata": {
        "id": "9S7ryfNGTcQX"
      },
      "source": [
        "cm = confusion_matrix(y_test_os, y_pred)\n",
        "\n",
        "plt.rcParams['figure.figsize'] = (5, 5)\n",
        "sns.set(style = 'dark', font_scale = 1.4)\n",
        "sns.heatmap(cm, annot = True, annot_kws = {\"size\": 15}, cmap = 'spring')"
      ],
      "execution_count": null,
      "outputs": []
    },
    {
      "cell_type": "code",
      "metadata": {
        "id": "AKkOpu-GUr9W"
      },
      "source": [
        "print(\"Accuracy: \", model.score(x_test,y_test)*100)"
      ],
      "execution_count": null,
      "outputs": []
    },
    {
      "cell_type": "markdown",
      "metadata": {
        "id": "zMEZP9G9Uw3u"
      },
      "source": [
        "#### 2. Random Forest (Oversampled 데이터)"
      ]
    },
    {
      "cell_type": "code",
      "metadata": {
        "id": "x8Bw8ObbUthg"
      },
      "source": [
        "model = RandomForestClassifier(n_estimators=100, random_state=1,verbose=0 )\n",
        "model.fit(x_train_os, y_train_os)\n",
        "y_pred = model.predict(x_test_os)\n",
        "print(\"Accuracy: \", model.score(x_test_os,y_test_os)*100)"
      ],
      "execution_count": null,
      "outputs": []
    },
    {
      "cell_type": "markdown",
      "metadata": {
        "id": "tanYdZKEU0qf"
      },
      "source": [
        "> Confusion Matrix"
      ]
    },
    {
      "cell_type": "code",
      "metadata": {
        "id": "Fy2GnSAhUyr1"
      },
      "source": [
        "# printing the confusion matrix\n",
        "cm = confusion_matrix(y_test_os, y_pred)\n",
        "sns.heatmap(cm, annot = True, cmap = 'rainbow')"
      ],
      "execution_count": null,
      "outputs": []
    },
    {
      "cell_type": "markdown",
      "metadata": {
        "id": "ycGqzP_wU4nM"
      },
      "source": [
        "#### 3. Logistic Regression (Oversampled 데이터)"
      ]
    },
    {
      "cell_type": "code",
      "metadata": {
        "id": "Vf2IKTyaU2rs"
      },
      "source": [
        "lr = LogisticRegression(random_state=1)\n",
        "lr.fit(x_train_os, y_train_os)\n",
        "y_pred = lr.predict(x_test_os)\n",
        "\n",
        "print(\"Accuracy: \", lr.score(x_test_os,y_test_os)*100)"
      ],
      "execution_count": null,
      "outputs": []
    },
    {
      "cell_type": "markdown",
      "metadata": {
        "id": "55yl8t_hU8UI"
      },
      "source": [
        "> Confusion Matrix"
      ]
    },
    {
      "cell_type": "code",
      "metadata": {
        "id": "42S5jqofU6iY"
      },
      "source": [
        "cm = confusion_matrix(y_test_os, y_pred)\n",
        "sns.heatmap(cm, annot = True, cmap = 'rainbow')"
      ],
      "execution_count": null,
      "outputs": []
    },
    {
      "cell_type": "markdown",
      "metadata": {
        "id": "wnXGlrxlNZsw"
      },
      "source": [
        "### 5) PCA 를 활용한 차원 축소"
      ]
    },
    {
      "cell_type": "code",
      "metadata": {
        "id": "mbggeHBiupEI"
      },
      "source": [
        "data.shape"
      ],
      "execution_count": null,
      "outputs": []
    },
    {
      "cell_type": "markdown",
      "metadata": {
        "id": "s-ygLIsEutl6"
      },
      "source": [
        "#### 1. Scailing using zscore"
      ]
    },
    {
      "cell_type": "code",
      "metadata": {
        "id": "Xg3QcJ7p_e2v"
      },
      "source": [
        "from scipy.stats import zscore\n",
        "data_new=data.iloc[:,:306].apply(zscore)\n",
        "data_new.head()"
      ],
      "execution_count": null,
      "outputs": []
    },
    {
      "cell_type": "code",
      "metadata": {
        "id": "QBCoXRNW_YHY"
      },
      "source": [
        "data_new.isnull().any().any()"
      ],
      "execution_count": null,
      "outputs": []
    },
    {
      "cell_type": "code",
      "metadata": {
        "id": "eyP13g2DAFkR"
      },
      "source": [
        "data_new = data_new.replace(np.NaN, 0)"
      ],
      "execution_count": null,
      "outputs": []
    },
    {
      "cell_type": "code",
      "metadata": {
        "id": "oacigqUfAMDd"
      },
      "source": [
        "data_new.isnull().any().any()"
      ],
      "execution_count": null,
      "outputs": []
    },
    {
      "cell_type": "code",
      "metadata": {
        "id": "XU2ckUiy_WKN"
      },
      "source": [
        "x = data_new.iloc[:,:306]\n",
        "y = data[\"Pass/Fail\"]\n",
        "\n",
        "print(\"shape of x:\", x.shape)\n",
        "print(\"shape of y:\", y.shape)"
      ],
      "execution_count": null,
      "outputs": []
    },
    {
      "cell_type": "markdown",
      "metadata": {
        "id": "GhuzRh0avDye"
      },
      "source": [
        "#### 2. PCA Step 1 - Covariance Matrix 만들기"
      ]
    },
    {
      "cell_type": "code",
      "metadata": {
        "id": "z9BGHiFZA9uO"
      },
      "source": [
        "# x의 covariance matrix 만들기\n",
        "###### 코드 작성 부분 시작 ######\n",
        "# cov_matrix =\n",
        "###### 코드 작성 부분 마침 ######\n",
        "print('Covariance Matrix \\n%s', cov_matrix)"
      ],
      "execution_count": null,
      "outputs": []
    },
    {
      "cell_type": "markdown",
      "metadata": {
        "id": "McX7QmiXvNAn"
      },
      "source": [
        "#### 3. PCA Step 2 - Eigen Values 와 Eigen Vector 만들기"
      ]
    },
    {
      "cell_type": "code",
      "metadata": {
        "id": "hO3vDl_uA_Bs"
      },
      "source": [
        "# eigenvalues, eigenvectors 만들기\n",
        "###### 코드 작성 부분 시작 ######\n",
        "# eig_values, eig_vecs =\n",
        "###### 코드 작성 부분 마침 ######\n",
        "print('Eigen Vectors \\n%s', eig_vecs)\n",
        "print('\\n Eigen Values \\n%s', eig_vals)"
      ],
      "execution_count": null,
      "outputs": []
    },
    {
      "cell_type": "code",
      "metadata": {
        "id": "WPqp3W9BBAgF"
      },
      "source": [
        "tot = sum(eig_vals)\n",
        "var_exp = [( i /tot ) * 100 for i in sorted(eig_vals, reverse=True)]\n",
        "cum_var_exp = np.cumsum(var_exp)\n",
        "print(\"누적 분산 설명력\", cum_var_exp)"
      ],
      "execution_count": null,
      "outputs": []
    },
    {
      "cell_type": "code",
      "metadata": {
        "id": "yhW9vb6wBEFh"
      },
      "source": [
        "plt.plot(var_exp)"
      ],
      "execution_count": null,
      "outputs": []
    },
    {
      "cell_type": "markdown",
      "metadata": {
        "id": "T3gf0CljwWHo"
      },
      "source": [
        "> Explained Variance Ratio : 각각의 주성분 벡터가 이루는 축에 투영(projection)한 결과의 분산의 비율 (=각 eigenvalue 의 비율)"
      ]
    },
    {
      "cell_type": "code",
      "metadata": {
        "id": "j4l-dRTEBRBM"
      },
      "source": [
        "# Ploting plt.figure(figsize=(10 , 5))\n",
        "plt.bar(range(1, eig_vals.size + 1), var_exp, alpha = 0.5, align = 'center', label = 'Individual explained variance')\n",
        "plt.step(range(1, eig_vals.size + 1), cum_var_exp, where='mid', label = 'Cumulative explained variance')\n",
        "plt.ylabel('Explained Variance Ratio')\n",
        "plt.xlabel('Principal Components')\n",
        "plt.legend(loc = 'best')\n",
        "plt.tight_layout()\n",
        "plt.show()"
      ],
      "execution_count": null,
      "outputs": []
    },
    {
      "cell_type": "code",
      "metadata": {
        "id": "cVeoNJjYBSug"
      },
      "source": [
        "len(cum_var_exp)"
      ],
      "execution_count": null,
      "outputs": []
    },
    {
      "cell_type": "markdown",
      "metadata": {
        "id": "GHtjiVWNwmCa"
      },
      "source": [
        "#### 4. Scikit-learn 으로 PCA 적용하기\n",
        "\n"
      ]
    },
    {
      "cell_type": "code",
      "metadata": {
        "id": "pfxrFdwNBTtt"
      },
      "source": [
        "# Using scikit learn PCA here. It does all the above steps and maps data to PCA dimensions in one shot\n",
        "from sklearn.decomposition import PCA\n",
        "\n",
        "# x 에 PCA 적용하기 (n_components=130)\n",
        "###### 코드 작성 부분 시작 ######\n",
        "# pca =\n",
        "###### 코드 작성 부분 마침 ######"
      ],
      "execution_count": null,
      "outputs": []
    },
    {
      "cell_type": "code",
      "metadata": {
        "id": "KqI5Ox_dBVYT"
      },
      "source": [
        "pca.components_"
      ],
      "execution_count": null,
      "outputs": []
    },
    {
      "cell_type": "code",
      "metadata": {
        "id": "a4L4AkQkBgyJ"
      },
      "source": [
        "df_comp = pd.DataFrame(pca.components_,columns=list(x))\n",
        "df_comp.head()"
      ],
      "execution_count": null,
      "outputs": []
    },
    {
      "cell_type": "code",
      "metadata": {
        "id": "yp3PO3wkBiMo"
      },
      "source": [
        "plt.figure(figsize=(12,6))\n",
        "sns.heatmap(df_comp,cmap='plasma',)"
      ],
      "execution_count": null,
      "outputs": []
    },
    {
      "cell_type": "markdown",
      "metadata": {
        "id": "JS86-2F4xKDu"
      },
      "source": [
        "> PCA 적용된 데이터 탐색"
      ]
    },
    {
      "cell_type": "code",
      "metadata": {
        "id": "jU0s3y6eBnpm"
      },
      "source": [
        "data_reduced.shape"
      ],
      "execution_count": null,
      "outputs": []
    },
    {
      "cell_type": "code",
      "metadata": {
        "id": "4RkkPP14BqpL"
      },
      "source": [
        "df_red2 = pd.DataFrame(data_reduced)\n",
        "df_red2.head()"
      ],
      "execution_count": null,
      "outputs": []
    },
    {
      "cell_type": "markdown",
      "metadata": {
        "id": "op3xkWq0xSAo"
      },
      "source": [
        "> Pass/Fail 데이터 합치기"
      ]
    },
    {
      "cell_type": "code",
      "metadata": {
        "id": "iQK5mq2RBr2W"
      },
      "source": [
        "df_red3 = df_red2.copy()\n",
        "df_red4 = df_red3\n",
        "df_red4[\"Pass/Fail\"] = data[\"Pass/Fail\"]"
      ],
      "execution_count": null,
      "outputs": []
    },
    {
      "cell_type": "code",
      "metadata": {
        "id": "BeSpECpqBtvs"
      },
      "source": [
        "df_red4.head()"
      ],
      "execution_count": null,
      "outputs": []
    },
    {
      "cell_type": "code",
      "metadata": {
        "id": "VCYPcKJ9ByZP"
      },
      "source": [
        "df_red4.shape"
      ],
      "execution_count": null,
      "outputs": []
    },
    {
      "cell_type": "markdown",
      "metadata": {
        "id": "j3H-pQXRxzk2"
      },
      "source": [
        "#### 5. 이상치 제거"
      ]
    },
    {
      "cell_type": "markdown",
      "metadata": {
        "id": "gvLhFPhrxgZF"
      },
      "source": [
        "> Pass/Fail 별 PCA 데이터의 이상치 탐색"
      ]
    },
    {
      "cell_type": "code",
      "metadata": {
        "id": "ShhIYvMfBzki"
      },
      "source": [
        "df_red4.boxplot(column = [df_red4.columns[0],\n",
        "                          df_red4.columns[1],\n",
        "                          df_red4.columns[2],\n",
        "                          df_red4.columns[3],\n",
        "                          df_red4.columns[4],\n",
        "                          df_red4.columns[5],\n",
        "                         ]\n",
        "                          , by = 'Pass/Fail', figsize=(20,20))"
      ],
      "execution_count": null,
      "outputs": []
    },
    {
      "cell_type": "markdown",
      "metadata": {
        "id": "J4PyBQisxrba"
      },
      "source": [
        "> 이상치 제거 적용 (Quantile, IQR 사용)"
      ]
    },
    {
      "cell_type": "code",
      "metadata": {
        "id": "2wLtCl2BB1XN"
      },
      "source": [
        "pd_data = df_red4.copy()\n",
        "\n",
        "from scipy import stats\n",
        "\n",
        "def outlier_removal_max(var):\n",
        "    var = np.where(var > var.quantile(0.75)+ stats.iqr(var),var.quantile(0.50),var)\n",
        "    return var\n",
        "\n",
        "def outlier_removal_min(var):\n",
        "    var = np.where(var < var.quantile(0.25) - stats.iqr(var),var.quantile(0.50),var)\n",
        "    return var\n",
        "\n",
        "for column in pd_data:\n",
        "    pd_data[column] = outlier_removal_max(pd_data[column])\n",
        "    pd_data[column] = outlier_removal_min(pd_data[column])"
      ],
      "execution_count": null,
      "outputs": []
    },
    {
      "cell_type": "code",
      "metadata": {
        "id": "xpdAtw57B5SJ"
      },
      "source": [
        "pd_data.boxplot( column =[df_red4.columns[0],\n",
        "                          df_red4.columns[1],\n",
        "                          df_red4.columns[2],\n",
        "                          df_red4.columns[3],\n",
        "                          df_red4.columns[4],\n",
        "                          df_red4.columns[5],\n",
        "                         ],by = 'Pass/Fail', figsize=(20,20))"
      ],
      "execution_count": null,
      "outputs": []
    },
    {
      "cell_type": "markdown",
      "metadata": {
        "id": "sWF0IadUyigI"
      },
      "source": [
        "### 6) PCA 적용+이상치 제거 데이터 재모델링"
      ]
    },
    {
      "cell_type": "markdown",
      "metadata": {
        "id": "BSULu_YUy0M4"
      },
      "source": [
        "#### 1. 언더샘플링\n"
      ]
    },
    {
      "cell_type": "code",
      "metadata": {
        "id": "tLye0TCKB655"
      },
      "source": [
        "x = df_red4.iloc[:, df_red4.columns != 'Pass/Fail']\n",
        "y = df_red4.iloc[:, df_red4.columns == 'Pass/Fail']\n",
        "\n",
        "print(\"shape of x:\", x.shape)\n",
        "print(\"shape of y:\", y.shape)"
      ],
      "execution_count": null,
      "outputs": []
    },
    {
      "cell_type": "code",
      "metadata": {
        "id": "AyQsPtS6B858"
      },
      "source": [
        "failed_tests = np.array(df_red4[df_red4['Pass/Fail'] == 1].index)\n",
        "no_failed_tests = len(failed_tests)\n",
        "\n",
        "print(no_failed_tests)"
      ],
      "execution_count": null,
      "outputs": []
    },
    {
      "cell_type": "code",
      "metadata": {
        "id": "n-MOdEHcGYDq"
      },
      "source": [
        "normal_indices = df_red4[df_red4['Pass/Fail'] == -1]\n",
        "no_normal_indices = len(normal_indices)\n",
        "\n",
        "print(no_normal_indices)"
      ],
      "execution_count": null,
      "outputs": []
    },
    {
      "cell_type": "code",
      "metadata": {
        "id": "9AKUsgDAGnWC"
      },
      "source": [
        "random_normal_indices = np.random.choice(no_normal_indices, size = no_failed_tests, replace = True)\n",
        "random_normal_indices = np.array(random_normal_indices)\n",
        "\n",
        "print(len(random_normal_indices))"
      ],
      "execution_count": null,
      "outputs": []
    },
    {
      "cell_type": "code",
      "metadata": {
        "id": "PiMRmXWoGo_2"
      },
      "source": [
        "under_sample = np.concatenate([failed_tests, random_normal_indices])\n",
        "print(len(under_sample))"
      ],
      "execution_count": null,
      "outputs": []
    },
    {
      "cell_type": "code",
      "metadata": {
        "id": "onovO0dDGqVr"
      },
      "source": [
        "undersample_data = df_red4.iloc[under_sample, :]\n",
        "\n",
        "x = undersample_data.iloc[:, undersample_data.columns != 'Pass/Fail']\n",
        "y = undersample_data.iloc[:, undersample_data.columns == 'Pass/Fail']\n",
        "\n",
        "print(x.shape)\n",
        "print(y.shape)"
      ],
      "execution_count": null,
      "outputs": []
    },
    {
      "cell_type": "code",
      "metadata": {
        "id": "v1LEp_1NGsa7"
      },
      "source": [
        "from sklearn.model_selection import train_test_split\n",
        "\n",
        "x_train_us, x_test_us, y_train_us, y_test_us = train_test_split(x, y, test_size = 0.3, random_state = 1)\n",
        "\n",
        "print(x_train_us.shape)\n",
        "print(y_train_us.shape)\n",
        "print(x_test_us.shape)\n",
        "print(y_test_us.shape)"
      ],
      "execution_count": null,
      "outputs": []
    },
    {
      "cell_type": "markdown",
      "metadata": {
        "id": "wklzUlXSGxmt"
      },
      "source": [
        "#### 1. XGBoost-PCA (Undersampled 데이터)"
      ]
    },
    {
      "cell_type": "code",
      "metadata": {
        "id": "Hi0Q9GhQGt97"
      },
      "source": [
        "model = XGBClassifier(random_state=1)\n",
        "model.fit(x_train_us, y_train_us)\n",
        "y_pred = model.predict(x_test_us)"
      ],
      "execution_count": null,
      "outputs": []
    },
    {
      "cell_type": "markdown",
      "metadata": {
        "id": "1gue34suG11T"
      },
      "source": [
        "> Confusion Matrix"
      ]
    },
    {
      "cell_type": "code",
      "metadata": {
        "id": "Skdp_JAwG0Hg"
      },
      "source": [
        "cm = confusion_matrix(y_test_us, y_pred)\n",
        "\n",
        "plt.rcParams['figure.figsize'] = (5, 5)\n",
        "sns.set(style = 'dark', font_scale = 1.4)\n",
        "sns.heatmap(cm, annot = True, annot_kws = {\"size\": 15})"
      ],
      "execution_count": null,
      "outputs": []
    },
    {
      "cell_type": "code",
      "metadata": {
        "id": "5wzIhW3CG45P"
      },
      "source": [
        "print(\"Accuracy: \", model.score(x_test_us,y_test_us)*100)"
      ],
      "execution_count": null,
      "outputs": []
    },
    {
      "cell_type": "markdown",
      "metadata": {
        "id": "yn1XJ-bUHT6S"
      },
      "source": [
        "#### 2. Grid Search - XGBoost - PCA (Undersampled 데이터)"
      ]
    },
    {
      "cell_type": "code",
      "metadata": {
        "id": "A1c0hR9kHVQB"
      },
      "source": [
        "parameters = [{'max_depth' : [1, 2, 3, 4, 5, 6],\n",
        "              'cv' : [2,4,6,8,10],\n",
        "             'random_state' : [1]}]\n",
        "\n",
        "grid_search = GridSearchCV(estimator = model, param_grid = parameters, scoring = 'accuracy', n_jobs = -1)\n",
        "\n",
        "grid_search = grid_search.fit(x_train_us, y_train_us)\n",
        "best_accuracy = grid_search.best_score_\n",
        "best_parameters = grid_search.best_params_\n",
        "\n",
        "print(\"Best Accuracy: \", best_accuracy*100)\n",
        "print(\"Best Parameter: \", best_parameters)"
      ],
      "execution_count": null,
      "outputs": []
    },
    {
      "cell_type": "code",
      "metadata": {
        "id": "i_LGivcCHWpr"
      },
      "source": [
        "weights = (y == 0).sum()/(1.0*(y == -1).sum())\n",
        "\n",
        "model = XGBClassifier(max_depth = 4, scale_pos_weights = weights, n_jobs = 4,random_state=1,cv=2)\n",
        "model.fit(x_train_us, y_train_us)\n",
        "y_pred = model.predict(x_test_us)\n",
        "\n",
        "print(\"Accuracy: \", model.score(x_test_us,y_test_us)*100)"
      ],
      "execution_count": null,
      "outputs": []
    },
    {
      "cell_type": "markdown",
      "metadata": {
        "id": "pqtt4jCUHjQ5"
      },
      "source": [
        "> Confusion Matrix"
      ]
    },
    {
      "cell_type": "code",
      "metadata": {
        "id": "Bb6hq2fBHgkx"
      },
      "source": [
        "cm = confusion_matrix(y_test_us, y_pred)\n",
        "\n",
        "plt.rcParams['figure.figsize'] = (5, 5)\n",
        "sns.set(style = 'dark', font_scale = 1.4)\n",
        "sns.heatmap(cm, annot = True, annot_kws = {\"size\": 15})"
      ],
      "execution_count": null,
      "outputs": []
    },
    {
      "cell_type": "markdown",
      "metadata": {
        "id": "0PAdExULHo0M"
      },
      "source": [
        "#### 3. Random Forest - PCA (Undersampled 데이터)"
      ]
    },
    {
      "cell_type": "code",
      "metadata": {
        "id": "lqp1Cjb2Hp-J"
      },
      "source": [
        "model = RandomForestClassifier(n_estimators=100, random_state=1,verbose=0 )\n",
        "model.fit(x_train_us, y_train_us)\n",
        "y_pred = model.predict(x_test_us)\n",
        "\n",
        "cm = confusion_matrix(y_test_us, y_pred)\n",
        "sns.heatmap(cm, annot = True, cmap = 'rainbow')"
      ],
      "execution_count": null,
      "outputs": []
    },
    {
      "cell_type": "code",
      "metadata": {
        "id": "Q2GB2fGNHroX"
      },
      "source": [
        "print(\"Accuracy: \", model.score(x_test_us,y_test_us)*100)"
      ],
      "execution_count": null,
      "outputs": []
    },
    {
      "cell_type": "markdown",
      "metadata": {
        "id": "nVVoeZ4gHvy3"
      },
      "source": [
        "#### 3. Logistic Regression - PCA (Undersampled 데이터)"
      ]
    },
    {
      "cell_type": "code",
      "metadata": {
        "id": "5uH82tcOHwqE"
      },
      "source": [
        "lr = LogisticRegression(random_state=1)\n",
        "lr.fit(x_train_us, y_train_us)\n",
        "y_pred = lr.predict(x_test_us)\n",
        "\n",
        "cm = confusion_matrix(y_test_us, y_pred)\n",
        "sns.heatmap(cm, annot = True, cmap = 'rainbow')"
      ],
      "execution_count": null,
      "outputs": []
    },
    {
      "cell_type": "code",
      "metadata": {
        "id": "nOSLPet9JqTS"
      },
      "source": [
        "print(\"Accuracy: \", lr.score(x_test_us,y_test_us)*100)"
      ],
      "execution_count": null,
      "outputs": []
    },
    {
      "cell_type": "markdown",
      "metadata": {
        "id": "WPxZqvzAJtJ3"
      },
      "source": [
        "#### 4. Lasso - PCA (Undersampled 데이터)"
      ]
    },
    {
      "cell_type": "code",
      "metadata": {
        "id": "Kbtlc7gpJrpB"
      },
      "source": [
        "lasso = Lasso(alpha=0.1,random_state=1)\n",
        "lasso.fit(x_train_us,y_train_us)\n",
        "\n",
        "y_pred = lasso.predict(x_test_us)\n",
        "\n",
        "y_pred2 = np.sign(y_pred)"
      ],
      "execution_count": null,
      "outputs": []
    },
    {
      "cell_type": "code",
      "metadata": {
        "id": "0TWlGd_EJvRB"
      },
      "source": [
        "actual_cost = list(y_test_us)\n",
        "actual_cost = np.asarray(actual_cost)\n",
        "y_pred_lass = lasso.predict(x_test_us)"
      ],
      "execution_count": null,
      "outputs": []
    },
    {
      "cell_type": "code",
      "metadata": {
        "id": "crCDVrqBJwbs"
      },
      "source": [
        "print(\"Accuracy: \", lasso.score(x_test_us, y_test_us)*100)"
      ],
      "execution_count": null,
      "outputs": []
    },
    {
      "cell_type": "markdown",
      "metadata": {
        "id": "aVXx4nzyJ0Dh"
      },
      "source": [
        "> Confusion Matrix"
      ]
    },
    {
      "cell_type": "code",
      "metadata": {
        "id": "qbXuKccAJx1S"
      },
      "source": [
        "cm = confusion_matrix(y_test_us, y_pred2)\n",
        "sns.heatmap(cm, annot = True, cmap = 'rainbow')"
      ],
      "execution_count": null,
      "outputs": []
    },
    {
      "cell_type": "markdown",
      "metadata": {
        "id": "EfKiQtrsN2dW"
      },
      "source": [
        "### Feature Importances"
      ]
    },
    {
      "cell_type": "code",
      "metadata": {
        "id": "Re02Di9fKtMr"
      },
      "source": [
        "from numpy import loadtxt\n",
        "from xgboost import XGBClassifier\n",
        "from xgboost import plot_importance\n",
        "from matplotlib import pyplot\n",
        "\n",
        "model = XGBClassifier()\n",
        "model.fit(x_train_us, y_train_us)"
      ],
      "execution_count": null,
      "outputs": []
    },
    {
      "cell_type": "code",
      "metadata": {
        "id": "tPzZb29G17da"
      },
      "source": [
        "import plotly.io as pio\n",
        "pio.renderers.default = 'colab'\n",
        "pio.renderers\n",
        "\n",
        "trace = go.Scatter(\n",
        "    y = model.feature_importances_,\n",
        "    x = x_train_us.columns.values,\n",
        "    mode='markers',\n",
        "    marker=dict(\n",
        "        sizemode = 'diameter',\n",
        "        sizeref = 1,\n",
        "        size = 13,\n",
        "        color = model.feature_importances_,\n",
        "        colorscale='Portland',\n",
        "        showscale=True\n",
        "    ),\n",
        "    text = x_train_us.columns.values\n",
        ")\n",
        "data = [trace]\n",
        "\n",
        "layout= go.Layout(\n",
        "    autosize= True,\n",
        "    title= 'Gradient Boosting Model Feature Importance',\n",
        "    hovermode= 'closest',\n",
        "     xaxis= dict(\n",
        "         ticklen= 5,\n",
        "         showgrid=False,\n",
        "        zeroline=False,\n",
        "        showline=False\n",
        "     ),\n",
        "    yaxis=dict(\n",
        "        title= 'Feature Importance',\n",
        "        showgrid=False,\n",
        "        zeroline=False,\n",
        "        ticklen= 5,\n",
        "        gridwidth= 2\n",
        "    ),\n",
        "    showlegend= False\n",
        ")\n",
        "fig = go.Figure(data=data, layout=layout)\n",
        "py.iplot(fig,filename='scatter')"
      ],
      "execution_count": null,
      "outputs": []
    }
  ]
}