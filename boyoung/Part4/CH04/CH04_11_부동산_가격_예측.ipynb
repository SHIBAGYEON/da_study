{
  "nbformat": 4,
  "nbformat_minor": 0,
  "metadata": {
    "colab": {
      "provenance": []
    },
    "kernelspec": {
      "name": "python3",
      "display_name": "Python 3"
    },
    "language_info": {
      "name": "python"
    }
  },
  "cells": [
    {
      "cell_type": "code",
      "execution_count": 1,
      "metadata": {
        "id": "s2qnVQ-ahn56"
      },
      "outputs": [],
      "source": [
        "import pandas as pd\n",
        "import numpy as np\n",
        "import matplotlib.pyplot as plt\n",
        "\n",
        "np.random.seed(2021)"
      ]
    },
    {
      "cell_type": "markdown",
      "source": [
        "# 1. Data\n",
        "\n",
        "이번 실습에서 사용할 데이터는 캘리포니아주의 집 값을 예측하는 데이터 입니다."
      ],
      "metadata": {
        "id": "t3mvxrKliH6X"
      }
    },
    {
      "cell_type": "markdown",
      "source": [
        "1.1 Data Load\n",
        "\n",
        "데이터는 sklearn.datasets의 fetch_california_housing을 통해 사용할 수 있음"
      ],
      "metadata": {
        "id": "Otg-wvrHiR3V"
      }
    },
    {
      "cell_type": "code",
      "source": [
        "from sklearn.datasets import fetch_california_housing\n",
        "\n",
        "housing = fetch_california_housing()"
      ],
      "metadata": {
        "id": "iouJSMgSiHGS"
      },
      "execution_count": 2,
      "outputs": []
    },
    {
      "cell_type": "code",
      "source": [
        "data, target = housing[\"data\"], housing[\"target\"]"
      ],
      "metadata": {
        "id": "5IP-zgGdim7l"
      },
      "execution_count": 3,
      "outputs": []
    },
    {
      "cell_type": "code",
      "source": [
        "# 빠른 실습을 위해서 데이터를 1/10으로 줄임\n",
        "\n",
        "data.shape"
      ],
      "metadata": {
        "colab": {
          "base_uri": "https://localhost:8080/"
        },
        "id": "9AC-s0rlirTM",
        "outputId": "b2d3311b-5c89-40d5-f44b-9476a04342f0"
      },
      "execution_count": 5,
      "outputs": [
        {
          "output_type": "execute_result",
          "data": {
            "text/plain": [
              "(20640, 8)"
            ]
          },
          "metadata": {},
          "execution_count": 5
        }
      ]
    },
    {
      "cell_type": "code",
      "source": [
        "data = data[:2000]\n",
        "target = target[:2000]"
      ],
      "metadata": {
        "id": "hLgcCkGQizd0"
      },
      "execution_count": 6,
      "outputs": []
    },
    {
      "cell_type": "markdown",
      "source": [
        "1.2 Data EDA"
      ],
      "metadata": {
        "id": "CFiZRTZPi9Kr"
      }
    },
    {
      "cell_type": "code",
      "source": [
        "pd.DataFrame(data, columns=housing[\"feature_names\"]).describe()"
      ],
      "metadata": {
        "colab": {
          "base_uri": "https://localhost:8080/",
          "height": 300
        },
        "id": "GYqkB7t3i6q8",
        "outputId": "f922e68a-f6af-47f6-8901-0247c26b3888"
      },
      "execution_count": 7,
      "outputs": [
        {
          "output_type": "execute_result",
          "data": {
            "text/plain": [
              "            MedInc     HouseAge     AveRooms    AveBedrms    Population  \\\n",
              "count  2000.000000  2000.000000  2000.000000  2000.000000   2000.000000   \n",
              "mean      3.885417    31.310500     5.894044     1.151377   1243.354500   \n",
              "std       1.910350    14.050331     5.124791     1.093032    965.900959   \n",
              "min       0.499900     2.000000     1.714286     0.526316     18.000000   \n",
              "25%       2.536800    19.000000     4.698539     1.006504    691.000000   \n",
              "50%       3.508600    32.000000     5.424636     1.051638   1002.500000   \n",
              "75%       4.924075    43.000000     6.281798     1.104526   1495.000000   \n",
              "max      15.000100    52.000000   141.909091    34.066667  12203.000000   \n",
              "\n",
              "          AveOccup     Latitude    Longitude  \n",
              "count  2000.000000  2000.000000  2000.000000  \n",
              "mean      2.722148    38.066565  -121.940045  \n",
              "std       0.757496     0.655932     0.571707  \n",
              "min       1.280603    36.720000  -124.300000  \n",
              "25%       2.349835    37.740000  -122.240000  \n",
              "50%       2.652805    37.860000  -122.090000  \n",
              "75%       2.995032    37.992500  -121.900000  \n",
              "max      17.177700    41.950000  -119.770000  "
            ],
            "text/html": [
              "\n",
              "  <div id=\"df-00a572d0-3f33-47f8-89e0-f56c2f2e8256\">\n",
              "    <div class=\"colab-df-container\">\n",
              "      <div>\n",
              "<style scoped>\n",
              "    .dataframe tbody tr th:only-of-type {\n",
              "        vertical-align: middle;\n",
              "    }\n",
              "\n",
              "    .dataframe tbody tr th {\n",
              "        vertical-align: top;\n",
              "    }\n",
              "\n",
              "    .dataframe thead th {\n",
              "        text-align: right;\n",
              "    }\n",
              "</style>\n",
              "<table border=\"1\" class=\"dataframe\">\n",
              "  <thead>\n",
              "    <tr style=\"text-align: right;\">\n",
              "      <th></th>\n",
              "      <th>MedInc</th>\n",
              "      <th>HouseAge</th>\n",
              "      <th>AveRooms</th>\n",
              "      <th>AveBedrms</th>\n",
              "      <th>Population</th>\n",
              "      <th>AveOccup</th>\n",
              "      <th>Latitude</th>\n",
              "      <th>Longitude</th>\n",
              "    </tr>\n",
              "  </thead>\n",
              "  <tbody>\n",
              "    <tr>\n",
              "      <th>count</th>\n",
              "      <td>2000.000000</td>\n",
              "      <td>2000.000000</td>\n",
              "      <td>2000.000000</td>\n",
              "      <td>2000.000000</td>\n",
              "      <td>2000.000000</td>\n",
              "      <td>2000.000000</td>\n",
              "      <td>2000.000000</td>\n",
              "      <td>2000.000000</td>\n",
              "    </tr>\n",
              "    <tr>\n",
              "      <th>mean</th>\n",
              "      <td>3.885417</td>\n",
              "      <td>31.310500</td>\n",
              "      <td>5.894044</td>\n",
              "      <td>1.151377</td>\n",
              "      <td>1243.354500</td>\n",
              "      <td>2.722148</td>\n",
              "      <td>38.066565</td>\n",
              "      <td>-121.940045</td>\n",
              "    </tr>\n",
              "    <tr>\n",
              "      <th>std</th>\n",
              "      <td>1.910350</td>\n",
              "      <td>14.050331</td>\n",
              "      <td>5.124791</td>\n",
              "      <td>1.093032</td>\n",
              "      <td>965.900959</td>\n",
              "      <td>0.757496</td>\n",
              "      <td>0.655932</td>\n",
              "      <td>0.571707</td>\n",
              "    </tr>\n",
              "    <tr>\n",
              "      <th>min</th>\n",
              "      <td>0.499900</td>\n",
              "      <td>2.000000</td>\n",
              "      <td>1.714286</td>\n",
              "      <td>0.526316</td>\n",
              "      <td>18.000000</td>\n",
              "      <td>1.280603</td>\n",
              "      <td>36.720000</td>\n",
              "      <td>-124.300000</td>\n",
              "    </tr>\n",
              "    <tr>\n",
              "      <th>25%</th>\n",
              "      <td>2.536800</td>\n",
              "      <td>19.000000</td>\n",
              "      <td>4.698539</td>\n",
              "      <td>1.006504</td>\n",
              "      <td>691.000000</td>\n",
              "      <td>2.349835</td>\n",
              "      <td>37.740000</td>\n",
              "      <td>-122.240000</td>\n",
              "    </tr>\n",
              "    <tr>\n",
              "      <th>50%</th>\n",
              "      <td>3.508600</td>\n",
              "      <td>32.000000</td>\n",
              "      <td>5.424636</td>\n",
              "      <td>1.051638</td>\n",
              "      <td>1002.500000</td>\n",
              "      <td>2.652805</td>\n",
              "      <td>37.860000</td>\n",
              "      <td>-122.090000</td>\n",
              "    </tr>\n",
              "    <tr>\n",
              "      <th>75%</th>\n",
              "      <td>4.924075</td>\n",
              "      <td>43.000000</td>\n",
              "      <td>6.281798</td>\n",
              "      <td>1.104526</td>\n",
              "      <td>1495.000000</td>\n",
              "      <td>2.995032</td>\n",
              "      <td>37.992500</td>\n",
              "      <td>-121.900000</td>\n",
              "    </tr>\n",
              "    <tr>\n",
              "      <th>max</th>\n",
              "      <td>15.000100</td>\n",
              "      <td>52.000000</td>\n",
              "      <td>141.909091</td>\n",
              "      <td>34.066667</td>\n",
              "      <td>12203.000000</td>\n",
              "      <td>17.177700</td>\n",
              "      <td>41.950000</td>\n",
              "      <td>-119.770000</td>\n",
              "    </tr>\n",
              "  </tbody>\n",
              "</table>\n",
              "</div>\n",
              "      <button class=\"colab-df-convert\" onclick=\"convertToInteractive('df-00a572d0-3f33-47f8-89e0-f56c2f2e8256')\"\n",
              "              title=\"Convert this dataframe to an interactive table.\"\n",
              "              style=\"display:none;\">\n",
              "        \n",
              "  <svg xmlns=\"http://www.w3.org/2000/svg\" height=\"24px\"viewBox=\"0 0 24 24\"\n",
              "       width=\"24px\">\n",
              "    <path d=\"M0 0h24v24H0V0z\" fill=\"none\"/>\n",
              "    <path d=\"M18.56 5.44l.94 2.06.94-2.06 2.06-.94-2.06-.94-.94-2.06-.94 2.06-2.06.94zm-11 1L8.5 8.5l.94-2.06 2.06-.94-2.06-.94L8.5 2.5l-.94 2.06-2.06.94zm10 10l.94 2.06.94-2.06 2.06-.94-2.06-.94-.94-2.06-.94 2.06-2.06.94z\"/><path d=\"M17.41 7.96l-1.37-1.37c-.4-.4-.92-.59-1.43-.59-.52 0-1.04.2-1.43.59L10.3 9.45l-7.72 7.72c-.78.78-.78 2.05 0 2.83L4 21.41c.39.39.9.59 1.41.59.51 0 1.02-.2 1.41-.59l7.78-7.78 2.81-2.81c.8-.78.8-2.07 0-2.86zM5.41 20L4 18.59l7.72-7.72 1.47 1.35L5.41 20z\"/>\n",
              "  </svg>\n",
              "      </button>\n",
              "      \n",
              "  <style>\n",
              "    .colab-df-container {\n",
              "      display:flex;\n",
              "      flex-wrap:wrap;\n",
              "      gap: 12px;\n",
              "    }\n",
              "\n",
              "    .colab-df-convert {\n",
              "      background-color: #E8F0FE;\n",
              "      border: none;\n",
              "      border-radius: 50%;\n",
              "      cursor: pointer;\n",
              "      display: none;\n",
              "      fill: #1967D2;\n",
              "      height: 32px;\n",
              "      padding: 0 0 0 0;\n",
              "      width: 32px;\n",
              "    }\n",
              "\n",
              "    .colab-df-convert:hover {\n",
              "      background-color: #E2EBFA;\n",
              "      box-shadow: 0px 1px 2px rgba(60, 64, 67, 0.3), 0px 1px 3px 1px rgba(60, 64, 67, 0.15);\n",
              "      fill: #174EA6;\n",
              "    }\n",
              "\n",
              "    [theme=dark] .colab-df-convert {\n",
              "      background-color: #3B4455;\n",
              "      fill: #D2E3FC;\n",
              "    }\n",
              "\n",
              "    [theme=dark] .colab-df-convert:hover {\n",
              "      background-color: #434B5C;\n",
              "      box-shadow: 0px 1px 3px 1px rgba(0, 0, 0, 0.15);\n",
              "      filter: drop-shadow(0px 1px 2px rgba(0, 0, 0, 0.3));\n",
              "      fill: #FFFFFF;\n",
              "    }\n",
              "  </style>\n",
              "\n",
              "      <script>\n",
              "        const buttonEl =\n",
              "          document.querySelector('#df-00a572d0-3f33-47f8-89e0-f56c2f2e8256 button.colab-df-convert');\n",
              "        buttonEl.style.display =\n",
              "          google.colab.kernel.accessAllowed ? 'block' : 'none';\n",
              "\n",
              "        async function convertToInteractive(key) {\n",
              "          const element = document.querySelector('#df-00a572d0-3f33-47f8-89e0-f56c2f2e8256');\n",
              "          const dataTable =\n",
              "            await google.colab.kernel.invokeFunction('convertToInteractive',\n",
              "                                                     [key], {});\n",
              "          if (!dataTable) return;\n",
              "\n",
              "          const docLinkHtml = 'Like what you see? Visit the ' +\n",
              "            '<a target=\"_blank\" href=https://colab.research.google.com/notebooks/data_table.ipynb>data table notebook</a>'\n",
              "            + ' to learn more about interactive tables.';\n",
              "          element.innerHTML = '';\n",
              "          dataTable['output_type'] = 'display_data';\n",
              "          await google.colab.output.renderOutput(dataTable, element);\n",
              "          const docLink = document.createElement('div');\n",
              "          docLink.innerHTML = docLinkHtml;\n",
              "          element.appendChild(docLink);\n",
              "        }\n",
              "      </script>\n",
              "    </div>\n",
              "  </div>\n",
              "  "
            ]
          },
          "metadata": {},
          "execution_count": 7
        }
      ]
    },
    {
      "cell_type": "code",
      "source": [
        "pd.Series(target).describe()"
      ],
      "metadata": {
        "colab": {
          "base_uri": "https://localhost:8080/"
        },
        "id": "rp7mvKyBjMlp",
        "outputId": "ca18ad6a-9c82-4f1c-fe94-7f3f187f7f23"
      },
      "execution_count": 8,
      "outputs": [
        {
          "output_type": "execute_result",
          "data": {
            "text/plain": [
              "count    2000.000000\n",
              "mean        1.919534\n",
              "std         0.963947\n",
              "min         0.225000\n",
              "25%         1.177750\n",
              "50%         1.742000\n",
              "75%         2.409250\n",
              "max         5.000010\n",
              "dtype: float64"
            ]
          },
          "metadata": {},
          "execution_count": 8
        }
      ]
    },
    {
      "cell_type": "code",
      "source": [
        "fig, axes = plt.subplots(nrows=2, ncols=4, figsize=(20, 10))\n",
        "for i, feature_name in enumerate(housing[\"feature_names\"]):\n",
        "  ax = axes[i//4, i%4]\n",
        "  ax.scatter(data[:,i],target)\n",
        "  ax.set_xlabel(feature_name)\n",
        "  ax.set_ylabel(\"price\")\n",
        "  # 아래 그래프들에서 첫번째 그래프 MedInc가 증가했을 때 가격이 증가함"
      ],
      "metadata": {
        "colab": {
          "base_uri": "https://localhost:8080/",
          "height": 606
        },
        "id": "3nrKeVFzjkdd",
        "outputId": "690c8edc-5732-4221-fbcf-10919a85c46b"
      },
      "execution_count": 9,
      "outputs": [
        {
          "output_type": "display_data",
          "data": {
            "text/plain": [
              "<Figure size 1440x720 with 8 Axes>"
            ],
            "image/png": "[encoded data removed]"
          },
          "metadata": {
            "needs_background": "light"
          }
        }
      ]
    },
    {
      "cell_type": "markdown",
      "source": [
        "1.3 Data Split"
      ],
      "metadata": {
        "id": "QPCwoKHrlbMc"
      }
    },
    {
      "cell_type": "code",
      "source": [
        "from sklearn.model_selection import train_test_split\n",
        "\n",
        "train_data, test_data, train_target, test_target = train_test_split(\n",
        "    data, target, train_size=0.7, random_state=2021\n",
        ")"
      ],
      "metadata": {
        "id": "LDuvwc-OlGwh"
      },
      "execution_count": 10,
      "outputs": []
    },
    {
      "cell_type": "markdown",
      "source": [
        "# 2.Random Forest"
      ],
      "metadata": {
        "id": "JycOPJt1l09J"
      }
    },
    {
      "cell_type": "code",
      "source": [
        "from sklearn.ensemble import RandomForestRegressor\n",
        "\n",
        "rf_regressor = RandomForestRegressor()"
      ],
      "metadata": {
        "id": "hF9ED9OOlzcB"
      },
      "execution_count": 11,
      "outputs": []
    },
    {
      "cell_type": "markdown",
      "source": [
        "2.1 학습"
      ],
      "metadata": {
        "id": "zfAozFkwmaoV"
      }
    },
    {
      "cell_type": "code",
      "source": [
        "rf_regressor.fit(train_data, train_target)"
      ],
      "metadata": {
        "colab": {
          "base_uri": "https://localhost:8080/"
        },
        "id": "jKiwB05FmCqf",
        "outputId": "9daa59f3-9065-4d9b-ff5e-877dd521440e"
      },
      "execution_count": 12,
      "outputs": [
        {
          "output_type": "execute_result",
          "data": {
            "text/plain": [
              "RandomForestRegressor()"
            ]
          },
          "metadata": {},
          "execution_count": 12
        }
      ]
    },
    {
      "cell_type": "markdown",
      "source": [
        "2.2 예측"
      ],
      "metadata": {
        "id": "ngiJsnGDmgcv"
      }
    },
    {
      "cell_type": "code",
      "source": [
        "train_pred = rf_regressor.predict(train_data)\n",
        "test_pred = rf_regressor.predict(test_data)"
      ],
      "metadata": {
        "id": "29luu-6ImhlU"
      },
      "execution_count": 13,
      "outputs": []
    },
    {
      "cell_type": "code",
      "source": [
        "fig, axes = plt.subplots(nrows =1, ncols=2, figsize =(10,5))\n",
        "\n",
        "axes[0].scatter(train_target, train_pred)\n",
        "axes[0].set_xlabel(\"predict\")\n",
        "axes[0].set_ylabel(\"real\")\n",
        "\n",
        "axes[1].scatter(test_target, test_pred)\n",
        "axes[1].set_xlabel(\"predict\")\n",
        "axes[1].set_ylabel(\"real\")"
      ],
      "metadata": {
        "colab": {
          "base_uri": "https://localhost:8080/",
          "height": 352
        },
        "id": "nhxelJ2smfXH",
        "outputId": "f52faeda-43df-4c8a-bbd5-9d0c10076e52"
      },
      "execution_count": 14,
      "outputs": [
        {
          "output_type": "execute_result",
          "data": {
            "text/plain": [
              "Text(0, 0.5, 'real')"
            ]
          },
          "metadata": {},
          "execution_count": 14
        },
        {
          "output_type": "display_data",
          "data": {
            "text/plain": [
              "<Figure size 720x360 with 2 Axes>"
            ],
            "image/png": "[encoded data removed]"
          },
          "metadata": {
            "needs_background": "light"
          }
        }
      ]
    },
    {
      "cell_type": "code",
      "source": [
        "# 가로축 predict, 오른쪽 실제 예측해야되는 값\n",
        "# 45도로 쭉 있는게 예측 잘한것임\n",
        "# train은 예측 잘하고, test는 퍼지는 경향이 있음\n",
        "\n",
        "from sklearn.metrics import mean_squared_error\n",
        "\n",
        "train_mse = mean_squared_error(train_target, train_pred)\n",
        "test_mse = mean_squared_error(test_target, test_pred)"
      ],
      "metadata": {
        "id": "DR5m3PBTnoPj"
      },
      "execution_count": 16,
      "outputs": []
    },
    {
      "cell_type": "code",
      "source": [
        "print(f\"train mean squared error is {train_mse:.4f}\")\n",
        "print(f\"test mean squared error is {test_mse:.4f}\")"
      ],
      "metadata": {
        "colab": {
          "base_uri": "https://localhost:8080/"
        },
        "id": "QFIT9HLSobhh",
        "outputId": "5678dcb9-6882-413e-d0e0-7a5091c1e93b"
      },
      "execution_count": 17,
      "outputs": [
        {
          "output_type": "stream",
          "name": "stdout",
          "text": [
            "train mean squared error is 0.0274\n",
            "test mean squared error is 0.1478\n"
          ]
        }
      ]
    },
    {
      "cell_type": "markdown",
      "source": [
        "2.4 Feature Importance"
      ],
      "metadata": {
        "id": "XBNqx_Ayo3ZK"
      }
    },
    {
      "cell_type": "code",
      "source": [
        "feature_importance = pd.Series(rf_regressor.feature_importances_, index=housing[\"feature_names\"])\n",
        "feature_importance.sort_values(ascending=True).plot(kind=\"barh\")"
      ],
      "metadata": {
        "colab": {
          "base_uri": "https://localhost:8080/",
          "height": 283
        },
        "id": "BOMzlIQ5ot0a",
        "outputId": "cf355539-0879-43c1-bd86-01f9ef50e485"
      },
      "execution_count": 18,
      "outputs": [
        {
          "output_type": "execute_result",
          "data": {
            "text/plain": [
              "<matplotlib.axes._subplots.AxesSubplot at 0x7fe27745e5e0>"
            ]
          },
          "metadata": {},
          "execution_count": 18
        },
        {
          "output_type": "display_data",
          "data": {
            "text/plain": [
              "<Figure size 432x288 with 1 Axes>"
            ],
            "image/png": "[encoded data removed]"
          },
          "metadata": {
            "needs_background": "light"
          }
        }
      ]
    },
    {
      "cell_type": "markdown",
      "source": [
        "# 3. Best Parameter"
      ],
      "metadata": {
        "id": "2yGr0X0qpq2F"
      }
    },
    {
      "cell_type": "code",
      "source": [
        "from sklearn.model_selection import GridSearchCV"
      ],
      "metadata": {
        "id": "SEbhY9PJpZTw"
      },
      "execution_count": 19,
      "outputs": []
    },
    {
      "cell_type": "markdown",
      "source": [
        "Random Forest Regressor에서 설정하는 argument들은 다음과 같음\n",
        "\n",
        "- n_estimators\n",
        " - 몇 개의 의사결정나무를 생성할지 결정함\n",
        "\n",
        "- criterion\n",
        " - 감소 시킬 평가지표를 설정\n",
        " - \"mae\": Mean Absolute Error\n",
        " - \"mse\": Mean Squared Error\n",
        "\n",
        "- max_depth\n",
        " - 의사결정나무가 가질 수 있는 최대 깊이를 결정함\n",
        "\n",
        " \n"
      ],
      "metadata": {
        "id": "aRuvFlA-p541"
      }
    },
    {
      "cell_type": "markdown",
      "source": [
        "3.1 탐색 범위 설정"
      ],
      "metadata": {
        "id": "d386B3Vqqm0W"
      }
    },
    {
      "cell_type": "code",
      "source": [
        "params = {\n",
        "    \"n_estimators\":[100, 200, 500, 1000],\n",
        "    \"criterion\":[\"mae\", \"mse\"],\n",
        "    \"max_depth\":[3, 5, 7],\n",
        "}"
      ],
      "metadata": {
        "id": "wOK6JESjp32C"
      },
      "execution_count": 20,
      "outputs": []
    },
    {
      "cell_type": "code",
      "source": [
        "params"
      ],
      "metadata": {
        "colab": {
          "base_uri": "https://localhost:8080/"
        },
        "id": "LIKv7uvnq5Es",
        "outputId": "7875fcf1-7b06-48fd-bb94-85eee8c1a0cd"
      },
      "execution_count": 21,
      "outputs": [
        {
          "output_type": "execute_result",
          "data": {
            "text/plain": [
              "{'n_estimators': [100, 200, 500, 1000],\n",
              " 'criterion': ['mae', 'mse'],\n",
              " 'max_depth': [3, 5, 7]}"
            ]
          },
          "metadata": {},
          "execution_count": 21
        }
      ]
    },
    {
      "cell_type": "code",
      "source": [
        "cv_rf_regressor = RandomForestRegressor()"
      ],
      "metadata": {
        "id": "ZKr6AOGWrmKQ"
      },
      "execution_count": 22,
      "outputs": []
    },
    {
      "cell_type": "markdown",
      "source": [
        "3.2 탐색\n",
        "\n",
        "탐색을 시작합니다.\\\n",
        "cv는 k-fold의 k값 임"
      ],
      "metadata": {
        "id": "_EGFikttrGKm"
      }
    },
    {
      "cell_type": "code",
      "source": [
        "grid = GridSearchCV(estimator=cv_rf_regressor, param_grid=params, cv=3, n_jobs=-1) \n",
        "# 2*3*4 = 총 24개의 탐색범위 생김. --> cv=3 이여서 총 72개의 모델 생성\n",
        "# n_jobs = -1 사용할수 있는 job을 사용해서 탐색해라\n",
        "grid = grid.fit(train_data, train_target)"
      ],
      "metadata": {
        "colab": {
          "base_uri": "https://localhost:8080/"
        },
        "id": "aAalPT0YrH5y",
        "outputId": "04ca1a03-53fd-44df-e3d7-05cf9e2c3924"
      },
      "execution_count": 23,
      "outputs": [
        {
          "output_type": "stream",
          "name": "stderr",
          "text": [
            "/usr/local/lib/python3.8/dist-packages/sklearn/ensemble/_forest.py:403: FutureWarning: Criterion 'mae' was deprecated in v1.0 and will be removed in version 1.2. Use `criterion='absolute_error'` which is equivalent.\n",
            "  warn(\n"
          ]
        }
      ]
    },
    {
      "cell_type": "code",
      "source": [
        "print(f\"Best score of parameter search is : {grid.best_score_:.4f}\")\n"
      ],
      "metadata": {
        "colab": {
          "base_uri": "https://localhost:8080/"
        },
        "id": "jreLeyV5q6dm",
        "outputId": "ad6dce4e-710c-41a7-d74f-7fcb8804e8b5"
      },
      "execution_count": 24,
      "outputs": [
        {
          "output_type": "stream",
          "name": "stdout",
          "text": [
            "Best score of parameter search is : 0.7670\n"
          ]
        }
      ]
    },
    {
      "cell_type": "code",
      "source": [
        "grid.best_params_"
      ],
      "metadata": {
        "colab": {
          "base_uri": "https://localhost:8080/"
        },
        "id": "Ttf-27uYsqUf",
        "outputId": "a922c348-afb9-4a9f-8664-6d7688400d59"
      },
      "execution_count": 25,
      "outputs": [
        {
          "output_type": "execute_result",
          "data": {
            "text/plain": [
              "{'criterion': 'mae', 'max_depth': 7, 'n_estimators': 1000}"
            ]
          },
          "metadata": {},
          "execution_count": 25
        }
      ]
    },
    {
      "cell_type": "code",
      "source": [
        "print(\"Best parameter of beset score is\")\n",
        "for key, value in grid.best_params_.items():\n",
        "  print(f\"\\t {key}:{value}\")"
      ],
      "metadata": {
        "colab": {
          "base_uri": "https://localhost:8080/"
        },
        "id": "Vn3gsxBBsv5w",
        "outputId": "664ac993-4fdb-4615-f45c-025e7f610f1e"
      },
      "execution_count": 26,
      "outputs": [
        {
          "output_type": "stream",
          "name": "stdout",
          "text": [
            "Best parameter of beset score is\n",
            "\t criterion:mae\n",
            "\t max_depth:7\n",
            "\t n_estimators:1000\n"
          ]
        }
      ]
    },
    {
      "cell_type": "markdown",
      "source": [
        "3.3 평가"
      ],
      "metadata": {
        "id": "Jo3vk7KStXrV"
      }
    },
    {
      "cell_type": "code",
      "source": [
        "best_rf = grid.best_estimator_"
      ],
      "metadata": {
        "id": "XQYK9hK5tZ5z"
      },
      "execution_count": 28,
      "outputs": []
    },
    {
      "cell_type": "code",
      "source": [
        "cv_train_pred = best_rf.predict(train_data)\n",
        "cv_test_pred = best_rf.predict(test_data)"
      ],
      "metadata": {
        "id": "gujfrJnQuA_W"
      },
      "execution_count": 29,
      "outputs": []
    },
    {
      "cell_type": "code",
      "source": [
        "fig, axes = plt.subplots(nrows = 1, ncols =2, figsize=(10,5))\n",
        "\n",
        "axes[0].scatter(train_target, cv_train_pred)\n",
        "axes[0].set_xlabel(\"predict\")\n",
        "axes[0].set_ylabel(\"real\")\n",
        "\n",
        "axes[1].scatter(test_target, cv_test_pred)\n",
        "axes[1].set_xlabel(\"predcit\")\n",
        "axes[1].set_ylabel(\"real\")"
      ],
      "metadata": {
        "colab": {
          "base_uri": "https://localhost:8080/",
          "height": 352
        },
        "id": "-uUV-tnrutJ6",
        "outputId": "1ef60d1d-07ca-46ca-8608-86d2e8ee9b44"
      },
      "execution_count": 30,
      "outputs": [
        {
          "output_type": "execute_result",
          "data": {
            "text/plain": [
              "Text(0, 0.5, 'real')"
            ]
          },
          "metadata": {},
          "execution_count": 30
        },
        {
          "output_type": "display_data",
          "data": {
            "text/plain": [
              "<Figure size 720x360 with 2 Axes>"
            ],
            "image/png": "[encoded data removed]"
          },
          "metadata": {
            "needs_background": "light"
          }
        }
      ]
    },
    {
      "cell_type": "code",
      "source": [
        "cv_train_mse = mean_squared_error(train_target, cv_train_pred)\n",
        "cv_test_mse = mean_squared_error(test_target, cv_test_pred)"
      ],
      "metadata": {
        "id": "tXgBA18gviPS"
      },
      "execution_count": 31,
      "outputs": []
    },
    {
      "cell_type": "code",
      "source": [
        "print(f\"Best model Train mean squared error is {cv_train_mse:.4f}\")\n",
        "print(f\"Best model Test mean squared error is {cv_test_mse:.4f}\")"
      ],
      "metadata": {
        "colab": {
          "base_uri": "https://localhost:8080/"
        },
        "id": "O7UF8NNnvuHQ",
        "outputId": "5671c010-0e6f-480b-816f-f3eb1e8bd71c"
      },
      "execution_count": 32,
      "outputs": [
        {
          "output_type": "stream",
          "name": "stdout",
          "text": [
            "Best model Train mean squared error is 0.0974\n",
            "Best model Test mean squared error is 0.1622\n"
          ]
        }
      ]
    },
    {
      "cell_type": "code",
      "source": [
        "cv_feature_importance = pd.Series(best_rf.feature_importances_, index=housing[\"feature_names\"])\n",
        "cv_feature_importance.sort_values(ascending=True).plot(kind=\"barh\")"
      ],
      "metadata": {
        "colab": {
          "base_uri": "https://localhost:8080/",
          "height": 283
        },
        "id": "KhYNbBCxwHlK",
        "outputId": "dc0c9007-3d77-453c-c81b-b31069c8ce03"
      },
      "execution_count": 34,
      "outputs": [
        {
          "output_type": "execute_result",
          "data": {
            "text/plain": [
              "<matplotlib.axes._subplots.AxesSubplot at 0x7fe27a42c2e0>"
            ]
          },
          "metadata": {},
          "execution_count": 34
        },
        {
          "output_type": "display_data",
          "data": {
            "text/plain": [
              "<Figure size 432x288 with 1 Axes>"
            ],
            "image/png": "[encoded data removed]"
          },
          "metadata": {
            "needs_background": "light"
          }
        }
      ]
    },
    {
      "cell_type": "markdown",
      "source": [
        "# 4. 마무리"
      ],
      "metadata": {
        "id": "O-coSl1iw0O0"
      }
    },
    {
      "cell_type": "code",
      "source": [
        "# 튜닝을 하지 않은 모델과, 튜닝한 모델 성능차이 >> 튜닝하지 않는 모델이 정확도가 높음(시간관계상 좁은 범위 탐색하여 튜닝하지 않는 모델 예측값이 더 높음)\n",
        "print(f\"Test mean squared error is {test_mse:.4f}\")\n",
        "print(f\"Best model Test man squared error is {cv_test_mse:.4f}\")"
      ],
      "metadata": {
        "colab": {
          "base_uri": "https://localhost:8080/"
        },
        "id": "b_tQuh7jw2Hq",
        "outputId": "39a2175d-121a-449d-b51b-f749ab786563"
      },
      "execution_count": 35,
      "outputs": [
        {
          "output_type": "stream",
          "name": "stdout",
          "text": [
            "Test mean squared error is 0.1478\n",
            "Best model Test man squared error is 0.1622\n"
          ]
        }
      ]
    },
    {
      "cell_type": "code",
      "source": [
        "# feature importance 비교\n",
        "fig, axes = plt.subplots(nrows = 1, ncols=2, figsize = (15, 5))\n",
        "feature_importance.sort_values(ascending=True).plot(kind=\"barh\", ax=axes[0])\n",
        "cv_feature_importance.sort_values(ascending=True).plot(kind=\"barh\", ax=axes[1])"
      ],
      "metadata": {
        "colab": {
          "base_uri": "https://localhost:8080/",
          "height": 338
        },
        "id": "QBxxv_iMxCfF",
        "outputId": "bdb63bf0-ad0a-4bfe-8a34-32ecaea6ab43"
      },
      "execution_count": 36,
      "outputs": [
        {
          "output_type": "execute_result",
          "data": {
            "text/plain": [
              "<matplotlib.axes._subplots.AxesSubplot at 0x7fe276b8c9d0>"
            ]
          },
          "metadata": {},
          "execution_count": 36
        },
        {
          "output_type": "display_data",
          "data": {
            "text/plain": [
              "<Figure size 1080x360 with 2 Axes>"
            ],
            "image/png": "[encoded data removed]"
          },
          "metadata": {
            "needs_background": "light"
          }
        }
      ]
    },
    {
      "cell_type": "code",
      "source": [],
      "metadata": {
        "id": "Z0goUTlexvYB"
      },
      "execution_count": null,
      "outputs": []
    }
  ]
}