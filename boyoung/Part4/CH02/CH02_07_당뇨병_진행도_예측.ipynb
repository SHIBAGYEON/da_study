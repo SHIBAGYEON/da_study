{
  "nbformat": 4,
  "nbformat_minor": 0,
  "metadata": {
    "colab": {
      "provenance": []
    },
    "kernelspec": {
      "name": "python3",
      "display_name": "Python 3"
    },
    "language_info": {
      "name": "python"
    }
  },
  "cells": [
    {
      "cell_type": "markdown",
      "source": [
        "# **Diabetes 데이터와 Linear Regression**\n",
        "\n",
        "당뇨병 진행도와 관련된 데이터를 이용해 당뇨병 진행을 예측하는 Linear Regression을 학습"
      ],
      "metadata": {
        "id": "EzwDK6jV1F98"
      }
    },
    {
      "cell_type": "code",
      "execution_count": 1,
      "metadata": {
        "id": "e1aGgKmg0_c3"
      },
      "outputs": [],
      "source": [
        "import pandas as pd\n",
        "import numpy as np\n",
        "import matplotlib.pyplot as plt\n",
        "\n",
        "\n",
        "np.random.seed(2021)"
      ]
    },
    {
      "cell_type": "markdown",
      "source": [
        "# 1. Data"
      ],
      "metadata": {
        "id": "y6SJA1AM1eU0"
      }
    },
    {
      "cell_type": "markdown",
      "source": [
        "1.1 Data Load\n",
        "\n",
        "데이터는 sklearn.datasets의 load_diabetes 함수를 이용해 받을 수 있음"
      ],
      "metadata": {
        "id": "_u5mylyw1lKd"
      }
    },
    {
      "cell_type": "code",
      "source": [
        "from sklearn.datasets import load_diabetes\n",
        "diabetes = load_diabetes()\n"
      ],
      "metadata": {
        "id": "Ov8lyP6q1c8j"
      },
      "execution_count": 55,
      "outputs": []
    },
    {
      "cell_type": "markdown",
      "source": [
        "당뇨병 데이터에서 사용되는 변수명은 feature_names 키 값으로 들어있음.\\\n",
        "변수명과 변수에 대한 설명은 다음과 같음\n",
        "\n",
        "- age: 나이\n",
        "- sex: 성별\n",
        "- bmi: Body mass index\n",
        "- bp: Average blood pressure\n",
        "- 혈청에 대한 6가지 지표들\n",
        "  -  S1, S2, S3, S4, S5, S6"
      ],
      "metadata": {
        "id": "123ZPuPR1-j7"
      }
    },
    {
      "cell_type": "code",
      "source": [
        "diabetes['feature_names']"
      ],
      "metadata": {
        "colab": {
          "base_uri": "https://localhost:8080/"
        },
        "id": "DS0ordMR19Sr",
        "outputId": "4fac4bb2-64a9-40ef-cb99-36e9c4f47f78"
      },
      "execution_count": 3,
      "outputs": [
        {
          "output_type": "execute_result",
          "data": {
            "text/plain": [
              "['age', 'sex', 'bmi', 'bp', 's1', 's2', 's3', 's4', 's5', 's6']"
            ]
          },
          "metadata": {},
          "execution_count": 3
        }
      ]
    },
    {
      "cell_type": "code",
      "source": [
        "data, target = diabetes['data'], diabetes['target'] # ??? data 와 target 무엇인지?"
      ],
      "metadata": {
        "id": "MtZszGU324iH"
      },
      "execution_count": 58,
      "outputs": []
    },
    {
      "cell_type": "code",
      "source": [
        "data[0]"
      ],
      "metadata": {
        "colab": {
          "base_uri": "https://localhost:8080/"
        },
        "id": "zLzbgt063MvO",
        "outputId": "b0729c0a-c116-4f5b-f1d7-1556d29b0364"
      },
      "execution_count": 59,
      "outputs": [
        {
          "output_type": "execute_result",
          "data": {
            "text/plain": [
              "array([ 0.03807591,  0.05068012,  0.06169621,  0.02187235, -0.0442235 ,\n",
              "       -0.03482076, -0.04340085, -0.00259226,  0.01990842, -0.01764613])"
            ]
          },
          "metadata": {},
          "execution_count": 59
        }
      ]
    },
    {
      "cell_type": "code",
      "source": [
        "target[0]"
      ],
      "metadata": {
        "colab": {
          "base_uri": "https://localhost:8080/"
        },
        "id": "OEUqX2ou3OAj",
        "outputId": "b107c346-6151-4142-cfb2-fd0bcf0f24c6"
      },
      "execution_count": 60,
      "outputs": [
        {
          "output_type": "execute_result",
          "data": {
            "text/plain": [
              "151.0"
            ]
          },
          "metadata": {},
          "execution_count": 60
        }
      ]
    },
    {
      "cell_type": "markdown",
      "source": [
        "# 1.2 Data EDA"
      ],
      "metadata": {
        "id": "IWIvQWEA3V9B"
      }
    },
    {
      "cell_type": "code",
      "source": [
        "df = pd.DataFrame(data, columns=diabetes['feature_names'])"
      ],
      "metadata": {
        "id": "FpFhabqm3Uoy"
      },
      "execution_count": 61,
      "outputs": []
    },
    {
      "cell_type": "code",
      "source": [
        "df.describe()"
      ],
      "metadata": {
        "colab": {
          "base_uri": "https://localhost:8080/",
          "height": 300
        },
        "id": "NDk1_taH3h7g",
        "outputId": "66f5a3b5-32ba-4e4a-b4e2-c2e8bc4477c9"
      },
      "execution_count": 8,
      "outputs": [
        {
          "output_type": "execute_result",
          "data": {
            "text/plain": [
              "                age           sex           bmi            bp            s1  \\\n",
              "count  4.420000e+02  4.420000e+02  4.420000e+02  4.420000e+02  4.420000e+02   \n",
              "mean  -3.639623e-16  1.309912e-16 -8.013951e-16  1.289818e-16 -9.042540e-17   \n",
              "std    4.761905e-02  4.761905e-02  4.761905e-02  4.761905e-02  4.761905e-02   \n",
              "min   -1.072256e-01 -4.464164e-02 -9.027530e-02 -1.123996e-01 -1.267807e-01   \n",
              "25%   -3.729927e-02 -4.464164e-02 -3.422907e-02 -3.665645e-02 -3.424784e-02   \n",
              "50%    5.383060e-03 -4.464164e-02 -7.283766e-03 -5.670611e-03 -4.320866e-03   \n",
              "75%    3.807591e-02  5.068012e-02  3.124802e-02  3.564384e-02  2.835801e-02   \n",
              "max    1.107267e-01  5.068012e-02  1.705552e-01  1.320442e-01  1.539137e-01   \n",
              "\n",
              "                 s2            s3            s4            s5            s6  \n",
              "count  4.420000e+02  4.420000e+02  4.420000e+02  4.420000e+02  4.420000e+02  \n",
              "mean   1.301121e-16 -4.563971e-16  3.863174e-16 -3.848103e-16 -3.398488e-16  \n",
              "std    4.761905e-02  4.761905e-02  4.761905e-02  4.761905e-02  4.761905e-02  \n",
              "min   -1.156131e-01 -1.023071e-01 -7.639450e-02 -1.260974e-01 -1.377672e-01  \n",
              "25%   -3.035840e-02 -3.511716e-02 -3.949338e-02 -3.324879e-02 -3.317903e-02  \n",
              "50%   -3.819065e-03 -6.584468e-03 -2.592262e-03 -1.947634e-03 -1.077698e-03  \n",
              "75%    2.984439e-02  2.931150e-02  3.430886e-02  3.243323e-02  2.791705e-02  \n",
              "max    1.987880e-01  1.811791e-01  1.852344e-01  1.335990e-01  1.356118e-01  "
            ],
            "text/html": [
              "\n",
              "  <div id=\"df-21f485ca-73a7-4db7-9d80-c93f17f93876\">\n",
              "    <div class=\"colab-df-container\">\n",
              "      <div>\n",
              "<style scoped>\n",
              "    .dataframe tbody tr th:only-of-type {\n",
              "        vertical-align: middle;\n",
              "    }\n",
              "\n",
              "    .dataframe tbody tr th {\n",
              "        vertical-align: top;\n",
              "    }\n",
              "\n",
              "    .dataframe thead th {\n",
              "        text-align: right;\n",
              "    }\n",
              "</style>\n",
              "<table border=\"1\" class=\"dataframe\">\n",
              "  <thead>\n",
              "    <tr style=\"text-align: right;\">\n",
              "      <th></th>\n",
              "      <th>age</th>\n",
              "      <th>sex</th>\n",
              "      <th>bmi</th>\n",
              "      <th>bp</th>\n",
              "      <th>s1</th>\n",
              "      <th>s2</th>\n",
              "      <th>s3</th>\n",
              "      <th>s4</th>\n",
              "      <th>s5</th>\n",
              "      <th>s6</th>\n",
              "    </tr>\n",
              "  </thead>\n",
              "  <tbody>\n",
              "    <tr>\n",
              "      <th>count</th>\n",
              "      <td>4.420000e+02</td>\n",
              "      <td>4.420000e+02</td>\n",
              "      <td>4.420000e+02</td>\n",
              "      <td>4.420000e+02</td>\n",
              "      <td>4.420000e+02</td>\n",
              "      <td>4.420000e+02</td>\n",
              "      <td>4.420000e+02</td>\n",
              "      <td>4.420000e+02</td>\n",
              "      <td>4.420000e+02</td>\n",
              "      <td>4.420000e+02</td>\n",
              "    </tr>\n",
              "    <tr>\n",
              "      <th>mean</th>\n",
              "      <td>-3.639623e-16</td>\n",
              "      <td>1.309912e-16</td>\n",
              "      <td>-8.013951e-16</td>\n",
              "      <td>1.289818e-16</td>\n",
              "      <td>-9.042540e-17</td>\n",
              "      <td>1.301121e-16</td>\n",
              "      <td>-4.563971e-16</td>\n",
              "      <td>3.863174e-16</td>\n",
              "      <td>-3.848103e-16</td>\n",
              "      <td>-3.398488e-16</td>\n",
              "    </tr>\n",
              "    <tr>\n",
              "      <th>std</th>\n",
              "      <td>4.761905e-02</td>\n",
              "      <td>4.761905e-02</td>\n",
              "      <td>4.761905e-02</td>\n",
              "      <td>4.761905e-02</td>\n",
              "      <td>4.761905e-02</td>\n",
              "      <td>4.761905e-02</td>\n",
              "      <td>4.761905e-02</td>\n",
              "      <td>4.761905e-02</td>\n",
              "      <td>4.761905e-02</td>\n",
              "      <td>4.761905e-02</td>\n",
              "    </tr>\n",
              "    <tr>\n",
              "      <th>min</th>\n",
              "      <td>-1.072256e-01</td>\n",
              "      <td>-4.464164e-02</td>\n",
              "      <td>-9.027530e-02</td>\n",
              "      <td>-1.123996e-01</td>\n",
              "      <td>-1.267807e-01</td>\n",
              "      <td>-1.156131e-01</td>\n",
              "      <td>-1.023071e-01</td>\n",
              "      <td>-7.639450e-02</td>\n",
              "      <td>-1.260974e-01</td>\n",
              "      <td>-1.377672e-01</td>\n",
              "    </tr>\n",
              "    <tr>\n",
              "      <th>25%</th>\n",
              "      <td>-3.729927e-02</td>\n",
              "      <td>-4.464164e-02</td>\n",
              "      <td>-3.422907e-02</td>\n",
              "      <td>-3.665645e-02</td>\n",
              "      <td>-3.424784e-02</td>\n",
              "      <td>-3.035840e-02</td>\n",
              "      <td>-3.511716e-02</td>\n",
              "      <td>-3.949338e-02</td>\n",
              "      <td>-3.324879e-02</td>\n",
              "      <td>-3.317903e-02</td>\n",
              "    </tr>\n",
              "    <tr>\n",
              "      <th>50%</th>\n",
              "      <td>5.383060e-03</td>\n",
              "      <td>-4.464164e-02</td>\n",
              "      <td>-7.283766e-03</td>\n",
              "      <td>-5.670611e-03</td>\n",
              "      <td>-4.320866e-03</td>\n",
              "      <td>-3.819065e-03</td>\n",
              "      <td>-6.584468e-03</td>\n",
              "      <td>-2.592262e-03</td>\n",
              "      <td>-1.947634e-03</td>\n",
              "      <td>-1.077698e-03</td>\n",
              "    </tr>\n",
              "    <tr>\n",
              "      <th>75%</th>\n",
              "      <td>3.807591e-02</td>\n",
              "      <td>5.068012e-02</td>\n",
              "      <td>3.124802e-02</td>\n",
              "      <td>3.564384e-02</td>\n",
              "      <td>2.835801e-02</td>\n",
              "      <td>2.984439e-02</td>\n",
              "      <td>2.931150e-02</td>\n",
              "      <td>3.430886e-02</td>\n",
              "      <td>3.243323e-02</td>\n",
              "      <td>2.791705e-02</td>\n",
              "    </tr>\n",
              "    <tr>\n",
              "      <th>max</th>\n",
              "      <td>1.107267e-01</td>\n",
              "      <td>5.068012e-02</td>\n",
              "      <td>1.705552e-01</td>\n",
              "      <td>1.320442e-01</td>\n",
              "      <td>1.539137e-01</td>\n",
              "      <td>1.987880e-01</td>\n",
              "      <td>1.811791e-01</td>\n",
              "      <td>1.852344e-01</td>\n",
              "      <td>1.335990e-01</td>\n",
              "      <td>1.356118e-01</td>\n",
              "    </tr>\n",
              "  </tbody>\n",
              "</table>\n",
              "</div>\n",
              "      <button class=\"colab-df-convert\" onclick=\"convertToInteractive('df-21f485ca-73a7-4db7-9d80-c93f17f93876')\"\n",
              "              title=\"Convert this dataframe to an interactive table.\"\n",
              "              style=\"display:none;\">\n",
              "        \n",
              "  <svg xmlns=\"http://www.w3.org/2000/svg\" height=\"24px\"viewBox=\"0 0 24 24\"\n",
              "       width=\"24px\">\n",
              "    <path d=\"M0 0h24v24H0V0z\" fill=\"none\"/>\n",
              "    <path d=\"M18.56 5.44l.94 2.06.94-2.06 2.06-.94-2.06-.94-.94-2.06-.94 2.06-2.06.94zm-11 1L8.5 8.5l.94-2.06 2.06-.94-2.06-.94L8.5 2.5l-.94 2.06-2.06.94zm10 10l.94 2.06.94-2.06 2.06-.94-2.06-.94-.94-2.06-.94 2.06-2.06.94z\"/><path d=\"M17.41 7.96l-1.37-1.37c-.4-.4-.92-.59-1.43-.59-.52 0-1.04.2-1.43.59L10.3 9.45l-7.72 7.72c-.78.78-.78 2.05 0 2.83L4 21.41c.39.39.9.59 1.41.59.51 0 1.02-.2 1.41-.59l7.78-7.78 2.81-2.81c.8-.78.8-2.07 0-2.86zM5.41 20L4 18.59l7.72-7.72 1.47 1.35L5.41 20z\"/>\n",
              "  </svg>\n",
              "      </button>\n",
              "      \n",
              "  <style>\n",
              "    .colab-df-container {\n",
              "      display:flex;\n",
              "      flex-wrap:wrap;\n",
              "      gap: 12px;\n",
              "    }\n",
              "\n",
              "    .colab-df-convert {\n",
              "      background-color: #E8F0FE;\n",
              "      border: none;\n",
              "      border-radius: 50%;\n",
              "      cursor: pointer;\n",
              "      display: none;\n",
              "      fill: #1967D2;\n",
              "      height: 32px;\n",
              "      padding: 0 0 0 0;\n",
              "      width: 32px;\n",
              "    }\n",
              "\n",
              "    .colab-df-convert:hover {\n",
              "      background-color: #E2EBFA;\n",
              "      box-shadow: 0px 1px 2px rgba(60, 64, 67, 0.3), 0px 1px 3px 1px rgba(60, 64, 67, 0.15);\n",
              "      fill: #174EA6;\n",
              "    }\n",
              "\n",
              "    [theme=dark] .colab-df-convert {\n",
              "      background-color: #3B4455;\n",
              "      fill: #D2E3FC;\n",
              "    }\n",
              "\n",
              "    [theme=dark] .colab-df-convert:hover {\n",
              "      background-color: #434B5C;\n",
              "      box-shadow: 0px 1px 3px 1px rgba(0, 0, 0, 0.15);\n",
              "      filter: drop-shadow(0px 1px 2px rgba(0, 0, 0, 0.3));\n",
              "      fill: #FFFFFF;\n",
              "    }\n",
              "  </style>\n",
              "\n",
              "      <script>\n",
              "        const buttonEl =\n",
              "          document.querySelector('#df-21f485ca-73a7-4db7-9d80-c93f17f93876 button.colab-df-convert');\n",
              "        buttonEl.style.display =\n",
              "          google.colab.kernel.accessAllowed ? 'block' : 'none';\n",
              "\n",
              "        async function convertToInteractive(key) {\n",
              "          const element = document.querySelector('#df-21f485ca-73a7-4db7-9d80-c93f17f93876');\n",
              "          const dataTable =\n",
              "            await google.colab.kernel.invokeFunction('convertToInteractive',\n",
              "                                                     [key], {});\n",
              "          if (!dataTable) return;\n",
              "\n",
              "          const docLinkHtml = 'Like what you see? Visit the ' +\n",
              "            '<a target=\"_blank\" href=https://colab.research.google.com/notebooks/data_table.ipynb>data table notebook</a>'\n",
              "            + ' to learn more about interactive tables.';\n",
              "          element.innerHTML = '';\n",
              "          dataTable['output_type'] = 'display_data';\n",
              "          await google.colab.output.renderOutput(dataTable, element);\n",
              "          const docLink = document.createElement('div');\n",
              "          docLink.innerHTML = docLinkHtml;\n",
              "          element.appendChild(docLink);\n",
              "        }\n",
              "      </script>\n",
              "    </div>\n",
              "  </div>\n",
              "  "
            ]
          },
          "metadata": {},
          "execution_count": 8
        }
      ]
    },
    {
      "cell_type": "markdown",
      "source": [
        "# 1.3 Data Split"
      ],
      "metadata": {
        "id": "mWRpbHvy38_6"
      }
    },
    {
      "cell_type": "markdown",
      "source": [
        "sklearn.model_selection의 train_test_split함수 사용하여 데이터 나눔"
      ],
      "metadata": {
        "id": "f1dnjWUC4CjX"
      }
    },
    {
      "cell_type": "code",
      "source": [
        "train_test_split(\n",
        "    *arrays, #???\n",
        "    test_size = None,\n",
        "    train_size = None,\n",
        "    random_state = None,\n",
        "    suffle = True,\n",
        "    stratify = None,\n",
        ")"
      ],
      "metadata": {
        "colab": {
          "base_uri": "https://localhost:8080/",
          "height": 241
        },
        "id": "KLI9KA7r3uSb",
        "outputId": "c3f6979e-f887-46d2-fb4e-2b743ee22725"
      },
      "execution_count": 27,
      "outputs": [
        {
          "output_type": "error",
          "ename": "NameError",
          "evalue": "ignored",
          "traceback": [
            "\u001b[0;31m---------------------------------------------------------------------------\u001b[0m",
            "\u001b[0;31mNameError\u001b[0m                                 Traceback (most recent call last)",
            "\u001b[0;32m<ipython-input-27-6719ab08fe8f>\u001b[0m in \u001b[0;36m<module>\u001b[0;34m\u001b[0m\n\u001b[1;32m      1\u001b[0m train_test_split(\n\u001b[0;32m----> 2\u001b[0;31m     \u001b[0marrays\u001b[0m\u001b[0;34m,\u001b[0m\u001b[0;34m\u001b[0m\u001b[0;34m\u001b[0m\u001b[0m\n\u001b[0m\u001b[1;32m      3\u001b[0m     \u001b[0mtest_size\u001b[0m \u001b[0;34m=\u001b[0m \u001b[0;32mNone\u001b[0m\u001b[0;34m,\u001b[0m\u001b[0;34m\u001b[0m\u001b[0;34m\u001b[0m\u001b[0m\n\u001b[1;32m      4\u001b[0m     \u001b[0mtrain_size\u001b[0m \u001b[0;34m=\u001b[0m \u001b[0;32mNone\u001b[0m\u001b[0;34m,\u001b[0m\u001b[0;34m\u001b[0m\u001b[0;34m\u001b[0m\u001b[0m\n\u001b[1;32m      5\u001b[0m     \u001b[0mrandom_state\u001b[0m \u001b[0;34m=\u001b[0m \u001b[0;32mNone\u001b[0m\u001b[0;34m,\u001b[0m\u001b[0;34m\u001b[0m\u001b[0;34m\u001b[0m\u001b[0m\n",
            "\u001b[0;31mNameError\u001b[0m: name 'arrays' is not defined"
          ]
        }
      ]
    },
    {
      "cell_type": "markdown",
      "source": [
        "- *array: 입력은 array로 이루어진 데이터를 받기\n",
        "- test_size: test로 분할될 사이즈를 정함\n",
        "- train_size: train 으로 분할될 사이즈를 정함\n",
        "- random_state: 다음에도 같은 값을 받기 위해서 난수를 고정\n",
        "- suffle: 데이터를 섞을지 말지 결정\n",
        "- stratify: 데이터를 나눌때 정답의 분포 반영"
      ],
      "metadata": {
        "id": "PGhSMW3O51Zu"
      }
    },
    {
      "cell_type": "code",
      "source": [
        "from sklearn.model_selection import train_test_split\n",
        "# train, test 각 data 및 target 나눔\n",
        "train_data, test_data, train_target, test_target = train_test_split(data, target, test_size=0.3)"
      ],
      "metadata": {
        "id": "EQDNVM-K4u5X"
      },
      "execution_count": 28,
      "outputs": []
    },
    {
      "cell_type": "markdown",
      "source": [
        "train 과 test를 7:3 비율로 나눔\\\n",
        "실제로 잘 나누어졌는지 확인"
      ],
      "metadata": {
        "id": "ejgVz-WN5ifF"
      }
    },
    {
      "cell_type": "code",
      "source": [
        "len(data), len(train_data), len(test_data)"
      ],
      "metadata": {
        "colab": {
          "base_uri": "https://localhost:8080/"
        },
        "id": "ym17e7me5cs7",
        "outputId": "c3725601-e398-4264-a4f5-398d3d0b79de"
      },
      "execution_count": 12,
      "outputs": [
        {
          "output_type": "execute_result",
          "data": {
            "text/plain": [
              "(442, 309, 133)"
            ]
          },
          "metadata": {},
          "execution_count": 12
        }
      ]
    },
    {
      "cell_type": "code",
      "source": [
        "print('train ratio: {:.2f}'.format(len(train_data)/len(data)))\n",
        "print('test ratio: {:.2f}'.format(len(test_data)/len(data)))"
      ],
      "metadata": {
        "colab": {
          "base_uri": "https://localhost:8080/"
        },
        "id": "mxgl6p2M5xeh",
        "outputId": "ce46c3e6-aca3-4c2c-ca12-4521ab2c8bc9"
      },
      "execution_count": 13,
      "outputs": [
        {
          "output_type": "stream",
          "name": "stdout",
          "text": [
            "train ratio: 0.70\n",
            "test ratio: 0.30\n"
          ]
        }
      ]
    },
    {
      "cell_type": "markdown",
      "source": [
        "# 2. Multivariate Regression"
      ],
      "metadata": {
        "id": "-qLDew2U86XN"
      }
    },
    {
      "cell_type": "markdown",
      "source": [
        "2.1 학습"
      ],
      "metadata": {
        "id": "RFGzU-Mo8-Qr"
      }
    },
    {
      "cell_type": "code",
      "source": [
        "from sklearn.linear_model import LinearRegression\n",
        "\n",
        "multi_regressor = LinearRegression() #???\n",
        "multi_regressor.fit(train_data, train_target) #???"
      ],
      "metadata": {
        "colab": {
          "base_uri": "https://localhost:8080/"
        },
        "id": "qjagsDtu7Z20",
        "outputId": "e0dda5d1-fa5c-4764-86d1-a51fb3fae96d"
      },
      "execution_count": 14,
      "outputs": [
        {
          "output_type": "execute_result",
          "data": {
            "text/plain": [
              "LinearRegression()"
            ]
          },
          "metadata": {},
          "execution_count": 14
        }
      ]
    },
    {
      "cell_type": "markdown",
      "source": [
        "# 2.2  회귀식 확인"
      ],
      "metadata": {
        "id": "WehBA4AG-3vY"
      }
    },
    {
      "cell_type": "code",
      "source": [
        "multi_regressor.intercept_"
      ],
      "metadata": {
        "colab": {
          "base_uri": "https://localhost:8080/"
        },
        "id": "6_QP9_qI9Y8v",
        "outputId": "7e2b885e-ff4a-428f-c4f8-d65aeaf56152"
      },
      "execution_count": 15,
      "outputs": [
        {
          "output_type": "execute_result",
          "data": {
            "text/plain": [
              "147.71524417759434"
            ]
          },
          "metadata": {},
          "execution_count": 15
        }
      ]
    },
    {
      "cell_type": "code",
      "source": [
        "multi_regressor.coef_"
      ],
      "metadata": {
        "colab": {
          "base_uri": "https://localhost:8080/"
        },
        "id": "2ofx2Dtz-_4N",
        "outputId": "c97da0b9-02f7-46bd-b8a4-1d9203a62f30"
      },
      "execution_count": 16,
      "outputs": [
        {
          "output_type": "execute_result",
          "data": {
            "text/plain": [
              "array([  15.28529701, -218.59128442,  545.19999487,  263.6592052 ,\n",
              "       -582.66349612,  317.33684049,   48.53542723,  215.51374612,\n",
              "        655.7965519 ,   64.04030953])"
            ]
          },
          "metadata": {},
          "execution_count": 16
        }
      ]
    },
    {
      "cell_type": "markdown",
      "source": [
        "# 2.3 예측"
      ],
      "metadata": {
        "id": "5jsP9s4k_ZnX"
      }
    },
    {
      "cell_type": "code",
      "source": [
        "multi_train_pred = multi_regressor.predict(train_data)\n",
        "multi_test_pred = multi_regressor.predict(test_data)"
      ],
      "metadata": {
        "id": "xV3fjg8n_E1T"
      },
      "execution_count": 17,
      "outputs": []
    },
    {
      "cell_type": "markdown",
      "source": [
        "# 2.4 평가"
      ],
      "metadata": {
        "id": "gm6WD0kN_opW"
      }
    },
    {
      "cell_type": "markdown",
      "source": [
        "평가는 sklearn.metrics의 mean_squared_error을 이용. mean_squared_error 는 두 값의 차이의 제곱의 평균을 계산"
      ],
      "metadata": {
        "id": "8vj_VQ1i_rqU"
      }
    },
    {
      "cell_type": "code",
      "source": [
        "from sklearn.metrics import mean_squared_error\n",
        "\n",
        "multi_train_mae = mean_squared_error(multi_train_pred, train_target)\n",
        "multi_test_mae = mean_squared_error(multi_test_pred, test_target)"
      ],
      "metadata": {
        "id": "kAfX_W3I_mvx"
      },
      "execution_count": 18,
      "outputs": []
    },
    {
      "cell_type": "code",
      "source": [
        "print(f'Multi Regression Train MSE is {multi_train_mae:.4f}')\n",
        "print(f'Multi Regression Test MSE is {multi_test_mae:.4f}')"
      ],
      "metadata": {
        "colab": {
          "base_uri": "https://localhost:8080/"
        },
        "id": "H8ECybdAAUx4",
        "outputId": "c6c820f7-af3b-44f1-a466-840ae3b92cf9"
      },
      "execution_count": 19,
      "outputs": [
        {
          "output_type": "stream",
          "name": "stdout",
          "text": [
            "Multi Regression Train MSE is 3034.2623\n",
            "Multi Regression Test MSE is 2562.2750\n"
          ]
        }
      ]
    },
    {
      "cell_type": "markdown",
      "source": [
        "# 3. Ridge Regression"
      ],
      "metadata": {
        "id": "nTZULyMbA_Ge"
      }
    },
    {
      "cell_type": "markdown",
      "source": [
        "3.1 학습"
      ],
      "metadata": {
        "id": "dpYuP6-FBMda"
      }
    },
    {
      "cell_type": "code",
      "source": [
        "from sklearn.linear_model import Ridge\n",
        "\n",
        "ridge_regressor = Ridge()\n",
        "ridge_regressor.fit(train_data, train_target)"
      ],
      "metadata": {
        "colab": {
          "base_uri": "https://localhost:8080/"
        },
        "id": "lA8Gnu7cA2f8",
        "outputId": "00f91cb7-6ca1-490a-9a4e-c5b176bb69e5"
      },
      "execution_count": 20,
      "outputs": [
        {
          "output_type": "execute_result",
          "data": {
            "text/plain": [
              "Ridge()"
            ]
          },
          "metadata": {},
          "execution_count": 20
        }
      ]
    },
    {
      "cell_type": "markdown",
      "source": [
        "3.2 회귀식 확인"
      ],
      "metadata": {
        "id": "cE0I2cyXBt7W"
      }
    },
    {
      "cell_type": "code",
      "source": [
        "ridge_regressor.intercept_"
      ],
      "metadata": {
        "colab": {
          "base_uri": "https://localhost:8080/"
        },
        "id": "jGt8XZzyBas-",
        "outputId": "5066f6e6-26c1-4715-84d6-3c40804342c9"
      },
      "execution_count": 21,
      "outputs": [
        {
          "output_type": "execute_result",
          "data": {
            "text/plain": [
              "147.74060119766182"
            ]
          },
          "metadata": {},
          "execution_count": 21
        }
      ]
    },
    {
      "cell_type": "code",
      "source": [
        "# 500 or 300과 같은 큰 값이 나옴\n",
        "multi_regressor.coef_\n"
      ],
      "metadata": {
        "colab": {
          "base_uri": "https://localhost:8080/"
        },
        "id": "hKVsm5feBzk0",
        "outputId": "9f281bae-a95a-45a2-872d-1a30e63d39b9"
      },
      "execution_count": 22,
      "outputs": [
        {
          "output_type": "execute_result",
          "data": {
            "text/plain": [
              "array([  15.28529701, -218.59128442,  545.19999487,  263.6592052 ,\n",
              "       -582.66349612,  317.33684049,   48.53542723,  215.51374612,\n",
              "        655.7965519 ,   64.04030953])"
            ]
          },
          "metadata": {},
          "execution_count": 22
        }
      ]
    },
    {
      "cell_type": "code",
      "source": [
        "# 300을 넘지 않는 값이 나옴\n",
        "ridge_regressor.coef_"
      ],
      "metadata": {
        "colab": {
          "base_uri": "https://localhost:8080/"
        },
        "id": "2R_AQbjdCB-s",
        "outputId": "03b63ff4-eca9-49b0-e9c2-959e91790047"
      },
      "execution_count": 23,
      "outputs": [
        {
          "output_type": "execute_result",
          "data": {
            "text/plain": [
              "array([  46.89201977,  -55.64009506,  270.71747699,  158.68867814,\n",
              "         23.59440223,  -11.13019705, -130.05870493,  122.00237806,\n",
              "        225.92117758,  107.08728777])"
            ]
          },
          "metadata": {},
          "execution_count": 23
        }
      ]
    },
    {
      "cell_type": "markdown",
      "source": [
        "3.3 예측"
      ],
      "metadata": {
        "id": "sjR4EsL1Ee1D"
      }
    },
    {
      "cell_type": "code",
      "source": [
        "ridge_train_pred = ridge_regressor.predict(train_data)\n",
        "ridge_test_pred = ridge_regressor.predict(test_data)"
      ],
      "metadata": {
        "id": "_HOzU7xYCMX3"
      },
      "execution_count": 30,
      "outputs": []
    },
    {
      "cell_type": "markdown",
      "source": [
        "3.4 평가"
      ],
      "metadata": {
        "id": "3PsnZDQeEwg0"
      }
    },
    {
      "cell_type": "code",
      "source": [
        "ridge_train_mae = mean_squared_error(ridge_train_pred, train_target)\n",
        "ridge_test_mae = mean_squared_error(ridge_test_pred, test_target)\n"
      ],
      "metadata": {
        "id": "gETw-wJ3ErmH"
      },
      "execution_count": 31,
      "outputs": []
    },
    {
      "cell_type": "code",
      "source": [
        "print(f'Ridge Regression Train MSE is {ridge_train_mae:.4f}')\n",
        "print(f'Ridge Regression Test MSE is {ridge_test_mae:.4f}')"
      ],
      "metadata": {
        "colab": {
          "base_uri": "https://localhost:8080/"
        },
        "id": "5JiBhvG6FG2K",
        "outputId": "d4e1621b-3f09-42b4-e0f8-a61e02d54a79"
      },
      "execution_count": 32,
      "outputs": [
        {
          "output_type": "stream",
          "name": "stdout",
          "text": [
            "Ridge Regression Train MSE is 3427.9443\n",
            "Ridge Regression Test MSE is 3498.3785\n"
          ]
        }
      ]
    },
    {
      "cell_type": "markdown",
      "source": [
        "# 4. LASSO Regression"
      ],
      "metadata": {
        "id": "zWejAmL6Fhgi"
      }
    },
    {
      "cell_type": "markdown",
      "source": [
        "4.1 학습"
      ],
      "metadata": {
        "id": "NQ1KgLnkFnHp"
      }
    },
    {
      "cell_type": "code",
      "source": [
        "from sklearn.linear_model import Lasso\n",
        "\n",
        "lasso_regressor = Lasso()\n",
        "lasso_regressor.fit(train_data, train_target)\n",
        "\n"
      ],
      "metadata": {
        "colab": {
          "base_uri": "https://localhost:8080/"
        },
        "id": "WMamFsVFFaUK",
        "outputId": "41411eea-65a8-41b3-ada5-b4c3a9c6740c"
      },
      "execution_count": 33,
      "outputs": [
        {
          "output_type": "execute_result",
          "data": {
            "text/plain": [
              "Lasso()"
            ]
          },
          "metadata": {},
          "execution_count": 33
        }
      ]
    },
    {
      "cell_type": "markdown",
      "source": [
        "4.2 회귀식 확인"
      ],
      "metadata": {
        "id": "v5CTYXX1F5uA"
      }
    },
    {
      "cell_type": "code",
      "source": [
        "lasso_regressor.intercept_"
      ],
      "metadata": {
        "colab": {
          "base_uri": "https://localhost:8080/"
        },
        "id": "j8aZBLAhF4Oy",
        "outputId": "620576af-2c3a-4df9-b973-3ea3ff9b6daa"
      },
      "execution_count": 34,
      "outputs": [
        {
          "output_type": "execute_result",
          "data": {
            "text/plain": [
              "154.11772791777125"
            ]
          },
          "metadata": {},
          "execution_count": 34
        }
      ]
    },
    {
      "cell_type": "code",
      "source": [
        "lasso_regressor.coef_ # 여러변수들 0이됨"
      ],
      "metadata": {
        "colab": {
          "base_uri": "https://localhost:8080/"
        },
        "id": "HLr3vMbWF-ZL",
        "outputId": "fd2a2485-86fd-4662-cfc5-2e43a9b2d08f"
      },
      "execution_count": 39,
      "outputs": [
        {
          "output_type": "execute_result",
          "data": {
            "text/plain": [
              "array([  0.        ,   0.        , 318.24804461,  60.82040112,\n",
              "         0.        ,   0.        ,  -0.        ,   0.        ,\n",
              "       334.50178639,   0.        ])"
            ]
          },
          "metadata": {},
          "execution_count": 39
        }
      ]
    },
    {
      "cell_type": "code",
      "source": [
        "np.array(diabetes['feature_names'])[lasso_regressor.coef_ != 0] # 0이 아닌 변수 선택"
      ],
      "metadata": {
        "colab": {
          "base_uri": "https://localhost:8080/"
        },
        "id": "roAai0EbGAa4",
        "outputId": "2c478e4b-c5d5-4b59-b6d5-48359333c47e"
      },
      "execution_count": 40,
      "outputs": [
        {
          "output_type": "execute_result",
          "data": {
            "text/plain": [
              "array(['bmi', 'bp', 's5'], dtype='<U3')"
            ]
          },
          "metadata": {},
          "execution_count": 40
        }
      ]
    },
    {
      "cell_type": "markdown",
      "source": [
        "4.3 예측"
      ],
      "metadata": {
        "id": "Vn7Z2EmSHmow"
      }
    },
    {
      "cell_type": "code",
      "source": [
        "lasso_train_pred = lasso_regressor.predict(train_data)\n",
        "lasso_test_pred = lasso_regressor.predict(test_data)"
      ],
      "metadata": {
        "id": "S9oKqsi2Hpl9"
      },
      "execution_count": 42,
      "outputs": []
    },
    {
      "cell_type": "markdown",
      "source": [
        "4.4 평가"
      ],
      "metadata": {
        "id": "Dr8U0zFEGpjf"
      }
    },
    {
      "cell_type": "code",
      "source": [
        "lasso_train_mae = mean_squared_error(lasso_train_pred, train_target)\n",
        "lasso_test_mae = mean_squared_error(lasso_test_pred, test_target)"
      ],
      "metadata": {
        "id": "rENxBPWtHDwU"
      },
      "execution_count": 43,
      "outputs": []
    },
    {
      "cell_type": "code",
      "source": [
        "print(f'LASSO Regression Train MSE is {lasso_train_mae:.4f}')\n",
        "print(f'LASSO Regeresion Test MSE is {lasso_test_mae:.4f}')"
      ],
      "metadata": {
        "colab": {
          "base_uri": "https://localhost:8080/"
        },
        "id": "h5u53LhrH-nB",
        "outputId": "4f27be2a-c7fa-448b-b979-847dd19ee007"
      },
      "execution_count": 47,
      "outputs": [
        {
          "output_type": "stream",
          "name": "stdout",
          "text": [
            "LASSO Regression Train MSE is 3729.7548\n",
            "LASSO Regeresion Test MSE is 3829.1928\n"
          ]
        }
      ]
    },
    {
      "cell_type": "markdown",
      "source": [
        "5. 마무리"
      ],
      "metadata": {
        "id": "h3QQ7fvXIVm5"
      }
    },
    {
      "cell_type": "markdown",
      "source": [
        "5.1 평가"
      ],
      "metadata": {
        "id": "Y1CsWks1IXtR"
      }
    },
    {
      "cell_type": "code",
      "source": [
        "# Multi Regression 이 제일 예측을 잘함\n",
        "print(f'Multi Regression Test MSE is {multi_test_mae:.4f}')\n",
        "print(f'Ridge Regression Test MSE is {ridge_test_mae:.4f}')\n",
        "print(f'LASSO Regression Test MSE is {lasso_test_mae:.4f}')"
      ],
      "metadata": {
        "colab": {
          "base_uri": "https://localhost:8080/"
        },
        "id": "xsbV_BsUGUZf",
        "outputId": "37609e5b-e84c-4042-c5c5-02a61a3bd531"
      },
      "execution_count": 48,
      "outputs": [
        {
          "output_type": "stream",
          "name": "stdout",
          "text": [
            "Multi Regression Test MSE is 2562.2750\n",
            "Ridge Regression Test MSE is 3498.3785\n",
            "LASSO Regression Test MSE is 3829.1928\n"
          ]
        }
      ]
    },
    {
      "cell_type": "code",
      "source": [
        "# 가로축 예측값, 새로축은 실제값 > 일직선상에 그려져 있으면 예측이 잘함\n",
        "# Multi regression이 가장 일직선에 가까우므로 예측을 제일 잘함\n",
        "fig, axes = plt.subplots(nrows = 1, ncols = 3, figsize = (15,5))\n",
        "\n",
        "pred = [\n",
        "    ('Multi regression', multi_test_pred),\n",
        "    ('Ridge regression', ridge_test_pred),\n",
        "    ('LASSO regression', lasso_test_pred),\n",
        "]\n",
        "\n",
        "for idx, (name, test_pred) in enumerate(pred):\n",
        "  ax = axes[idx]\n",
        "  ax.scatter(test_pred, test_target)\n",
        "  ax.plot(np.linspace(0, 330, 100), np.linspace(0, 330, 100), color = \"red\")\n",
        "  ax.set_xlabel('Predict')\n",
        "  ax.set_ylabel('Real')\n",
        "  ax.set_title(name)"
      ],
      "metadata": {
        "colab": {
          "base_uri": "https://localhost:8080/",
          "height": 350
        },
        "id": "_Il9IyVdH6dX",
        "outputId": "2cfd9af0-51ba-46f6-b18b-d1d01860ad35"
      },
      "execution_count": 54,
      "outputs": [
        {
          "output_type": "display_data",
          "data": {
            "text/plain": [
              "<Figure size 1080x360 with 3 Axes>"
            ],
            "image/png": "[encoded data removed]"
          },
          "metadata": {
            "needs_background": "light"
          }
        }
      ]
    },
    {
      "cell_type": "code",
      "source": [],
      "metadata": {
        "id": "cTi7urfDJML1"
      },
      "execution_count": null,
      "outputs": []
    }
  ]
}