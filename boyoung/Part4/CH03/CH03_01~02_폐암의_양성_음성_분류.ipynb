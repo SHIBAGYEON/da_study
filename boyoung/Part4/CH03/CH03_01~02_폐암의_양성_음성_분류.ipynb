{
  "nbformat": 4,
  "nbformat_minor": 0,
  "metadata": {
    "colab": {
      "provenance": []
    },
    "kernelspec": {
      "name": "python3",
      "display_name": "Python 3"
    },
    "language_info": {
      "name": "python"
    }
  },
  "cells": [
    {
      "cell_type": "markdown",
      "source": [
        "# **CH01. Logistic Regression**"
      ],
      "metadata": {
        "id": "D02NtqgQQ407"
      }
    },
    {
      "cell_type": "markdown",
      "source": [
        "**데이터 형태**\n",
        "\n",
        "> **1. 연속형**\\\n",
        "Linear Regression 사용\n",
        "\n",
        "> **2. 비연속형 (범주형)**\\\n",
        "데이터 범위 0과 1에 사이에 있음\\\n",
        "단순 선형 회귀에 예측값의 범위는 (-)무한대~무한대\\\n",
        "0과 1사이 벗어나는 예측은 예측 정확도를 낮추게 됨\\\n",
        "예측 결과가 0과 1사이에 있어야 함\n",
        "\n",
        "\n",
        "> Logistic Regression 사용\\\n",
        "=> Linear Regression + Logistic Regression\n",
        "\n"
      ],
      "metadata": {
        "id": "9cW401dGRCzt"
      }
    },
    {
      "cell_type": "markdown",
      "source": [
        "**Threshold란?**\\\n",
        "확률값을 범주형으로 변환할때 기준\n",
        "\n",
        "- Threshold = 0.5\n",
        "- 확률이 0.5보다 크면 1\n",
        "- 확률이 0.5보다 작으면 0\n",
        "\n",
        "Threshold에 따라서 정확도가 달라질 수 있음\n",
        "\n",
        "\n"
      ],
      "metadata": {
        "id": "MMhppez_SWMN"
      }
    },
    {
      "cell_type": "markdown",
      "source": [
        "ROC Curve\n",
        "\n",
        "Confusion Matrix\n",
        "\n",
        "One or Nothing\n",
        "여러 범주에서 \n",
        "\n"
      ],
      "metadata": {
        "id": "zxeUklpJTUty"
      }
    },
    {
      "cell_type": "markdown",
      "source": [
        "# **CH03_02 Logistic Regression 으로 폐암의 양성 음성 분류**"
      ],
      "metadata": {
        "id": "MPanv4H9U8TP"
      }
    },
    {
      "cell_type": "code",
      "source": [
        "import pandas as pd\n",
        "import numpy as np\n",
        "import matplotlib.pyplot as plt\n",
        "\n",
        "np.random.seed(2021)"
      ],
      "metadata": {
        "id": "LoZZp3UrU_uh"
      },
      "execution_count": 1,
      "outputs": []
    },
    {
      "cell_type": "markdown",
      "source": [
        "# **1. Data**\n",
        "\n",
        "이번 실습에서 사용하는 데이터는 폐암의 양성, 음성 여부를 구분하는 문제\n",
        "\n"
      ],
      "metadata": {
        "id": "LERWaOykWGQ3"
      }
    },
    {
      "cell_type": "markdown",
      "source": [
        "*1.1 Data load*"
      ],
      "metadata": {
        "id": "6sglcM13WfZO"
      }
    },
    {
      "cell_type": "code",
      "source": [
        "from sklearn.datasets import load_breast_cancer\n",
        "\n",
        "cancer = load_breast_cancer()"
      ],
      "metadata": {
        "id": "D3LItTqWRCmL"
      },
      "execution_count": 2,
      "outputs": []
    },
    {
      "cell_type": "markdown",
      "source": [
        "*데이터에 사용되는 변수들의 이름과 내용은 다음과 같습니다.\n",
        "\n",
        "- radius (mean of distances from center to points on the perimeter)\n",
        "- texture (standard deviation of gray-scale values)\n",
        "- perimeter\n",
        "- area\n",
        "- smoothness (local variation in radius lengths)\n",
        "- compactness (perimeter^2 / area - 1.0)\n",
        "- concavity (severity of concave portions of the contour)\n",
        "- concave points (number of concave portions of the contour)\n",
        "- symmetry \n",
        "- fractal dimension (\"coastline approximation\" - 1)"
      ],
      "metadata": {
        "id": "zW_-SogeFaxE"
      }
    },
    {
      "cell_type": "code",
      "execution_count": 3,
      "metadata": {
        "colab": {
          "base_uri": "https://localhost:8080/"
        },
        "id": "EXVfCt_pQwR0",
        "outputId": "23b7acf8-25a5-43f1-de20-29594b751338"
      },
      "outputs": [
        {
          "output_type": "execute_result",
          "data": {
            "text/plain": [
              "array(['mean radius', 'mean texture', 'mean perimeter', 'mean area',\n",
              "       'mean smoothness', 'mean compactness', 'mean concavity',\n",
              "       'mean concave points', 'mean symmetry', 'mean fractal dimension',\n",
              "       'radius error', 'texture error', 'perimeter error', 'area error',\n",
              "       'smoothness error', 'compactness error', 'concavity error',\n",
              "       'concave points error', 'symmetry error',\n",
              "       'fractal dimension error', 'worst radius', 'worst texture',\n",
              "       'worst perimeter', 'worst area', 'worst smoothness',\n",
              "       'worst compactness', 'worst concavity', 'worst concave points',\n",
              "       'worst symmetry', 'worst fractal dimension'], dtype='<U23')"
            ]
          },
          "metadata": {},
          "execution_count": 3
        }
      ],
      "source": [
        "cancer['feature_names']"
      ]
    },
    {
      "cell_type": "markdown",
      "source": [
        "**<정답>**\n",
        "- malignant : 0, 양성\n",
        "\n",
        "- benign : 1, 음성\n"
      ],
      "metadata": {
        "id": "zjkBqB4QXH5b"
      }
    },
    {
      "cell_type": "code",
      "source": [
        "cancer['target_names']"
      ],
      "metadata": {
        "colab": {
          "base_uri": "https://localhost:8080/"
        },
        "id": "fNimK-PUW2hf",
        "outputId": "1fe89d5f-c739-467e-90da-8b91189c9882"
      },
      "execution_count": 4,
      "outputs": [
        {
          "output_type": "execute_result",
          "data": {
            "text/plain": [
              "array(['malignant', 'benign'], dtype='<U9')"
            ]
          },
          "metadata": {},
          "execution_count": 4
        }
      ]
    },
    {
      "cell_type": "code",
      "source": [
        "data, target = cancer['data'], cancer['target']"
      ],
      "metadata": {
        "id": "fiiZczY-XhNV"
      },
      "execution_count": 5,
      "outputs": []
    },
    {
      "cell_type": "code",
      "source": [
        "data[0]"
      ],
      "metadata": {
        "colab": {
          "base_uri": "https://localhost:8080/"
        },
        "id": "rRZ_OJJIXqoQ",
        "outputId": "f85d640d-10fc-467a-e89c-0c40a43f6338"
      },
      "execution_count": 6,
      "outputs": [
        {
          "output_type": "execute_result",
          "data": {
            "text/plain": [
              "array([1.799e+01, 1.038e+01, 1.228e+02, 1.001e+03, 1.184e-01, 2.776e-01,\n",
              "       3.001e-01, 1.471e-01, 2.419e-01, 7.871e-02, 1.095e+00, 9.053e-01,\n",
              "       8.589e+00, 1.534e+02, 6.399e-03, 4.904e-02, 5.373e-02, 1.587e-02,\n",
              "       3.003e-02, 6.193e-03, 2.538e+01, 1.733e+01, 1.846e+02, 2.019e+03,\n",
              "       1.622e-01, 6.656e-01, 7.119e-01, 2.654e-01, 4.601e-01, 1.189e-01])"
            ]
          },
          "metadata": {},
          "execution_count": 6
        }
      ]
    },
    {
      "cell_type": "code",
      "source": [
        "target[0]"
      ],
      "metadata": {
        "colab": {
          "base_uri": "https://localhost:8080/"
        },
        "id": "6sIide4SXsDa",
        "outputId": "612bcd76-f03f-4399-f234-e4b6279b2945"
      },
      "execution_count": 7,
      "outputs": [
        {
          "output_type": "execute_result",
          "data": {
            "text/plain": [
              "0"
            ]
          },
          "metadata": {},
          "execution_count": 7
        }
      ]
    },
    {
      "cell_type": "markdown",
      "source": [
        "**1.2 Data EDA**"
      ],
      "metadata": {
        "id": "iHFIZhZJGJM9"
      }
    },
    {
      "cell_type": "code",
      "source": [
        "df = pd.DataFrame(data, columns=cancer[\"feature_names\"])\n",
        "df.describe()"
      ],
      "metadata": {
        "colab": {
          "base_uri": "https://localhost:8080/",
          "height": 428
        },
        "id": "3fqAhYRKXyBy",
        "outputId": "c028f13f-481d-46c0-88fc-8ad5010c5447"
      },
      "execution_count": 8,
      "outputs": [
        {
          "output_type": "execute_result",
          "data": {
            "text/plain": [
              "       mean radius  mean texture  mean perimeter    mean area  \\\n",
              "count   569.000000    569.000000      569.000000   569.000000   \n",
              "mean     14.127292     19.289649       91.969033   654.889104   \n",
              "std       3.524049      4.301036       24.298981   351.914129   \n",
              "min       6.981000      9.710000       43.790000   143.500000   \n",
              "25%      11.700000     16.170000       75.170000   420.300000   \n",
              "50%      13.370000     18.840000       86.240000   551.100000   \n",
              "75%      15.780000     21.800000      104.100000   782.700000   \n",
              "max      28.110000     39.280000      188.500000  2501.000000   \n",
              "\n",
              "       mean smoothness  mean compactness  mean concavity  mean concave points  \\\n",
              "count       569.000000        569.000000      569.000000           569.000000   \n",
              "mean          0.096360          0.104341        0.088799             0.048919   \n",
              "std           0.014064          0.052813        0.079720             0.038803   \n",
              "min           0.052630          0.019380        0.000000             0.000000   \n",
              "25%           0.086370          0.064920        0.029560             0.020310   \n",
              "50%           0.095870          0.092630        0.061540             0.033500   \n",
              "75%           0.105300          0.130400        0.130700             0.074000   \n",
              "max           0.163400          0.345400        0.426800             0.201200   \n",
              "\n",
              "       mean symmetry  mean fractal dimension  ...  worst radius  \\\n",
              "count     569.000000              569.000000  ...    569.000000   \n",
              "mean        0.181162                0.062798  ...     16.269190   \n",
              "std         0.027414                0.007060  ...      4.833242   \n",
              "min         0.106000                0.049960  ...      7.930000   \n",
              "25%         0.161900                0.057700  ...     13.010000   \n",
              "50%         0.179200                0.061540  ...     14.970000   \n",
              "75%         0.195700                0.066120  ...     18.790000   \n",
              "max         0.304000                0.097440  ...     36.040000   \n",
              "\n",
              "       worst texture  worst perimeter   worst area  worst smoothness  \\\n",
              "count     569.000000       569.000000   569.000000        569.000000   \n",
              "mean       25.677223       107.261213   880.583128          0.132369   \n",
              "std         6.146258        33.602542   569.356993          0.022832   \n",
              "min        12.020000        50.410000   185.200000          0.071170   \n",
              "25%        21.080000        84.110000   515.300000          0.116600   \n",
              "50%        25.410000        97.660000   686.500000          0.131300   \n",
              "75%        29.720000       125.400000  1084.000000          0.146000   \n",
              "max        49.540000       251.200000  4254.000000          0.222600   \n",
              "\n",
              "       worst compactness  worst concavity  worst concave points  \\\n",
              "count         569.000000       569.000000            569.000000   \n",
              "mean            0.254265         0.272188              0.114606   \n",
              "std             0.157336         0.208624              0.065732   \n",
              "min             0.027290         0.000000              0.000000   \n",
              "25%             0.147200         0.114500              0.064930   \n",
              "50%             0.211900         0.226700              0.099930   \n",
              "75%             0.339100         0.382900              0.161400   \n",
              "max             1.058000         1.252000              0.291000   \n",
              "\n",
              "       worst symmetry  worst fractal dimension  \n",
              "count      569.000000               569.000000  \n",
              "mean         0.290076                 0.083946  \n",
              "std          0.061867                 0.018061  \n",
              "min          0.156500                 0.055040  \n",
              "25%          0.250400                 0.071460  \n",
              "50%          0.282200                 0.080040  \n",
              "75%          0.317900                 0.092080  \n",
              "max          0.663800                 0.207500  \n",
              "\n",
              "[8 rows x 30 columns]"
            ],
            "text/html": [
              "\n",
              "  <div id=\"df-cade51e3-0d93-4444-8920-c0d4b7aef97d\">\n",
              "    <div class=\"colab-df-container\">\n",
              "      <div>\n",
              "<style scoped>\n",
              "    .dataframe tbody tr th:only-of-type {\n",
              "        vertical-align: middle;\n",
              "    }\n",
              "\n",
              "    .dataframe tbody tr th {\n",
              "        vertical-align: top;\n",
              "    }\n",
              "\n",
              "    .dataframe thead th {\n",
              "        text-align: right;\n",
              "    }\n",
              "</style>\n",
              "<table border=\"1\" class=\"dataframe\">\n",
              "  <thead>\n",
              "    <tr style=\"text-align: right;\">\n",
              "      <th></th>\n",
              "      <th>mean radius</th>\n",
              "      <th>mean texture</th>\n",
              "      <th>mean perimeter</th>\n",
              "      <th>mean area</th>\n",
              "      <th>mean smoothness</th>\n",
              "      <th>mean compactness</th>\n",
              "      <th>mean concavity</th>\n",
              "      <th>mean concave points</th>\n",
              "      <th>mean symmetry</th>\n",
              "      <th>mean fractal dimension</th>\n",
              "      <th>...</th>\n",
              "      <th>worst radius</th>\n",
              "      <th>worst texture</th>\n",
              "      <th>worst perimeter</th>\n",
              "      <th>worst area</th>\n",
              "      <th>worst smoothness</th>\n",
              "      <th>worst compactness</th>\n",
              "      <th>worst concavity</th>\n",
              "      <th>worst concave points</th>\n",
              "      <th>worst symmetry</th>\n",
              "      <th>worst fractal dimension</th>\n",
              "    </tr>\n",
              "  </thead>\n",
              "  <tbody>\n",
              "    <tr>\n",
              "      <th>count</th>\n",
              "      <td>569.000000</td>\n",
              "      <td>569.000000</td>\n",
              "      <td>569.000000</td>\n",
              "      <td>569.000000</td>\n",
              "      <td>569.000000</td>\n",
              "      <td>569.000000</td>\n",
              "      <td>569.000000</td>\n",
              "      <td>569.000000</td>\n",
              "      <td>569.000000</td>\n",
              "      <td>569.000000</td>\n",
              "      <td>...</td>\n",
              "      <td>569.000000</td>\n",
              "      <td>569.000000</td>\n",
              "      <td>569.000000</td>\n",
              "      <td>569.000000</td>\n",
              "      <td>569.000000</td>\n",
              "      <td>569.000000</td>\n",
              "      <td>569.000000</td>\n",
              "      <td>569.000000</td>\n",
              "      <td>569.000000</td>\n",
              "      <td>569.000000</td>\n",
              "    </tr>\n",
              "    <tr>\n",
              "      <th>mean</th>\n",
              "      <td>14.127292</td>\n",
              "      <td>19.289649</td>\n",
              "      <td>91.969033</td>\n",
              "      <td>654.889104</td>\n",
              "      <td>0.096360</td>\n",
              "      <td>0.104341</td>\n",
              "      <td>0.088799</td>\n",
              "      <td>0.048919</td>\n",
              "      <td>0.181162</td>\n",
              "      <td>0.062798</td>\n",
              "      <td>...</td>\n",
              "      <td>16.269190</td>\n",
              "      <td>25.677223</td>\n",
              "      <td>107.261213</td>\n",
              "      <td>880.583128</td>\n",
              "      <td>0.132369</td>\n",
              "      <td>0.254265</td>\n",
              "      <td>0.272188</td>\n",
              "      <td>0.114606</td>\n",
              "      <td>0.290076</td>\n",
              "      <td>0.083946</td>\n",
              "    </tr>\n",
              "    <tr>\n",
              "      <th>std</th>\n",
              "      <td>3.524049</td>\n",
              "      <td>4.301036</td>\n",
              "      <td>24.298981</td>\n",
              "      <td>351.914129</td>\n",
              "      <td>0.014064</td>\n",
              "      <td>0.052813</td>\n",
              "      <td>0.079720</td>\n",
              "      <td>0.038803</td>\n",
              "      <td>0.027414</td>\n",
              "      <td>0.007060</td>\n",
              "      <td>...</td>\n",
              "      <td>4.833242</td>\n",
              "      <td>6.146258</td>\n",
              "      <td>33.602542</td>\n",
              "      <td>569.356993</td>\n",
              "      <td>0.022832</td>\n",
              "      <td>0.157336</td>\n",
              "      <td>0.208624</td>\n",
              "      <td>0.065732</td>\n",
              "      <td>0.061867</td>\n",
              "      <td>0.018061</td>\n",
              "    </tr>\n",
              "    <tr>\n",
              "      <th>min</th>\n",
              "      <td>6.981000</td>\n",
              "      <td>9.710000</td>\n",
              "      <td>43.790000</td>\n",
              "      <td>143.500000</td>\n",
              "      <td>0.052630</td>\n",
              "      <td>0.019380</td>\n",
              "      <td>0.000000</td>\n",
              "      <td>0.000000</td>\n",
              "      <td>0.106000</td>\n",
              "      <td>0.049960</td>\n",
              "      <td>...</td>\n",
              "      <td>7.930000</td>\n",
              "      <td>12.020000</td>\n",
              "      <td>50.410000</td>\n",
              "      <td>185.200000</td>\n",
              "      <td>0.071170</td>\n",
              "      <td>0.027290</td>\n",
              "      <td>0.000000</td>\n",
              "      <td>0.000000</td>\n",
              "      <td>0.156500</td>\n",
              "      <td>0.055040</td>\n",
              "    </tr>\n",
              "    <tr>\n",
              "      <th>25%</th>\n",
              "      <td>11.700000</td>\n",
              "      <td>16.170000</td>\n",
              "      <td>75.170000</td>\n",
              "      <td>420.300000</td>\n",
              "      <td>0.086370</td>\n",
              "      <td>0.064920</td>\n",
              "      <td>0.029560</td>\n",
              "      <td>0.020310</td>\n",
              "      <td>0.161900</td>\n",
              "      <td>0.057700</td>\n",
              "      <td>...</td>\n",
              "      <td>13.010000</td>\n",
              "      <td>21.080000</td>\n",
              "      <td>84.110000</td>\n",
              "      <td>515.300000</td>\n",
              "      <td>0.116600</td>\n",
              "      <td>0.147200</td>\n",
              "      <td>0.114500</td>\n",
              "      <td>0.064930</td>\n",
              "      <td>0.250400</td>\n",
              "      <td>0.071460</td>\n",
              "    </tr>\n",
              "    <tr>\n",
              "      <th>50%</th>\n",
              "      <td>13.370000</td>\n",
              "      <td>18.840000</td>\n",
              "      <td>86.240000</td>\n",
              "      <td>551.100000</td>\n",
              "      <td>0.095870</td>\n",
              "      <td>0.092630</td>\n",
              "      <td>0.061540</td>\n",
              "      <td>0.033500</td>\n",
              "      <td>0.179200</td>\n",
              "      <td>0.061540</td>\n",
              "      <td>...</td>\n",
              "      <td>14.970000</td>\n",
              "      <td>25.410000</td>\n",
              "      <td>97.660000</td>\n",
              "      <td>686.500000</td>\n",
              "      <td>0.131300</td>\n",
              "      <td>0.211900</td>\n",
              "      <td>0.226700</td>\n",
              "      <td>0.099930</td>\n",
              "      <td>0.282200</td>\n",
              "      <td>0.080040</td>\n",
              "    </tr>\n",
              "    <tr>\n",
              "      <th>75%</th>\n",
              "      <td>15.780000</td>\n",
              "      <td>21.800000</td>\n",
              "      <td>104.100000</td>\n",
              "      <td>782.700000</td>\n",
              "      <td>0.105300</td>\n",
              "      <td>0.130400</td>\n",
              "      <td>0.130700</td>\n",
              "      <td>0.074000</td>\n",
              "      <td>0.195700</td>\n",
              "      <td>0.066120</td>\n",
              "      <td>...</td>\n",
              "      <td>18.790000</td>\n",
              "      <td>29.720000</td>\n",
              "      <td>125.400000</td>\n",
              "      <td>1084.000000</td>\n",
              "      <td>0.146000</td>\n",
              "      <td>0.339100</td>\n",
              "      <td>0.382900</td>\n",
              "      <td>0.161400</td>\n",
              "      <td>0.317900</td>\n",
              "      <td>0.092080</td>\n",
              "    </tr>\n",
              "    <tr>\n",
              "      <th>max</th>\n",
              "      <td>28.110000</td>\n",
              "      <td>39.280000</td>\n",
              "      <td>188.500000</td>\n",
              "      <td>2501.000000</td>\n",
              "      <td>0.163400</td>\n",
              "      <td>0.345400</td>\n",
              "      <td>0.426800</td>\n",
              "      <td>0.201200</td>\n",
              "      <td>0.304000</td>\n",
              "      <td>0.097440</td>\n",
              "      <td>...</td>\n",
              "      <td>36.040000</td>\n",
              "      <td>49.540000</td>\n",
              "      <td>251.200000</td>\n",
              "      <td>4254.000000</td>\n",
              "      <td>0.222600</td>\n",
              "      <td>1.058000</td>\n",
              "      <td>1.252000</td>\n",
              "      <td>0.291000</td>\n",
              "      <td>0.663800</td>\n",
              "      <td>0.207500</td>\n",
              "    </tr>\n",
              "  </tbody>\n",
              "</table>\n",
              "<p>8 rows × 30 columns</p>\n",
              "</div>\n",
              "      <button class=\"colab-df-convert\" onclick=\"convertToInteractive('df-cade51e3-0d93-4444-8920-c0d4b7aef97d')\"\n",
              "              title=\"Convert this dataframe to an interactive table.\"\n",
              "              style=\"display:none;\">\n",
              "        \n",
              "  <svg xmlns=\"http://www.w3.org/2000/svg\" height=\"24px\"viewBox=\"0 0 24 24\"\n",
              "       width=\"24px\">\n",
              "    <path d=\"M0 0h24v24H0V0z\" fill=\"none\"/>\n",
              "    <path d=\"M18.56 5.44l.94 2.06.94-2.06 2.06-.94-2.06-.94-.94-2.06-.94 2.06-2.06.94zm-11 1L8.5 8.5l.94-2.06 2.06-.94-2.06-.94L8.5 2.5l-.94 2.06-2.06.94zm10 10l.94 2.06.94-2.06 2.06-.94-2.06-.94-.94-2.06-.94 2.06-2.06.94z\"/><path d=\"M17.41 7.96l-1.37-1.37c-.4-.4-.92-.59-1.43-.59-.52 0-1.04.2-1.43.59L10.3 9.45l-7.72 7.72c-.78.78-.78 2.05 0 2.83L4 21.41c.39.39.9.59 1.41.59.51 0 1.02-.2 1.41-.59l7.78-7.78 2.81-2.81c.8-.78.8-2.07 0-2.86zM5.41 20L4 18.59l7.72-7.72 1.47 1.35L5.41 20z\"/>\n",
              "  </svg>\n",
              "      </button>\n",
              "      \n",
              "  <style>\n",
              "    .colab-df-container {\n",
              "      display:flex;\n",
              "      flex-wrap:wrap;\n",
              "      gap: 12px;\n",
              "    }\n",
              "\n",
              "    .colab-df-convert {\n",
              "      background-color: #E8F0FE;\n",
              "      border: none;\n",
              "      border-radius: 50%;\n",
              "      cursor: pointer;\n",
              "      display: none;\n",
              "      fill: #1967D2;\n",
              "      height: 32px;\n",
              "      padding: 0 0 0 0;\n",
              "      width: 32px;\n",
              "    }\n",
              "\n",
              "    .colab-df-convert:hover {\n",
              "      background-color: #E2EBFA;\n",
              "      box-shadow: 0px 1px 2px rgba(60, 64, 67, 0.3), 0px 1px 3px 1px rgba(60, 64, 67, 0.15);\n",
              "      fill: #174EA6;\n",
              "    }\n",
              "\n",
              "    [theme=dark] .colab-df-convert {\n",
              "      background-color: #3B4455;\n",
              "      fill: #D2E3FC;\n",
              "    }\n",
              "\n",
              "    [theme=dark] .colab-df-convert:hover {\n",
              "      background-color: #434B5C;\n",
              "      box-shadow: 0px 1px 3px 1px rgba(0, 0, 0, 0.15);\n",
              "      filter: drop-shadow(0px 1px 2px rgba(0, 0, 0, 0.3));\n",
              "      fill: #FFFFFF;\n",
              "    }\n",
              "  </style>\n",
              "\n",
              "      <script>\n",
              "        const buttonEl =\n",
              "          document.querySelector('#df-cade51e3-0d93-4444-8920-c0d4b7aef97d button.colab-df-convert');\n",
              "        buttonEl.style.display =\n",
              "          google.colab.kernel.accessAllowed ? 'block' : 'none';\n",
              "\n",
              "        async function convertToInteractive(key) {\n",
              "          const element = document.querySelector('#df-cade51e3-0d93-4444-8920-c0d4b7aef97d');\n",
              "          const dataTable =\n",
              "            await google.colab.kernel.invokeFunction('convertToInteractive',\n",
              "                                                     [key], {});\n",
              "          if (!dataTable) return;\n",
              "\n",
              "          const docLinkHtml = 'Like what you see? Visit the ' +\n",
              "            '<a target=\"_blank\" href=https://colab.research.google.com/notebooks/data_table.ipynb>data table notebook</a>'\n",
              "            + ' to learn more about interactive tables.';\n",
              "          element.innerHTML = '';\n",
              "          dataTable['output_type'] = 'display_data';\n",
              "          await google.colab.output.renderOutput(dataTable, element);\n",
              "          const docLink = document.createElement('div');\n",
              "          docLink.innerHTML = docLinkHtml;\n",
              "          element.appendChild(docLink);\n",
              "        }\n",
              "      </script>\n",
              "    </div>\n",
              "  </div>\n",
              "  "
            ]
          },
          "metadata": {},
          "execution_count": 8
        }
      ]
    },
    {
      "cell_type": "code",
      "source": [
        "data.shape # 데이터 개수 확인"
      ],
      "metadata": {
        "colab": {
          "base_uri": "https://localhost:8080/"
        },
        "id": "Giq6eNW7X7au",
        "outputId": "10c4c01f-16c1-4598-fe7c-63a2e43a6607"
      },
      "execution_count": 9,
      "outputs": [
        {
          "output_type": "execute_result",
          "data": {
            "text/plain": [
              "(569, 30)"
            ]
          },
          "metadata": {},
          "execution_count": 9
        }
      ]
    },
    {
      "cell_type": "code",
      "source": [
        "# 양성과 음성 비율\n",
        "pd.Series(target).value_counts()"
      ],
      "metadata": {
        "colab": {
          "base_uri": "https://localhost:8080/"
        },
        "id": "SLuUUXgbYEcz",
        "outputId": "502804a6-2963-43fc-c398-d345d70b86fa"
      },
      "execution_count": 10,
      "outputs": [
        {
          "output_type": "execute_result",
          "data": {
            "text/plain": [
              "1    357\n",
              "0    212\n",
              "dtype: int64"
            ]
          },
          "metadata": {},
          "execution_count": 10
        }
      ]
    },
    {
      "cell_type": "code",
      "source": [
        "# Histogram으로 그리면 다음과 같음\n",
        "plt.hist(target)"
      ],
      "metadata": {
        "colab": {
          "base_uri": "https://localhost:8080/",
          "height": 319
        },
        "id": "KTyWAW8FYPMD",
        "outputId": "671f9724-53e4-4b10-a0e7-9821c7a3d2a3"
      },
      "execution_count": 11,
      "outputs": [
        {
          "output_type": "execute_result",
          "data": {
            "text/plain": [
              "(array([212.,   0.,   0.,   0.,   0.,   0.,   0.,   0.,   0., 357.]),\n",
              " array([0. , 0.1, 0.2, 0.3, 0.4, 0.5, 0.6, 0.7, 0.8, 0.9, 1. ]),\n",
              " <a list of 10 Patch objects>)"
            ]
          },
          "metadata": {},
          "execution_count": 11
        },
        {
          "output_type": "display_data",
          "data": {
            "text/plain": [
              "<Figure size 432x288 with 1 Axes>"
            ],
            "image/png": "[encoded data removed]"
          },
          "metadata": {
            "needs_background": "light"
          }
        }
      ]
    },
    {
      "cell_type": "code",
      "source": [
        "# mean radius와 정답간의 상관관계를 plot으로 그리면 다음과 같음\n",
        "# mean radius가 클 경우 음성인 것을 확인할 수 있음\n",
        "plt.scatter(x=data[:,0], y=target)\n",
        "plt.xlabel('mean radius')\n",
        "plt.ylabel('target')\n",
        "# mean radius이 클수록 음성인 것을 확인"
      ],
      "metadata": {
        "colab": {
          "base_uri": "https://localhost:8080/",
          "height": 297
        },
        "id": "ShJ6ev6YYbtS",
        "outputId": "92013627-c1ca-4af8-8b72-6ccbdac5a33f"
      },
      "execution_count": 12,
      "outputs": [
        {
          "output_type": "execute_result",
          "data": {
            "text/plain": [
              "Text(0, 0.5, 'target')"
            ]
          },
          "metadata": {},
          "execution_count": 12
        },
        {
          "output_type": "display_data",
          "data": {
            "text/plain": [
              "<Figure size 432x288 with 1 Axes>"
            ],
            "image/png": "[encoded data removed]"
          },
          "metadata": {
            "needs_background": "light"
          }
        }
      ]
    },
    {
      "cell_type": "markdown",
      "source": [
        "**1.3 data split**"
      ],
      "metadata": {
        "id": "Q2ZWjCWHdazL"
      }
    },
    {
      "cell_type": "code",
      "source": [
        "from sklearn.model_selection import train_test_split\n",
        "\n",
        "train_data, test_data, train_target, test_target = train_test_split(\n",
        "    data, target, train_size=0.7, random_state=2021,\n",
        ")"
      ],
      "metadata": {
        "id": "vw8uLjCxYsgw"
      },
      "execution_count": 13,
      "outputs": []
    },
    {
      "cell_type": "code",
      "source": [
        "print(\"train data 개수 : \", len(train_data))\n",
        "print(\"train data 개수 : \", len(test_data))"
      ],
      "metadata": {
        "colab": {
          "base_uri": "https://localhost:8080/"
        },
        "id": "hP665NgZZYEW",
        "outputId": "81ecf5e6-7405-4831-a663-5ec0911ed2bd"
      },
      "execution_count": 14,
      "outputs": [
        {
          "output_type": "stream",
          "name": "stdout",
          "text": [
            "train data 개수 :  398\n",
            "train data 개수 :  171\n"
          ]
        }
      ]
    },
    {
      "cell_type": "markdown",
      "source": [
        "# **2. Linear Regression and Categorial Label**"
      ],
      "metadata": {
        "id": "pfdS9vvTdgS_"
      }
    },
    {
      "cell_type": "markdown",
      "source": [
        "Logistic Regression을 학습하기에 앞서 Linear Regression으로 학습할 경우 어떻게 되는지 확인"
      ],
      "metadata": {
        "id": "qtYVKZnGdlMi"
      }
    },
    {
      "cell_type": "code",
      "source": [
        "from sklearn.linear_model import LinearRegression\n",
        "linear_regression = LinearRegression()"
      ],
      "metadata": {
        "id": "bHnZznE_Zngd"
      },
      "execution_count": 15,
      "outputs": []
    },
    {
      "cell_type": "markdown",
      "source": [
        "2.1 학습"
      ],
      "metadata": {
        "id": "Xr361rzHd7wA"
      }
    },
    {
      "cell_type": "code",
      "source": [
        "linear_regression.fit(train_data, train_target)"
      ],
      "metadata": {
        "colab": {
          "base_uri": "https://localhost:8080/"
        },
        "id": "yUJ5dIc6d1nj",
        "outputId": "5ba62e79-ea6d-47c0-d081-f8250a2a651c"
      },
      "execution_count": 16,
      "outputs": [
        {
          "output_type": "execute_result",
          "data": {
            "text/plain": [
              "LinearRegression()"
            ]
          },
          "metadata": {},
          "execution_count": 16
        }
      ]
    },
    {
      "cell_type": "markdown",
      "source": [
        "2.2 예측"
      ],
      "metadata": {
        "id": "1yE8zjYteZF3"
      }
    },
    {
      "cell_type": "code",
      "source": [
        "train_pred = linear_regression.predict(train_data)\n",
        "test_pred = linear_regression.predict(test_data)"
      ],
      "metadata": {
        "id": "qnjRWjARehbL"
      },
      "execution_count": 17,
      "outputs": []
    },
    {
      "cell_type": "code",
      "source": [
        "train_pred[:10] #0과 1을 벗어나는 값이 있음!"
      ],
      "metadata": {
        "colab": {
          "base_uri": "https://localhost:8080/"
        },
        "id": "Ofp7UWzseG8t",
        "outputId": "bc504509-467d-407c-c713-31b75e8eba98"
      },
      "execution_count": 18,
      "outputs": [
        {
          "output_type": "execute_result",
          "data": {
            "text/plain": [
              "array([ 0.65079698, -0.33739828,  0.76995559,  1.07473181,  0.98981797,\n",
              "       -0.14066351,  0.91330917,  0.56950769,  1.12592692,  1.08459606])"
            ]
          },
          "metadata": {},
          "execution_count": 18
        }
      ]
    },
    {
      "cell_type": "markdown",
      "source": [
        "**2.3 시각화**"
      ],
      "metadata": {
        "id": "DKC1fA0fegww"
      }
    },
    {
      "cell_type": "markdown",
      "source": [
        "mean.radius의 값에 변화에 따른 예측한 결과를 시각화하면 다음과 같습니다.\n",
        "전체적으로 우하향하는 예측을 하는 것을 알 수 있습니다.\n",
        "\n"
      ],
      "metadata": {
        "id": "vRi8xINWPHuQ"
      }
    },
    {
      "cell_type": "code",
      "source": [
        "fig, axes = plt.subplots(nrows=1, ncols=2, figsize=(10,5))\n",
        "\n",
        "preds = [\n",
        "    (\"Train\", train_data, train_pred),\n",
        "    (\"Test\", test_data, test_pred)\n",
        "]\n",
        "\n",
        "for idx, (name, d, pred) in enumerate(preds):\n",
        "  ax = axes[idx]\n",
        "  ax.scatter(x=d[:,0], y=pred)\n",
        "  ax.axhline(0, color='red', linestyle = '--')\n",
        "  ax.axhline(1, color = 'red', linestyle = '--')\n",
        "  ax.set_xlabel(\"mean_radius\")\n",
        "  ax.set_ylabel(\"predict\")\n",
        "  ax.set_title(f\"{name} Data\")"
      ],
      "metadata": {
        "colab": {
          "base_uri": "https://localhost:8080/",
          "height": 351
        },
        "id": "fzadQo92ecSZ",
        "outputId": "ddf27354-ca24-4579-8f4e-29cd3bb4f070"
      },
      "execution_count": 19,
      "outputs": [
        {
          "output_type": "display_data",
          "data": {
            "text/plain": [
              "<Figure size 720x360 with 2 Axes>"
            ],
            "image/png": "[encoded data removed]"
          },
          "metadata": {
            "needs_background": "light"
          }
        }
      ]
    },
    {
      "cell_type": "markdown",
      "source": [
        "**2.4 평가하기**"
      ],
      "metadata": {
        "id": "Gf3H423rgAND"
      }
    },
    {
      "cell_type": "markdown",
      "source": [
        "Linear Regression의 성능을 측정하기 위해서는 우선 예측값을 0과 1로 변환시켜줘야 합니다.\\\n",
        "강의에서 배웠던 Youden's Index를 이용해 Best Threshold를 찾은 후 0과 1로 변화시킨 후 정확도를 보겠습니다."
      ],
      "metadata": {
        "id": "wjhJufQKHsQj"
      }
    },
    {
      "cell_type": "code",
      "source": [
        "from sklearn.metrics import auc, roc_curve\n",
        "\n",
        "fpr, tpr, threshold = roc_curve(train_target, train_pred)# 앞에가 정답, 뒤에가 예측값\n",
        "auroc = auc(fpr, tpr)"
      ],
      "metadata": {
        "id": "_1GOAhKRf6Gc"
      },
      "execution_count": 20,
      "outputs": []
    },
    {
      "cell_type": "code",
      "source": [
        "plt.plot(fpr, tpr)\n",
        "plt.xlabel('fpr') # false positive rate\n",
        "plt.ylabel('tpr') # true positive rate"
      ],
      "metadata": {
        "colab": {
          "base_uri": "https://localhost:8080/",
          "height": 297
        },
        "id": "5pTQgwzRgPoJ",
        "outputId": "27687a86-1863-4055-ad9e-9c95f65ba5f0"
      },
      "execution_count": 21,
      "outputs": [
        {
          "output_type": "execute_result",
          "data": {
            "text/plain": [
              "Text(0, 0.5, 'tpr')"
            ]
          },
          "metadata": {},
          "execution_count": 21
        },
        {
          "output_type": "display_data",
          "data": {
            "text/plain": [
              "<Figure size 432x288 with 1 Axes>"
            ],
            "image/png": "[encoded data removed]"
          },
          "metadata": {
            "needs_background": "light"
          }
        }
      ]
    },
    {
      "cell_type": "code",
      "source": [
        "fpr"
      ],
      "metadata": {
        "colab": {
          "base_uri": "https://localhost:8080/"
        },
        "id": "8qyFJt6yI79n",
        "outputId": "04d36982-05a6-4253-ccc1-11bade8471bc"
      },
      "execution_count": 22,
      "outputs": [
        {
          "output_type": "execute_result",
          "data": {
            "text/plain": [
              "array([0.        , 0.        , 0.        , 0.00675676, 0.00675676,\n",
              "       0.01351351, 0.01351351, 0.02027027, 0.02027027, 0.02702703,\n",
              "       0.02702703, 0.05405405, 0.05405405, 0.10810811, 0.10810811,\n",
              "       1.        ])"
            ]
          },
          "metadata": {},
          "execution_count": 22
        }
      ]
    },
    {
      "cell_type": "code",
      "source": [
        "tpr"
      ],
      "metadata": {
        "colab": {
          "base_uri": "https://localhost:8080/"
        },
        "id": "TAAyaLl8I71j",
        "outputId": "60de8fa4-4abb-44bd-c9d3-bba1458fe9b7"
      },
      "execution_count": 23,
      "outputs": [
        {
          "output_type": "execute_result",
          "data": {
            "text/plain": [
              "array([0.   , 0.004, 0.86 , 0.86 , 0.928, 0.928, 0.98 , 0.98 , 0.988,\n",
              "       0.988, 0.992, 0.992, 0.996, 0.996, 1.   , 1.   ])"
            ]
          },
          "metadata": {},
          "execution_count": 23
        }
      ]
    },
    {
      "cell_type": "code",
      "source": [
        "threshold"
      ],
      "metadata": {
        "colab": {
          "base_uri": "https://localhost:8080/"
        },
        "id": "ERj6Z9LII7sL",
        "outputId": "310e13a2-b822-4f80-fc03-e4a60dd6d198"
      },
      "execution_count": 24,
      "outputs": [
        {
          "output_type": "execute_result",
          "data": {
            "text/plain": [
              "array([ 2.3431729 ,  1.3431729 ,  0.74268219,  0.74137999,  0.69609319,\n",
              "        0.68867913,  0.63316544,  0.62480986,  0.58612053,  0.58042965,\n",
              "        0.57594808,  0.55461919,  0.53720045,  0.44439165,  0.44218128,\n",
              "       -0.56296658])"
            ]
          },
          "metadata": {},
          "execution_count": 24
        }
      ]
    },
    {
      "cell_type": "code",
      "source": [
        "# AUROC 값 계산\n",
        "print(f\"AUROC:{auroc:.4f}\")"
      ],
      "metadata": {
        "colab": {
          "base_uri": "https://localhost:8080/"
        },
        "id": "rc8BGouIgZ-l",
        "outputId": "db69002f-23e1-4d4d-bbef-6d95c5c8b9f7"
      },
      "execution_count": 25,
      "outputs": [
        {
          "output_type": "stream",
          "name": "stdout",
          "text": [
            "AUROC:0.9979\n"
          ]
        }
      ]
    },
    {
      "cell_type": "code",
      "source": [
        "np.argmax(tpr - fpr)\n",
        "# tpr - fpr = 가장 큰값"
      ],
      "metadata": {
        "colab": {
          "base_uri": "https://localhost:8080/"
        },
        "id": "e5bjI7NLgsMV",
        "outputId": "f2dc0550-85b0-47e0-e46c-8a9424809573"
      },
      "execution_count": 26,
      "outputs": [
        {
          "output_type": "execute_result",
          "data": {
            "text/plain": [
              "8"
            ]
          },
          "metadata": {},
          "execution_count": 26
        }
      ]
    },
    {
      "cell_type": "code",
      "source": [
        "J = tpr - fpr # Youden's Index 구하는 방법은 tpr-fpr 계산해서 가장큰 값을 찾아주면됨)\n",
        "idx = np.argmax(J) # 제일큰 값을 찾아줌 >> 8번째\n",
        "best_thresh = threshold[idx]\n",
        "print(f\"Best Threshold is {best_thresh:.4f}\") #직선과 AROC커브가 가장 긴 곳임\n",
        "print(f\"Best Threshold's sensitivity is {tpr[idx]:.4f}\")\n",
        "print(f\"Best Threshold's specificity is is {1-fpr[idx]:.4f}\")\n",
        "print(f\"Best Threshold's J is {J[idx]:.4f}\")"
      ],
      "metadata": {
        "colab": {
          "base_uri": "https://localhost:8080/"
        },
        "id": "sQaAGtvsguRQ",
        "outputId": "0a061131-33f7-473b-c418-307059ed9a43"
      },
      "execution_count": 27,
      "outputs": [
        {
          "output_type": "stream",
          "name": "stdout",
          "text": [
            "Best Threshold is 0.5861\n",
            "Best Threshold's sensitivity is 0.9880\n",
            "Best Threshold's specificity is is 0.9797\n",
            "Best Threshold's J is 0.9677\n"
          ]
        }
      ]
    },
    {
      "cell_type": "code",
      "source": [
        "plt.plot(fpr, tpr)\n",
        "plt.plot(np.linspace(0,1,10), np.linspace(0,1,10))\n",
        "plt.plot((fpr[idx], fpr[idx]), (fpr[idx], tpr[idx]), color=\"red\", linestyle = '--')\n",
        "plt.xlabel('fpr')\n",
        "plt.ylabel('tpr')"
      ],
      "metadata": {
        "colab": {
          "base_uri": "https://localhost:8080/",
          "height": 297
        },
        "id": "VobUDTSLhoqJ",
        "outputId": "d624338b-6271-4695-b2e6-e2e03eb041e2"
      },
      "execution_count": 28,
      "outputs": [
        {
          "output_type": "execute_result",
          "data": {
            "text/plain": [
              "Text(0, 0.5, 'tpr')"
            ]
          },
          "metadata": {},
          "execution_count": 28
        },
        {
          "output_type": "display_data",
          "data": {
            "text/plain": [
              "<Figure size 432x288 with 1 Axes>"
            ],
            "image/png": "[encoded data removed]"
          },
          "metadata": {
            "needs_background": "light"
          }
        }
      ]
    },
    {
      "cell_type": "code",
      "source": [
        "fig, axes = plt.subplots(nrows=1, ncols=2, figsize=(10,5))\n",
        "\n",
        "preds = [\n",
        "    (\"Train\", train_data, train_pred),\n",
        "    (\"Test\", test_data, test_pred),\n",
        "]\n",
        "\n",
        "for idx, (names, d, pred) in enumerate(preds):\n",
        "  ax = axes[idx]\n",
        "  ax.scatter(x=d[:,0], y=pred)\n",
        "  ax.axhline(0, color=\"red\", linestyle =\"--\")\n",
        "  ax.axhline(1, color=\"red\", linestyle = \"--\")\n",
        "  ax.set_xlabel(\"mean_radius\")\n",
        "  ax.set_ylabel(\"predict\")\n",
        "  ax.set_title(f\"{name} Data\")\n",
        "  ax.axhline(best_thresh, color = \"blue\")\n",
        "# 파란색선 위로는 1 아래는 0으로 "
      ],
      "metadata": {
        "id": "2Jowjhw-i4Dy",
        "colab": {
          "base_uri": "https://localhost:8080/",
          "height": 351
        },
        "outputId": "1b5f4110-9b74-443e-a04b-215bc97164af"
      },
      "execution_count": 29,
      "outputs": [
        {
          "output_type": "display_data",
          "data": {
            "text/plain": [
              "<Figure size 720x360 with 2 Axes>"
            ],
            "image/png": "[encoded data removed]"
          },
          "metadata": {
            "needs_background": "light"
          }
        }
      ]
    },
    {
      "cell_type": "markdown",
      "source": [
        "이제 Threshold로 예측값을 0과 1로 변환후 정확도 확인"
      ],
      "metadata": {
        "id": "xI9kTgBb1kMa"
      }
    },
    {
      "cell_type": "code",
      "source": [
        "train_pred_label = list(map(int, (train_pred > best_thresh)))\n",
        "test_pred_label = list(map(int, (test_pred > best_thresh)))"
      ],
      "metadata": {
        "id": "kwrDC0iRvHSX"
      },
      "execution_count": 30,
      "outputs": []
    },
    {
      "cell_type": "code",
      "source": [
        "from sklearn.metrics import accuracy_score # 정확도 체크 \n",
        "\n",
        "linear_train_accuracy = accuracy_score(train_target, train_pred_label)\n",
        "linear_test_accuracy = accuracy_score(test_target, test_pred_label)"
      ],
      "metadata": {
        "id": "H1SFlclZ191c"
      },
      "execution_count": 31,
      "outputs": []
    },
    {
      "cell_type": "code",
      "source": [
        "print(f\"Train accuracy is : {linear_train_accuracy:.2f}\")\n",
        "print(f\"Test accuracy is : {linear_test_accuracy:.2f}\")"
      ],
      "metadata": {
        "colab": {
          "base_uri": "https://localhost:8080/"
        },
        "id": "OiATx4973DxL",
        "outputId": "8615ff04-699f-4056-bf5d-8d593fe262c1"
      },
      "execution_count": 32,
      "outputs": [
        {
          "output_type": "stream",
          "name": "stdout",
          "text": [
            "Train accuracy is : 0.98\n",
            "Test accuracy is : 0.96\n"
          ]
        }
      ]
    },
    {
      "cell_type": "markdown",
      "source": [
        "# **3. Logistic Regression**\n",
        "\n"
      ],
      "metadata": {
        "id": "Y3rdOfke3nX8"
      }
    },
    {
      "cell_type": "markdown",
      "source": [
        "**3.1 Scaling**\n",
        "\n",
        "Logistic Regression은 학습하기에 앞서 학습시킬 데이터를 정규화 해야함\\\n",
        "Logistic Regression에는 exp가 있는데, exp는 값이 클 경우 overflow가 일어날 수 있기 때문임"
      ],
      "metadata": {
        "id": "Gfohdz4W3vEY"
      }
    },
    {
      "cell_type": "code",
      "source": [
        "from sklearn.preprocessing import StandardScaler #스탠다드 스케일러 사용하여 스케일링 진행\n",
        "# 정규화 항상 할때, Train 데이터 이용하여 정규화 학습, 그다음에 테스트 데이터 변환 해야함\n",
        "scaler = StandardScaler()"
      ],
      "metadata": {
        "id": "mP46Dmfx3YlG"
      },
      "execution_count": 33,
      "outputs": []
    },
    {
      "cell_type": "markdown",
      "source": [
        "정규화는 항상 train data를 이용해 학습하고 valid, test 데이터를 변환해야 함\\\n",
        "모든 데이터를 한번에 학습할 경우 본적이 없는 valid data의 평균과 분산이 반영되고 이는 overfitting을 일으키는 원인이 됨"
      ],
      "metadata": {
        "id": "gbP-EUeS5Kxp"
      }
    },
    {
      "cell_type": "code",
      "source": [
        "# 항상 sacler.fit은 train data로 진행(over fittin 방지!)\n",
        "scaler.fit(train_data)"
      ],
      "metadata": {
        "colab": {
          "base_uri": "https://localhost:8080/"
        },
        "id": "V6kC8GA-4L7q",
        "outputId": "057b11e0-9253-49ed-ed4e-0c9cef260aee"
      },
      "execution_count": 34,
      "outputs": [
        {
          "output_type": "execute_result",
          "data": {
            "text/plain": [
              "StandardScaler()"
            ]
          },
          "metadata": {},
          "execution_count": 34
        }
      ]
    },
    {
      "cell_type": "code",
      "source": [
        "# 학습된 scaler로 train/test 데이터를 변환함\n",
        "\n",
        "scaled_train_data = scaler.transform(train_data)\n",
        "scaled_test_data = scaler.transform(test_data)"
      ],
      "metadata": {
        "id": "3IvNMw1255rq"
      },
      "execution_count": 35,
      "outputs": []
    },
    {
      "cell_type": "code",
      "source": [
        "train_data[0]"
      ],
      "metadata": {
        "colab": {
          "base_uri": "https://localhost:8080/"
        },
        "id": "2_BkESlq6ri2",
        "outputId": "76ace2d6-fd69-467f-f376-cdf0590fe9cf"
      },
      "execution_count": 36,
      "outputs": [
        {
          "output_type": "execute_result",
          "data": {
            "text/plain": [
              "array([1.130e+01, 1.819e+01, 7.393e+01, 3.894e+02, 9.592e-02, 1.325e-01,\n",
              "       1.548e-01, 2.854e-02, 2.054e-01, 7.669e-02, 2.428e-01, 1.642e+00,\n",
              "       2.369e+00, 1.639e+01, 6.663e-03, 5.914e-02, 8.880e-02, 1.314e-02,\n",
              "       1.995e-02, 8.675e-03, 1.258e+01, 2.796e+01, 8.716e+01, 4.729e+02,\n",
              "       1.347e-01, 4.848e-01, 7.436e-01, 1.218e-01, 3.308e-01, 1.297e-01])"
            ]
          },
          "metadata": {},
          "execution_count": 36
        }
      ]
    },
    {
      "cell_type": "code",
      "source": [
        "scaled_train_data[0]"
      ],
      "metadata": {
        "colab": {
          "base_uri": "https://localhost:8080/"
        },
        "id": "EocEV-I86vJV",
        "outputId": "a3f94d5e-b24d-4c68-9dff-87386613c568"
      },
      "execution_count": 37,
      "outputs": [
        {
          "output_type": "execute_result",
          "data": {
            "text/plain": [
              "array([-0.77241528, -0.25350148, -0.71766034, -0.72713135, -0.05609214,\n",
              "        0.52832818,  0.80418063, -0.54281688,  0.8826752 ,  1.92363784,\n",
              "       -0.56190665,  0.82998234, -0.22721273, -0.4934605 , -0.1485608 ,\n",
              "        1.83202549,  1.75089411,  0.22238033, -0.03320069,  1.67142344,\n",
              "       -0.74402208,  0.36363441, -0.58496884, -0.70201562,  0.06028267,\n",
              "        1.48259627,  2.23558836,  0.09272995,  0.71316397,  2.55107451])"
            ]
          },
          "metadata": {},
          "execution_count": 37
        }
      ]
    },
    {
      "cell_type": "markdown",
      "source": [
        "**3.2 학습**\n",
        "\n",
        "이제 표준화된 데이터로 Logistic Regression을 학습해 보겠습니다."
      ],
      "metadata": {
        "id": "DVlKyH4I7IGc"
      }
    },
    {
      "cell_type": "code",
      "source": [
        "from sklearn.linear_model import LogisticRegression\n",
        "\n",
        "logit_regressor = LogisticRegression()"
      ],
      "metadata": {
        "id": "iuPXDF4c6yTB"
      },
      "execution_count": 38,
      "outputs": []
    },
    {
      "cell_type": "code",
      "source": [
        "logit_regressor.fit(scaled_train_data, train_target)"
      ],
      "metadata": {
        "colab": {
          "base_uri": "https://localhost:8080/"
        },
        "id": "QjiyXlKw75HX",
        "outputId": "88ecb8d1-d9e2-440a-c154-985524d33f0a"
      },
      "execution_count": 39,
      "outputs": [
        {
          "output_type": "execute_result",
          "data": {
            "text/plain": [
              "LogisticRegression()"
            ]
          },
          "metadata": {},
          "execution_count": 39
        }
      ]
    },
    {
      "cell_type": "markdown",
      "source": [
        "**3.3 예측**"
      ],
      "metadata": {
        "id": "WErSxph08Qlw"
      }
    },
    {
      "cell_type": "markdown",
      "source": [
        "Classfication 을 하는 모델의 경우 예측을 하는 방법은 두가지\n",
        "1. predict\\\n",
        "해당 데이터가 어떤 class로 분류 할지 바로 알려줌\n",
        "2. predict_proba\\\n",
        "각 class에 속할 확율을 보여줌"
      ],
      "metadata": {
        "id": "DO1n6Mbh8VMS"
      }
    },
    {
      "cell_type": "code",
      "source": [
        "train_pred = logit_regressor.predict(scaled_train_data)\n",
        "test_pred = logit_regressor.predict(scaled_test_data)"
      ],
      "metadata": {
        "id": "Ka9WSyTf78-s"
      },
      "execution_count": 40,
      "outputs": []
    },
    {
      "cell_type": "code",
      "source": [
        "train_pred[:10]"
      ],
      "metadata": {
        "colab": {
          "base_uri": "https://localhost:8080/"
        },
        "id": "YuxKG97v835M",
        "outputId": "b0be5968-edc9-402f-ecfd-55b20d2b850b"
      },
      "execution_count": 41,
      "outputs": [
        {
          "output_type": "execute_result",
          "data": {
            "text/plain": [
              "array([1, 0, 1, 1, 1, 0, 1, 0, 1, 1])"
            ]
          },
          "metadata": {},
          "execution_count": 41
        }
      ]
    },
    {
      "cell_type": "code",
      "source": [
        "train_pred_logit = logit_regressor.predict_proba(scaled_train_data)\n",
        "test_pred_logit = logit_regressor.predict_proba(scaled_test_data)"
      ],
      "metadata": {
        "id": "JfvEt4gz9BFj"
      },
      "execution_count": 42,
      "outputs": []
    },
    {
      "cell_type": "code",
      "source": [
        "train_pred_logit[:10] # 왼쪽이 0에 속할 확률, 1에 속할 확률"
      ],
      "metadata": {
        "colab": {
          "base_uri": "https://localhost:8080/"
        },
        "id": "tgvqLx2Y9Rzc",
        "outputId": "a222b2c8-973a-477c-eb2e-3bef70b27b72"
      },
      "execution_count": 43,
      "outputs": [
        {
          "output_type": "execute_result",
          "data": {
            "text/plain": [
              "array([[9.77486880e-03, 9.90225131e-01],\n",
              "       [9.99999999e-01, 1.10444571e-09],\n",
              "       [2.00315051e-02, 9.79968495e-01],\n",
              "       [1.74273407e-06, 9.99998257e-01],\n",
              "       [4.94023919e-04, 9.99505976e-01],\n",
              "       [9.99999933e-01, 6.70359495e-08],\n",
              "       [2.92533805e-04, 9.99707466e-01],\n",
              "       [8.26176477e-01, 1.73823523e-01],\n",
              "       [1.33303137e-04, 9.99866697e-01],\n",
              "       [5.72177528e-05, 9.99942782e-01]])"
            ]
          },
          "metadata": {},
          "execution_count": 43
        }
      ]
    },
    {
      "cell_type": "code",
      "source": [
        "train_pred_logit[0] # 1에 속할 확률이 큼"
      ],
      "metadata": {
        "colab": {
          "base_uri": "https://localhost:8080/"
        },
        "id": "iYd_24ax9Vik",
        "outputId": "00cde5d1-ca76-4ff8-9102-82a37eff3ea9"
      },
      "execution_count": 44,
      "outputs": [
        {
          "output_type": "execute_result",
          "data": {
            "text/plain": [
              "array([0.00977487, 0.99022513])"
            ]
          },
          "metadata": {},
          "execution_count": 44
        }
      ]
    },
    {
      "cell_type": "markdown",
      "source": [
        "# 평가\n",
        "\n",
        "데이터의 AUROC를 계산하기 위해서는 1의 클래스로 분류될 확률 하난만 필요함\\\n",
        "반면 우리가 갖고 있는 예측ㄱ밧은 0과 1로 분류될 확률을 모두 표시\\\n",
        "그래서 1에 속할 확률만 남김"
      ],
      "metadata": {
        "id": "tckU00Cx9-7c"
      }
    },
    {
      "cell_type": "code",
      "source": [
        "train_pred_logit = train_pred_logit[:,1]\n",
        "test_pred_logit = test_pred_logit[:,1]"
      ],
      "metadata": {
        "id": "mqBtHoUb91RD"
      },
      "execution_count": 45,
      "outputs": []
    },
    {
      "cell_type": "code",
      "source": [
        "train_pred_logit[0]"
      ],
      "metadata": {
        "colab": {
          "base_uri": "https://localhost:8080/"
        },
        "id": "NJnO6E1j_KF2",
        "outputId": "8e53d701-602f-4fbd-a271-240211922bcc"
      },
      "execution_count": 46,
      "outputs": [
        {
          "output_type": "execute_result",
          "data": {
            "text/plain": [
              "0.9902251312004176"
            ]
          },
          "metadata": {},
          "execution_count": 46
        }
      ]
    },
    {
      "cell_type": "code",
      "source": [
        "from sklearn.metrics import auc, roc_curve\n",
        "\n",
        "fpr, tpr, threshold = roc_curve(train_target, train_pred_logit)"
      ],
      "metadata": {
        "id": "2Q6Dhgmo-cOA"
      },
      "execution_count": 47,
      "outputs": []
    },
    {
      "cell_type": "code",
      "source": [
        "plt.plot(fpr, tpr)\n",
        "plt.xlabel(\"fpr\")\n",
        "plt.ylabel(\"tpr\")"
      ],
      "metadata": {
        "colab": {
          "base_uri": "https://localhost:8080/",
          "height": 297
        },
        "id": "ZW9Bx-DZ-oGH",
        "outputId": "93003f94-c2b7-4199-d2d2-cbd3090c356b"
      },
      "execution_count": 48,
      "outputs": [
        {
          "output_type": "execute_result",
          "data": {
            "text/plain": [
              "Text(0, 0.5, 'tpr')"
            ]
          },
          "metadata": {},
          "execution_count": 48
        },
        {
          "output_type": "display_data",
          "data": {
            "text/plain": [
              "<Figure size 432x288 with 1 Axes>"
            ],
            "image/png": "[encoded data removed]"
          },
          "metadata": {
            "needs_background": "light"
          }
        }
      ]
    },
    {
      "cell_type": "code",
      "source": [
        "print(\"AUROC:\", auc(fpr,tpr))"
      ],
      "metadata": {
        "colab": {
          "base_uri": "https://localhost:8080/"
        },
        "id": "Iw7VazHy-y3n",
        "outputId": "9a057e6b-29f9-4b8b-da09-f6c5f71d0424"
      },
      "execution_count": 49,
      "outputs": [
        {
          "output_type": "stream",
          "name": "stdout",
          "text": [
            "AUROC: 0.9994324324324324\n"
          ]
        }
      ]
    },
    {
      "cell_type": "code",
      "source": [
        "J = tpr - fpr\n",
        "idx = np.argmax(J)\n",
        "best_thresh =  thresh = threshold[idx]\n",
        "\n",
        "print(f\"Best Threshold is {best_thresh:.4f}\")\n",
        "print(f\"Best Threshold's sensitivity is {tpr[idx]:.4f}\")\n",
        "print(f\"Best Threshold's specificity is {1-fpr[idx]:.4f}\")\n",
        "print(f\"Best Threshold's J is {J[idx]:.4f}\")"
      ],
      "metadata": {
        "colab": {
          "base_uri": "https://localhost:8080/"
        },
        "id": "FHBn5pL7-65M",
        "outputId": "42a26cce-6315-4b48-b0e3-39b398976576"
      },
      "execution_count": 50,
      "outputs": [
        {
          "output_type": "stream",
          "name": "stdout",
          "text": [
            "Best Threshold is 0.4433\n",
            "Best Threshold's sensitivity is 1.0000\n",
            "Best Threshold's specificity is 0.9865\n",
            "Best Threshold's J is 0.9865\n"
          ]
        }
      ]
    },
    {
      "cell_type": "code",
      "source": [
        "plt.plot(fpr, tpr)\n",
        "plt.plot(np.linspace(0,1,10), np.linspace(0,1,10))\n",
        "plt.plot((fpr[idx], fpr[idx]), (fpr[idx], tpr[idx]), color = \"red\", linestyle = '--')\n",
        "plt.xlabel(\"fpr\")\n",
        "plt.ylabel(\"tpr\")"
      ],
      "metadata": {
        "colab": {
          "base_uri": "https://localhost:8080/",
          "height": 297
        },
        "id": "IB1ZH0er_61b",
        "outputId": "9be09e20-e32e-43f7-8443-d95441b82c79"
      },
      "execution_count": 51,
      "outputs": [
        {
          "output_type": "execute_result",
          "data": {
            "text/plain": [
              "Text(0, 0.5, 'tpr')"
            ]
          },
          "metadata": {},
          "execution_count": 51
        },
        {
          "output_type": "display_data",
          "data": {
            "text/plain": [
              "<Figure size 432x288 with 1 Axes>"
            ],
            "image/png": "[encoded data removed]"
          },
          "metadata": {
            "needs_background": "light"
          }
        }
      ]
    },
    {
      "cell_type": "code",
      "source": [
        "plt.scatter(x=scaled_train_data[:,0], y=train_pred_logit)\n",
        "plt.axhline(best_thresh, color = \"blue\")\n",
        "plt.axhline(0, color = \"red\", linestyle = \"--\")\n",
        "plt.axhline(1, color = \"red\", linestyle = \"--\")\n",
        "plt.xlabel(\"mean radius\")\n",
        "plt.ylabel(\"Probability\")"
      ],
      "metadata": {
        "colab": {
          "base_uri": "https://localhost:8080/",
          "height": 297
        },
        "id": "80M6qxuDAaE-",
        "outputId": "8f323e3f-aff5-4a00-915b-690e5bd0b559"
      },
      "execution_count": 52,
      "outputs": [
        {
          "output_type": "execute_result",
          "data": {
            "text/plain": [
              "Text(0, 0.5, 'Probability')"
            ]
          },
          "metadata": {},
          "execution_count": 52
        },
        {
          "output_type": "display_data",
          "data": {
            "text/plain": [
              "<Figure size 432x288 with 1 Axes>"
            ],
            "image/png": "[encoded data removed]"
          },
          "metadata": {
            "needs_background": "light"
          }
        }
      ]
    },
    {
      "cell_type": "markdown",
      "source": [
        "Threshold로 예측값을 0,1로 변환후 정확도 확인"
      ],
      "metadata": {
        "id": "OAseFjQ4BHLD"
      }
    },
    {
      "cell_type": "code",
      "source": [
        "train_pred_label = list(map(int, (train_pred_logit > best_thresh)))\n",
        "test_pred_label = list(map(int, (test_pred_logit > best_thresh)))"
      ],
      "metadata": {
        "id": "_1PJrfLkBAzG"
      },
      "execution_count": 53,
      "outputs": []
    },
    {
      "cell_type": "code",
      "source": [
        "proba_train_accuracy = accuracy_score(train_target, train_pred_label)\n",
        "proba_test_accuracy = accuracy_score(test_target, test_pred_label)"
      ],
      "metadata": {
        "id": "i3dRTx3tBYl7"
      },
      "execution_count": 54,
      "outputs": []
    },
    {
      "cell_type": "code",
      "source": [
        "print(f\"Train accuracy is : {proba_train_accuracy:.2f}\")\n",
        "print(f\"Test accuracy is : {proba_test_accuracy:.2f}\")"
      ],
      "metadata": {
        "colab": {
          "base_uri": "https://localhost:8080/"
        },
        "id": "y43Mt9i5Bna8",
        "outputId": "13dc9c32-c031-4f98-e525-bc7c5a0060a4"
      },
      "execution_count": 55,
      "outputs": [
        {
          "output_type": "stream",
          "name": "stdout",
          "text": [
            "Train accuracy is : 0.99\n",
            "Test accuracy is : 0.96\n"
          ]
        }
      ]
    },
    {
      "cell_type": "markdown",
      "source": [
        "predict의 결과값으로 정확도를 확인"
      ],
      "metadata": {
        "id": "5dWJsQ64CFpL"
      }
    },
    {
      "cell_type": "code",
      "source": [
        "train_accuracy = accuracy_score(train_target, train_pred)\n",
        "test_accuracy = accuracy_score(test_target, test_pred)"
      ],
      "metadata": {
        "id": "Ynd8HLTeCIcO"
      },
      "execution_count": 56,
      "outputs": []
    },
    {
      "cell_type": "code",
      "source": [
        "print(f\"Train accuracy is: {train_accuracy:.2f}\")\n",
        "print(f\"Test accuracy is: {test_accuracy:.2f}\")"
      ],
      "metadata": {
        "colab": {
          "base_uri": "https://localhost:8080/"
        },
        "id": "rAf3bGKpB68h",
        "outputId": "7f8ab837-5c6b-456e-9dd9-d07cfebdf0e6"
      },
      "execution_count": 57,
      "outputs": [
        {
          "output_type": "stream",
          "name": "stdout",
          "text": [
            "Train accuracy is: 0.99\n",
            "Test accuracy is: 0.97\n"
          ]
        }
      ]
    },
    {
      "cell_type": "markdown",
      "source": [
        "predict_proba의 best_threshold로 계산한 결과와 predcit로 계산한 결과가 다름\\\n",
        "이는 두 0과 1로 예측하는 방법이 다르기 때문임\\\n",
        "예를 들어서(0.49, 0.51)의 확률이 있을때 predict의 경우 class 1의 확률에 속할 확률이 크기 때문에 1로 분류함\\\n",
        "하지만 best_threshold가 0.52라면 predict_proba의 경우 class를 0으로 분류하게 됨"
      ],
      "metadata": {
        "id": "d3so72nECvST"
      }
    },
    {
      "cell_type": "code",
      "source": [],
      "metadata": {
        "id": "Bp4Dt8zyCe28"
      },
      "execution_count": 57,
      "outputs": []
    },
    {
      "cell_type": "markdown",
      "source": [
        "# **4. 마무리**\n",
        "\n",
        "3개의 모델 정확도 비교"
      ],
      "metadata": {
        "id": "4PIBvLP-DKMc"
      }
    },
    {
      "cell_type": "code",
      "source": [
        "print(f\"Linear Regression Test Accuracy: {linear_test_accuracy:.2f}\")\n",
        "print(f\"Logistic Regression predict_proba Test Accuracy: {proba_test_accuracy:.2f}\")\n",
        "print(f\"Logistic Regression predict Test Accuracy: {test_accuracy:.2f}\")"
      ],
      "metadata": {
        "colab": {
          "base_uri": "https://localhost:8080/"
        },
        "id": "e4ZM--5vDZ7u",
        "outputId": "0cc6d04e-ae8e-43d3-e7ea-e92846432d08"
      },
      "execution_count": 58,
      "outputs": [
        {
          "output_type": "stream",
          "name": "stdout",
          "text": [
            "Linear Regression Test Accuracy: 0.96\n",
            "Logistic Regression predict_proba Test Accuracy: 0.96\n",
            "Logistic Regression predict Test Accuracy: 0.97\n"
          ]
        }
      ]
    }
  ]
}