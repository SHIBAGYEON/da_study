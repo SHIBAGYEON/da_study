{
  "nbformat": 4,
  "nbformat_minor": 0,
  "metadata": {
    "colab": {
      "provenance": []
    },
    "kernelspec": {
      "name": "python3",
      "display_name": "Python 3"
    },
    "language_info": {
      "name": "python"
    }
  },
  "cells": [
    {
      "cell_type": "markdown",
      "source": [
        "# **영화 메타 데이터와 TF-iDF 실습**\n",
        "\n",
        "영화 줄거리 데이터에 TF-IDF를 적용해 영화별로 유사도를 계산"
      ],
      "metadata": {
        "id": "xdQkwnA-c_7I"
      }
    },
    {
      "cell_type": "code",
      "execution_count": 4,
      "metadata": {
        "id": "enIT_wJEc6XI"
      },
      "outputs": [],
      "source": [
        "import pandas as pd\n",
        "import numpy as np\n",
        "import matplotlib.pyplot as plt\n",
        "\n",
        "np.random.seed(2021) # 랜덤시드 고정"
      ]
    },
    {
      "cell_type": "markdown",
      "source": [
        "# 1. Data"
      ],
      "metadata": {
        "id": "zVPcSpkcds7Y"
      }
    },
    {
      "cell_type": "markdown",
      "source": [
        "1.1. Data Load\n",
        "\n",
        "데이터에서 영화 제목을 나타내는 title과 줄거리 overview 컬럼을 이용함"
      ],
      "metadata": {
        "id": "tGw4iNmddu8R"
      }
    },
    {
      "cell_type": "code",
      "source": [
        "df = pd.read_csv(\"movies_metadata.csv\")"
      ],
      "metadata": {
        "colab": {
          "base_uri": "https://localhost:8080/"
        },
        "id": "bHJg2UxVdpYt",
        "outputId": "4fe30255-eec3-4f65-ac9c-3dd71f3b594d"
      },
      "execution_count": 5,
      "outputs": [
        {
          "output_type": "stream",
          "name": "stderr",
          "text": [
            "<ipython-input-5-5fa6c0012d56>:1: DtypeWarning: Columns (10) have mixed types. Specify dtype option on import or set low_memory=False.\n",
            "  df = pd.read_csv(\"movies_metadata.csv\")\n"
          ]
        }
      ]
    },
    {
      "cell_type": "code",
      "source": [
        "df = df[[\"title\", \"overview\"]]"
      ],
      "metadata": {
        "id": "qQkiia1heNMh"
      },
      "execution_count": 6,
      "outputs": []
    },
    {
      "cell_type": "markdown",
      "source": [
        "전체 데이터의 1000개만 사용하겠음"
      ],
      "metadata": {
        "id": "lVWdR7K8eZO_"
      }
    },
    {
      "cell_type": "code",
      "source": [
        "df = df.iloc[:1000]"
      ],
      "metadata": {
        "id": "u0mAtDqeeXoe"
      },
      "execution_count": 7,
      "outputs": []
    },
    {
      "cell_type": "code",
      "source": [
        "df.shape"
      ],
      "metadata": {
        "colab": {
          "base_uri": "https://localhost:8080/"
        },
        "id": "Lm7ZKtTzegzZ",
        "outputId": "77f2d234-b7d1-43dd-a0c5-4e5e26c09783"
      },
      "execution_count": 8,
      "outputs": [
        {
          "output_type": "execute_result",
          "data": {
            "text/plain": [
              "(1000, 2)"
            ]
          },
          "metadata": {},
          "execution_count": 8
        }
      ]
    },
    {
      "cell_type": "code",
      "source": [
        "df"
      ],
      "metadata": {
        "colab": {
          "base_uri": "https://localhost:8080/",
          "height": 423
        },
        "id": "79BhQTsEegtq",
        "outputId": "20b3f8e6-43d6-49ef-a97b-d144192f4634"
      },
      "execution_count": 9,
      "outputs": [
        {
          "output_type": "execute_result",
          "data": {
            "text/plain": [
              "                             title  \\\n",
              "0                        Toy Story   \n",
              "1                          Jumanji   \n",
              "2                 Grumpier Old Men   \n",
              "3                Waiting to Exhale   \n",
              "4      Father of the Bride Part II   \n",
              "..                             ...   \n",
              "995           The Three Caballeros   \n",
              "996         The Sword in the Stone   \n",
              "997            So Dear to My Heart   \n",
              "998  Robin Hood: Prince of Thieves   \n",
              "999                   Mary Poppins   \n",
              "\n",
              "                                              overview  \n",
              "0    Led by Woody, Andy's toys live happily in his ...  \n",
              "1    When siblings Judy and Peter discover an encha...  \n",
              "2    A family wedding reignites the ancient feud be...  \n",
              "3    Cheated on, mistreated and stepped on, the wom...  \n",
              "4    Just when George Banks has recovered from his ...  \n",
              "..                                                 ...  \n",
              "995  For Donald's birthday he receives a box with t...  \n",
              "996  Wart is a young boy who aspires to be a knight...  \n",
              "997  The tale of Jeremiah Kincaid and his quest to ...  \n",
              "998  When the dastardly Sheriff of Nottingham murde...  \n",
              "999  The movie combines a diverting story, songs, c...  \n",
              "\n",
              "[1000 rows x 2 columns]"
            ],
            "text/html": [
              "\n",
              "  <div id=\"df-c149e9e5-66e1-4c9c-ba4a-f1255709cd09\">\n",
              "    <div class=\"colab-df-container\">\n",
              "      <div>\n",
              "<style scoped>\n",
              "    .dataframe tbody tr th:only-of-type {\n",
              "        vertical-align: middle;\n",
              "    }\n",
              "\n",
              "    .dataframe tbody tr th {\n",
              "        vertical-align: top;\n",
              "    }\n",
              "\n",
              "    .dataframe thead th {\n",
              "        text-align: right;\n",
              "    }\n",
              "</style>\n",
              "<table border=\"1\" class=\"dataframe\">\n",
              "  <thead>\n",
              "    <tr style=\"text-align: right;\">\n",
              "      <th></th>\n",
              "      <th>title</th>\n",
              "      <th>overview</th>\n",
              "    </tr>\n",
              "  </thead>\n",
              "  <tbody>\n",
              "    <tr>\n",
              "      <th>0</th>\n",
              "      <td>Toy Story</td>\n",
              "      <td>Led by Woody, Andy's toys live happily in his ...</td>\n",
              "    </tr>\n",
              "    <tr>\n",
              "      <th>1</th>\n",
              "      <td>Jumanji</td>\n",
              "      <td>When siblings Judy and Peter discover an encha...</td>\n",
              "    </tr>\n",
              "    <tr>\n",
              "      <th>2</th>\n",
              "      <td>Grumpier Old Men</td>\n",
              "      <td>A family wedding reignites the ancient feud be...</td>\n",
              "    </tr>\n",
              "    <tr>\n",
              "      <th>3</th>\n",
              "      <td>Waiting to Exhale</td>\n",
              "      <td>Cheated on, mistreated and stepped on, the wom...</td>\n",
              "    </tr>\n",
              "    <tr>\n",
              "      <th>4</th>\n",
              "      <td>Father of the Bride Part II</td>\n",
              "      <td>Just when George Banks has recovered from his ...</td>\n",
              "    </tr>\n",
              "    <tr>\n",
              "      <th>...</th>\n",
              "      <td>...</td>\n",
              "      <td>...</td>\n",
              "    </tr>\n",
              "    <tr>\n",
              "      <th>995</th>\n",
              "      <td>The Three Caballeros</td>\n",
              "      <td>For Donald's birthday he receives a box with t...</td>\n",
              "    </tr>\n",
              "    <tr>\n",
              "      <th>996</th>\n",
              "      <td>The Sword in the Stone</td>\n",
              "      <td>Wart is a young boy who aspires to be a knight...</td>\n",
              "    </tr>\n",
              "    <tr>\n",
              "      <th>997</th>\n",
              "      <td>So Dear to My Heart</td>\n",
              "      <td>The tale of Jeremiah Kincaid and his quest to ...</td>\n",
              "    </tr>\n",
              "    <tr>\n",
              "      <th>998</th>\n",
              "      <td>Robin Hood: Prince of Thieves</td>\n",
              "      <td>When the dastardly Sheriff of Nottingham murde...</td>\n",
              "    </tr>\n",
              "    <tr>\n",
              "      <th>999</th>\n",
              "      <td>Mary Poppins</td>\n",
              "      <td>The movie combines a diverting story, songs, c...</td>\n",
              "    </tr>\n",
              "  </tbody>\n",
              "</table>\n",
              "<p>1000 rows × 2 columns</p>\n",
              "</div>\n",
              "      <button class=\"colab-df-convert\" onclick=\"convertToInteractive('df-c149e9e5-66e1-4c9c-ba4a-f1255709cd09')\"\n",
              "              title=\"Convert this dataframe to an interactive table.\"\n",
              "              style=\"display:none;\">\n",
              "        \n",
              "  <svg xmlns=\"http://www.w3.org/2000/svg\" height=\"24px\"viewBox=\"0 0 24 24\"\n",
              "       width=\"24px\">\n",
              "    <path d=\"M0 0h24v24H0V0z\" fill=\"none\"/>\n",
              "    <path d=\"M18.56 5.44l.94 2.06.94-2.06 2.06-.94-2.06-.94-.94-2.06-.94 2.06-2.06.94zm-11 1L8.5 8.5l.94-2.06 2.06-.94-2.06-.94L8.5 2.5l-.94 2.06-2.06.94zm10 10l.94 2.06.94-2.06 2.06-.94-2.06-.94-.94-2.06-.94 2.06-2.06.94z\"/><path d=\"M17.41 7.96l-1.37-1.37c-.4-.4-.92-.59-1.43-.59-.52 0-1.04.2-1.43.59L10.3 9.45l-7.72 7.72c-.78.78-.78 2.05 0 2.83L4 21.41c.39.39.9.59 1.41.59.51 0 1.02-.2 1.41-.59l7.78-7.78 2.81-2.81c.8-.78.8-2.07 0-2.86zM5.41 20L4 18.59l7.72-7.72 1.47 1.35L5.41 20z\"/>\n",
              "  </svg>\n",
              "      </button>\n",
              "      \n",
              "  <style>\n",
              "    .colab-df-container {\n",
              "      display:flex;\n",
              "      flex-wrap:wrap;\n",
              "      gap: 12px;\n",
              "    }\n",
              "\n",
              "    .colab-df-convert {\n",
              "      background-color: #E8F0FE;\n",
              "      border: none;\n",
              "      border-radius: 50%;\n",
              "      cursor: pointer;\n",
              "      display: none;\n",
              "      fill: #1967D2;\n",
              "      height: 32px;\n",
              "      padding: 0 0 0 0;\n",
              "      width: 32px;\n",
              "    }\n",
              "\n",
              "    .colab-df-convert:hover {\n",
              "      background-color: #E2EBFA;\n",
              "      box-shadow: 0px 1px 2px rgba(60, 64, 67, 0.3), 0px 1px 3px 1px rgba(60, 64, 67, 0.15);\n",
              "      fill: #174EA6;\n",
              "    }\n",
              "\n",
              "    [theme=dark] .colab-df-convert {\n",
              "      background-color: #3B4455;\n",
              "      fill: #D2E3FC;\n",
              "    }\n",
              "\n",
              "    [theme=dark] .colab-df-convert:hover {\n",
              "      background-color: #434B5C;\n",
              "      box-shadow: 0px 1px 3px 1px rgba(0, 0, 0, 0.15);\n",
              "      filter: drop-shadow(0px 1px 2px rgba(0, 0, 0, 0.3));\n",
              "      fill: #FFFFFF;\n",
              "    }\n",
              "  </style>\n",
              "\n",
              "      <script>\n",
              "        const buttonEl =\n",
              "          document.querySelector('#df-c149e9e5-66e1-4c9c-ba4a-f1255709cd09 button.colab-df-convert');\n",
              "        buttonEl.style.display =\n",
              "          google.colab.kernel.accessAllowed ? 'block' : 'none';\n",
              "\n",
              "        async function convertToInteractive(key) {\n",
              "          const element = document.querySelector('#df-c149e9e5-66e1-4c9c-ba4a-f1255709cd09');\n",
              "          const dataTable =\n",
              "            await google.colab.kernel.invokeFunction('convertToInteractive',\n",
              "                                                     [key], {});\n",
              "          if (!dataTable) return;\n",
              "\n",
              "          const docLinkHtml = 'Like what you see? Visit the ' +\n",
              "            '<a target=\"_blank\" href=https://colab.research.google.com/notebooks/data_table.ipynb>data table notebook</a>'\n",
              "            + ' to learn more about interactive tables.';\n",
              "          element.innerHTML = '';\n",
              "          dataTable['output_type'] = 'display_data';\n",
              "          await google.colab.output.renderOutput(dataTable, element);\n",
              "          const docLink = document.createElement('div');\n",
              "          docLink.innerHTML = docLinkHtml;\n",
              "          element.appendChild(docLink);\n",
              "        }\n",
              "      </script>\n",
              "    </div>\n",
              "  </div>\n",
              "  "
            ]
          },
          "metadata": {},
          "execution_count": 9
        }
      ]
    },
    {
      "cell_type": "markdown",
      "source": [
        "1.2 Data Cleaning\n",
        "\n",
        "'overview'가 결측값인 경우 빈 str로 대체!"
      ],
      "metadata": {
        "id": "HDJiTnHLei--"
      }
    },
    {
      "cell_type": "code",
      "source": [
        "df[\"overview\"].isna().sum()"
      ],
      "metadata": {
        "colab": {
          "base_uri": "https://localhost:8080/"
        },
        "id": "Xje2a85weiaP",
        "outputId": "bf450d3c-48d6-4bbb-d7b2-fb83ad5d257c"
      },
      "execution_count": 10,
      "outputs": [
        {
          "output_type": "execute_result",
          "data": {
            "text/plain": [
              "12"
            ]
          },
          "metadata": {},
          "execution_count": 10
        }
      ]
    },
    {
      "cell_type": "code",
      "source": [
        "df[\"overview\"] = df[\"overview\"].fillna(' ')"
      ],
      "metadata": {
        "id": "rlv539uhezaR"
      },
      "execution_count": 33,
      "outputs": []
    },
    {
      "cell_type": "markdown",
      "source": [
        "# 2. TF-IDF계산"
      ],
      "metadata": {
        "id": "ejOQGWLfe_uS"
      }
    },
    {
      "cell_type": "code",
      "source": [
        "from sklearn.feature_extraction.text import TfidfVectorizer"
      ],
      "metadata": {
        "id": "Dsm3oNFdfD9Y"
      },
      "execution_count": 22,
      "outputs": []
    },
    {
      "cell_type": "markdown",
      "source": [
        "2.1 Sample Data"
      ],
      "metadata": {
        "id": "dDuEulpnfTmK"
      }
    },
    {
      "cell_type": "code",
      "source": [
        "# 샘플 데이터 2개 문장만 우선 확인\n",
        "df[\"overview\"].values[:2]"
      ],
      "metadata": {
        "colab": {
          "base_uri": "https://localhost:8080/"
        },
        "id": "3j-3O_l7fTHm",
        "outputId": "cb0bff8c-c50d-4100-8289-a0938093eef5"
      },
      "execution_count": 23,
      "outputs": [
        {
          "output_type": "execute_result",
          "data": {
            "text/plain": [
              "array([\"Led by Woody, Andy's toys live happily in his room until Andy's birthday brings Buzz Lightyear onto the scene. Afraid of losing his place in Andy's heart, Woody plots against Buzz. But when circumstances separate Buzz and Woody from their owner, the duo eventually learns to put aside their differences.\",\n",
              "       \"When siblings Judy and Peter discover an enchanted board game that opens the door to a magical world, they unwittingly invite Alan -- an adult who's been trapped inside the game for 26 years -- into their living room. Alan's only hope for freedom is to finish the game, which proves risky as all three find themselves running from giant rhinoceroses, evil monkeys and other terrifying creatures.\"],\n",
              "      dtype=object)"
            ]
          },
          "metadata": {},
          "execution_count": 23
        }
      ]
    },
    {
      "cell_type": "code",
      "source": [
        "# stop_words='english' -> 자주 사용되는 and or 같은 단어는 TF-IDF 로 생성해주지 않음\n",
        "transformer = TfidfVectorizer(stop_words='english')\n",
        "# fit_transform을 해서 TF-IDF변환시켜줌\n",
        "tfidf_matrix = transformer.fit_transform(df['overview'].values[:2])"
      ],
      "metadata": {
        "id": "WtOLHZ47fYsn"
      },
      "execution_count": 24,
      "outputs": []
    },
    {
      "cell_type": "code",
      "source": [
        "tfidf_matrix.toarray()"
      ],
      "metadata": {
        "colab": {
          "base_uri": "https://localhost:8080/"
        },
        "id": "hoadvyQSgZrt",
        "outputId": "06db19fb-3a0b-454b-afdd-993e05a5593d"
      },
      "execution_count": 25,
      "outputs": [
        {
          "output_type": "execute_result",
          "data": {
            "text/plain": [
              "array([[0.        , 0.        , 0.14358239, 0.        , 0.43074717,\n",
              "        0.14358239, 0.14358239, 0.        , 0.14358239, 0.43074717,\n",
              "        0.14358239, 0.        , 0.14358239, 0.        , 0.        ,\n",
              "        0.14358239, 0.        , 0.14358239, 0.        , 0.        ,\n",
              "        0.        , 0.        , 0.        , 0.14358239, 0.14358239,\n",
              "        0.        , 0.        , 0.        , 0.        , 0.14358239,\n",
              "        0.14358239, 0.14358239, 0.14358239, 0.        , 0.14358239,\n",
              "        0.        , 0.        , 0.        , 0.14358239, 0.        ,\n",
              "        0.14358239, 0.14358239, 0.        , 0.        , 0.        ,\n",
              "        0.10216005, 0.        , 0.14358239, 0.14358239, 0.        ,\n",
              "        0.        , 0.14358239, 0.        , 0.        , 0.43074717,\n",
              "        0.        , 0.        ],\n",
              "       [0.15160873, 0.15160873, 0.        , 0.30321746, 0.        ,\n",
              "        0.        , 0.        , 0.15160873, 0.        , 0.        ,\n",
              "        0.        , 0.15160873, 0.        , 0.15160873, 0.15160873,\n",
              "        0.        , 0.15160873, 0.        , 0.15160873, 0.15160873,\n",
              "        0.15160873, 0.45482618, 0.15160873, 0.        , 0.        ,\n",
              "        0.15160873, 0.15160873, 0.15160873, 0.15160873, 0.        ,\n",
              "        0.        , 0.        , 0.        , 0.15160873, 0.        ,\n",
              "        0.15160873, 0.15160873, 0.15160873, 0.        , 0.15160873,\n",
              "        0.        , 0.        , 0.15160873, 0.15160873, 0.15160873,\n",
              "        0.10787086, 0.15160873, 0.        , 0.        , 0.15160873,\n",
              "        0.15160873, 0.        , 0.15160873, 0.15160873, 0.        ,\n",
              "        0.15160873, 0.15160873]])"
            ]
          },
          "metadata": {},
          "execution_count": 25
        }
      ]
    },
    {
      "cell_type": "code",
      "source": [
        "pd.DataFrame(tfidf_matrix.toarray(), columns=transformer.get_feature_names()).T.head(10)"
      ],
      "metadata": {
        "colab": {
          "base_uri": "https://localhost:8080/",
          "height": 184
        },
        "id": "tJWYPbuxhRIR",
        "outputId": "0aa377d5-a58b-4e46-9de8-895585ef1506"
      },
      "execution_count": 26,
      "outputs": [
        {
          "output_type": "error",
          "ename": "AttributeError",
          "evalue": "ignored",
          "traceback": [
            "\u001b[0;31m---------------------------------------------------------------------------\u001b[0m",
            "\u001b[0;31mAttributeError\u001b[0m                            Traceback (most recent call last)",
            "\u001b[0;32m<ipython-input-26-e10708132ad0>\u001b[0m in \u001b[0;36m<cell line: 1>\u001b[0;34m()\u001b[0m\n\u001b[0;32m----> 1\u001b[0;31m \u001b[0mpd\u001b[0m\u001b[0;34m.\u001b[0m\u001b[0mDataFrame\u001b[0m\u001b[0;34m(\u001b[0m\u001b[0mtfidf_matrix\u001b[0m\u001b[0;34m.\u001b[0m\u001b[0mtoarray\u001b[0m\u001b[0;34m(\u001b[0m\u001b[0;34m)\u001b[0m\u001b[0;34m,\u001b[0m \u001b[0mcolumns\u001b[0m\u001b[0;34m=\u001b[0m\u001b[0mtransformer\u001b[0m\u001b[0;34m.\u001b[0m\u001b[0mget_feature_names\u001b[0m\u001b[0;34m(\u001b[0m\u001b[0;34m)\u001b[0m\u001b[0;34m)\u001b[0m\u001b[0;34m.\u001b[0m\u001b[0mT\u001b[0m\u001b[0;34m.\u001b[0m\u001b[0mhead\u001b[0m\u001b[0;34m(\u001b[0m\u001b[0;36m10\u001b[0m\u001b[0;34m)\u001b[0m\u001b[0;34m\u001b[0m\u001b[0;34m\u001b[0m\u001b[0m\n\u001b[0m",
            "\u001b[0;31mAttributeError\u001b[0m: 'TfidfVectorizer' object has no attribute 'get_feature_names'"
          ]
        }
      ]
    },
    {
      "cell_type": "code",
      "source": [
        "transformer.get_feature_names() #어떤 단어들 추출 되었는지 확인 가능함"
      ],
      "metadata": {
        "id": "DKtcxaxjgfaq"
      },
      "execution_count": null,
      "outputs": []
    },
    {
      "cell_type": "markdown",
      "source": [
        "2.2 학습"
      ],
      "metadata": {
        "id": "3G6CJb9_jJ8u"
      }
    },
    {
      "cell_type": "code",
      "source": [
        "transformer = TfidfVectorizer(stop_words='english')"
      ],
      "metadata": {
        "id": "Be9ZOy2wgsZk"
      },
      "execution_count": 28,
      "outputs": []
    },
    {
      "cell_type": "markdown",
      "source": [
        "2.3 변환"
      ],
      "metadata": {
        "id": "WPyR9EGEjYAL"
      }
    },
    {
      "cell_type": "code",
      "source": [
        "tfidf_matrix = transformer.fit_transform(df[\"overview\"])"
      ],
      "metadata": {
        "id": "76HEVAtqjFfz"
      },
      "execution_count": 29,
      "outputs": []
    },
    {
      "cell_type": "code",
      "source": [
        "tfidf_matrix.toarray()"
      ],
      "metadata": {
        "colab": {
          "base_uri": "https://localhost:8080/"
        },
        "id": "5mIosmjHjezt",
        "outputId": "c4081500-cd98-493b-ffb1-59b852d4cc56"
      },
      "execution_count": 31,
      "outputs": [
        {
          "output_type": "execute_result",
          "data": {
            "text/plain": [
              "array([[0., 0., 0., ..., 0., 0., 0.],\n",
              "       [0., 0., 0., ..., 0., 0., 0.],\n",
              "       [0., 0., 0., ..., 0., 0., 0.],\n",
              "       ...,\n",
              "       [0., 0., 0., ..., 0., 0., 0.],\n",
              "       [0., 0., 0., ..., 0., 0., 0.],\n",
              "       [0., 0., 0., ..., 0., 0., 0.]])"
            ]
          },
          "metadata": {},
          "execution_count": 31
        }
      ]
    },
    {
      "cell_type": "markdown",
      "source": [
        "키워드 확인"
      ],
      "metadata": {
        "id": "D6h_Sz4HjmP4"
      }
    },
    {
      "cell_type": "code",
      "source": [
        "transformer.get_feature_names()[-5:]"
      ],
      "metadata": {
        "colab": {
          "base_uri": "https://localhost:8080/",
          "height": 166
        },
        "id": "0uHMJJTAjhIb",
        "outputId": "3034a41c-3db1-49ab-975b-9beb9cb991b3"
      },
      "execution_count": 32,
      "outputs": [
        {
          "output_type": "error",
          "ename": "AttributeError",
          "evalue": "ignored",
          "traceback": [
            "\u001b[0;31m---------------------------------------------------------------------------\u001b[0m",
            "\u001b[0;31mAttributeError\u001b[0m                            Traceback (most recent call last)",
            "\u001b[0;32m<ipython-input-32-f8c617d57680>\u001b[0m in \u001b[0;36m<cell line: 1>\u001b[0;34m()\u001b[0m\n\u001b[0;32m----> 1\u001b[0;31m \u001b[0mtransformer\u001b[0m\u001b[0;34m.\u001b[0m\u001b[0mget_feature_names\u001b[0m\u001b[0;34m(\u001b[0m\u001b[0;34m)\u001b[0m\u001b[0;34m[\u001b[0m\u001b[0;34m-\u001b[0m\u001b[0;36m5\u001b[0m\u001b[0;34m:\u001b[0m\u001b[0;34m]\u001b[0m\u001b[0;34m\u001b[0m\u001b[0;34m\u001b[0m\u001b[0m\n\u001b[0m",
            "\u001b[0;31mAttributeError\u001b[0m: 'TfidfVectorizer' object has no attribute 'get_feature_names'"
          ]
        }
      ]
    },
    {
      "cell_type": "markdown",
      "source": [
        "# 3. 영화별 유사도 게산"
      ],
      "metadata": {
        "id": "9j3sae5AkBIL"
      }
    },
    {
      "cell_type": "markdown",
      "source": [
        "코사인 유사도를 이용해 영화별 유사도를 계산 가능"
      ],
      "metadata": {
        "id": "n81c9bjRkIVI"
      }
    },
    {
      "cell_type": "code",
      "source": [
        "from sklearn.metrics.pairwise import cosine_similarity"
      ],
      "metadata": {
        "id": "Hug4iuD8jq9N"
      },
      "execution_count": 36,
      "outputs": []
    },
    {
      "cell_type": "code",
      "source": [
        "similarity = cosine_similarity(tfidf_matrix)"
      ],
      "metadata": {
        "id": "s_6oAsEDkQmY"
      },
      "execution_count": 37,
      "outputs": []
    },
    {
      "cell_type": "code",
      "source": [
        "similarity"
      ],
      "metadata": {
        "colab": {
          "base_uri": "https://localhost:8080/"
        },
        "id": "G8e4KhFJkWVm",
        "outputId": "48aba0ac-b817-4158-9924-9d625bffdf6f"
      },
      "execution_count": 38,
      "outputs": [
        {
          "output_type": "execute_result",
          "data": {
            "text/plain": [
              "array([[1.        , 0.01570657, 0.        , ..., 0.        , 0.        ,\n",
              "        0.01234882],\n",
              "       [0.01570657, 1.        , 0.05047128, ..., 0.        , 0.01578968,\n",
              "        0.02378018],\n",
              "       [0.        , 0.05047128, 1.        , ..., 0.        , 0.        ,\n",
              "        0.        ],\n",
              "       ...,\n",
              "       [0.        , 0.        , 0.        , ..., 1.        , 0.        ,\n",
              "        0.        ],\n",
              "       [0.        , 0.01578968, 0.        , ..., 0.        , 1.        ,\n",
              "        0.        ],\n",
              "       [0.01234882, 0.02378018, 0.        , ..., 0.        , 0.        ,\n",
              "        1.        ]])"
            ]
          },
          "metadata": {},
          "execution_count": 38
        }
      ]
    },
    {
      "cell_type": "markdown",
      "source": [
        "# 4. 유사한 영화 추천"
      ],
      "metadata": {
        "id": "ArJ5czdVkwik"
      }
    },
    {
      "cell_type": "markdown",
      "source": [
        "예를 들어, 데이터 인덱스 998과 유사한 영화를 추천"
      ],
      "metadata": {
        "id": "Rg2PzPRzkyuY"
      }
    },
    {
      "cell_type": "code",
      "source": [
        "idx = 998\n",
        "print(df.loc[idx,'title'])"
      ],
      "metadata": {
        "colab": {
          "base_uri": "https://localhost:8080/"
        },
        "id": "WJ6woV3okpPj",
        "outputId": "fe9e3db0-70c0-4f5e-9845-9d38b4557c6e"
      },
      "execution_count": 39,
      "outputs": [
        {
          "output_type": "stream",
          "name": "stdout",
          "text": [
            "Robin Hood: Prince of Thieves\n"
          ]
        }
      ]
    },
    {
      "cell_type": "markdown",
      "source": [
        "위에서 계산한 similarity에서 998번째 영화와 다른 영화 사이의 유사도를 추출하고, 유사도 높은 인덱스 반환"
      ],
      "metadata": {
        "id": "6AdLWC85k9Wo"
      }
    },
    {
      "cell_type": "code",
      "source": [
        "similarity_one_idx = similarity[idx]"
      ],
      "metadata": {
        "id": "8dnRm_wFk6mQ"
      },
      "execution_count": 40,
      "outputs": []
    },
    {
      "cell_type": "code",
      "source": [
        "similarity_one_idx # 1개의 array로 이루어짐"
      ],
      "metadata": {
        "colab": {
          "base_uri": "https://localhost:8080/"
        },
        "id": "PSgxD69dlFdY",
        "outputId": "8780984b-a7c1-4fe2-c0c7-f6d5cd66d1d9"
      },
      "execution_count": 41,
      "outputs": [
        {
          "output_type": "execute_result",
          "data": {
            "text/plain": [
              "array([0.        , 0.01578968, 0.        , 0.06497967, 0.        ,\n",
              "       0.01669058, 0.        , 0.        , 0.01884548, 0.        ,\n",
              "       0.        , 0.03206453, 0.        , 0.01847308, 0.01592856,\n",
              "       0.        , 0.        , 0.        , 0.03370223, 0.        ,\n",
              "       0.        , 0.        , 0.        , 0.        , 0.        ,\n",
              "       0.05644874, 0.        , 0.00826806, 0.        , 0.        ,\n",
              "       0.        , 0.        , 0.        , 0.        , 0.        ,\n",
              "       0.        , 0.        , 0.        , 0.        , 0.        ,\n",
              "       0.        , 0.        , 0.01164103, 0.0793925 , 0.        ,\n",
              "       0.        , 0.        , 0.01173592, 0.        , 0.        ,\n",
              "       0.        , 0.        , 0.        , 0.        , 0.01950889,\n",
              "       0.        , 0.        , 0.        , 0.00772065, 0.        ,\n",
              "       0.        , 0.        , 0.00915389, 0.01540557, 0.02512398,\n",
              "       0.        , 0.        , 0.        , 0.        , 0.        ,\n",
              "       0.        , 0.01417411, 0.        , 0.        , 0.        ,\n",
              "       0.        , 0.        , 0.01186852, 0.        , 0.        ,\n",
              "       0.        , 0.01769482, 0.        , 0.        , 0.        ,\n",
              "       0.        , 0.        , 0.        , 0.        , 0.        ,\n",
              "       0.        , 0.        , 0.        , 0.        , 0.        ,\n",
              "       0.0152031 , 0.        , 0.        , 0.        , 0.05413418,\n",
              "       0.        , 0.        , 0.        , 0.        , 0.        ,\n",
              "       0.        , 0.        , 0.        , 0.        , 0.        ,\n",
              "       0.        , 0.        , 0.        , 0.        , 0.        ,\n",
              "       0.        , 0.        , 0.0119694 , 0.        , 0.        ,\n",
              "       0.        , 0.        , 0.        , 0.00869897, 0.        ,\n",
              "       0.        , 0.        , 0.        , 0.01517327, 0.        ,\n",
              "       0.        , 0.        , 0.01612569, 0.01776474, 0.        ,\n",
              "       0.02801106, 0.        , 0.        , 0.        , 0.        ,\n",
              "       0.        , 0.        , 0.        , 0.        , 0.        ,\n",
              "       0.        , 0.        , 0.02424074, 0.06059288, 0.        ,\n",
              "       0.07041534, 0.        , 0.        , 0.        , 0.        ,\n",
              "       0.00639417, 0.        , 0.        , 0.        , 0.        ,\n",
              "       0.        , 0.        , 0.        , 0.        , 0.        ,\n",
              "       0.        , 0.        , 0.01671086, 0.        , 0.        ,\n",
              "       0.        , 0.        , 0.        , 0.        , 0.        ,\n",
              "       0.        , 0.        , 0.        , 0.02098685, 0.        ,\n",
              "       0.        , 0.05835958, 0.        , 0.        , 0.        ,\n",
              "       0.02736183, 0.        , 0.        , 0.01099379, 0.        ,\n",
              "       0.        , 0.00822631, 0.        , 0.        , 0.        ,\n",
              "       0.        , 0.        , 0.        , 0.00524037, 0.        ,\n",
              "       0.        , 0.        , 0.        , 0.        , 0.        ,\n",
              "       0.        , 0.00837443, 0.04020249, 0.        , 0.        ,\n",
              "       0.        , 0.        , 0.        , 0.01176218, 0.        ,\n",
              "       0.11132041, 0.        , 0.        , 0.        , 0.        ,\n",
              "       0.        , 0.        , 0.        , 0.01473006, 0.        ,\n",
              "       0.        , 0.        , 0.        , 0.        , 0.        ,\n",
              "       0.        , 0.05384603, 0.        , 0.01211301, 0.01514762,\n",
              "       0.        , 0.        , 0.01342705, 0.        , 0.        ,\n",
              "       0.02365783, 0.05146944, 0.        , 0.01967789, 0.        ,\n",
              "       0.03486745, 0.        , 0.        , 0.        , 0.        ,\n",
              "       0.        , 0.        , 0.        , 0.        , 0.01501126,\n",
              "       0.        , 0.03851636, 0.01256781, 0.01109536, 0.01398671,\n",
              "       0.        , 0.        , 0.01753674, 0.        , 0.02345685,\n",
              "       0.        , 0.        , 0.        , 0.0194862 , 0.        ,\n",
              "       0.04002726, 0.        , 0.01099413, 0.        , 0.        ,\n",
              "       0.        , 0.        , 0.        , 0.        , 0.        ,\n",
              "       0.        , 0.        , 0.01651403, 0.        , 0.        ,\n",
              "       0.        , 0.        , 0.        , 0.        , 0.        ,\n",
              "       0.        , 0.        , 0.        , 0.        , 0.        ,\n",
              "       0.02032888, 0.        , 0.        , 0.        , 0.        ,\n",
              "       0.        , 0.        , 0.        , 0.        , 0.        ,\n",
              "       0.00946424, 0.        , 0.        , 0.        , 0.0158847 ,\n",
              "       0.        , 0.        , 0.        , 0.01000112, 0.        ,\n",
              "       0.        , 0.0178049 , 0.        , 0.        , 0.03511464,\n",
              "       0.        , 0.        , 0.        , 0.        , 0.        ,\n",
              "       0.        , 0.        , 0.        , 0.        , 0.        ,\n",
              "       0.        , 0.04240914, 0.        , 0.        , 0.        ,\n",
              "       0.        , 0.        , 0.        , 0.        , 0.        ,\n",
              "       0.        , 0.        , 0.        , 0.        , 0.        ,\n",
              "       0.        , 0.00843146, 0.        , 0.        , 0.        ,\n",
              "       0.        , 0.        , 0.        , 0.        , 0.        ,\n",
              "       0.01382489, 0.        , 0.        , 0.        , 0.        ,\n",
              "       0.        , 0.        , 0.        , 0.04388515, 0.        ,\n",
              "       0.        , 0.        , 0.        , 0.        , 0.        ,\n",
              "       0.        , 0.        , 0.01706231, 0.        , 0.        ,\n",
              "       0.        , 0.        , 0.        , 0.        , 0.        ,\n",
              "       0.        , 0.        , 0.        , 0.        , 0.        ,\n",
              "       0.        , 0.        , 0.0151423 , 0.        , 0.        ,\n",
              "       0.        , 0.        , 0.06407017, 0.        , 0.        ,\n",
              "       0.        , 0.        , 0.        , 0.        , 0.        ,\n",
              "       0.03411649, 0.03560975, 0.02878795, 0.        , 0.        ,\n",
              "       0.        , 0.        , 0.        , 0.02574748, 0.        ,\n",
              "       0.        , 0.        , 0.0198376 , 0.        , 0.        ,\n",
              "       0.        , 0.        , 0.        , 0.        , 0.        ,\n",
              "       0.        , 0.        , 0.        , 0.01322222, 0.        ,\n",
              "       0.        , 0.        , 0.00987222, 0.        , 0.        ,\n",
              "       0.        , 0.        , 0.        , 0.        , 0.        ,\n",
              "       0.        , 0.        , 0.        , 0.        , 0.        ,\n",
              "       0.        , 0.        , 0.        , 0.        , 0.        ,\n",
              "       0.        , 0.02472011, 0.04114273, 0.        , 0.        ,\n",
              "       0.        , 0.0081456 , 0.        , 0.        , 0.        ,\n",
              "       0.01380406, 0.        , 0.        , 0.        , 0.02957265,\n",
              "       0.        , 0.02127884, 0.        , 0.        , 0.        ,\n",
              "       0.        , 0.        , 0.00895249, 0.        , 0.        ,\n",
              "       0.01981854, 0.        , 0.        , 0.        , 0.        ,\n",
              "       0.        , 0.        , 0.        , 0.01097646, 0.        ,\n",
              "       0.        , 0.        , 0.        , 0.        , 0.02232001,\n",
              "       0.        , 0.01386401, 0.        , 0.        , 0.        ,\n",
              "       0.        , 0.        , 0.        , 0.        , 0.        ,\n",
              "       0.        , 0.        , 0.        , 0.        , 0.        ,\n",
              "       0.        , 0.        , 0.        , 0.02875204, 0.        ,\n",
              "       0.        , 0.        , 0.        , 0.        , 0.        ,\n",
              "       0.        , 0.        , 0.        , 0.0270031 , 0.01378679,\n",
              "       0.26607664, 0.        , 0.03801812, 0.        , 0.        ,\n",
              "       0.        , 0.        , 0.        , 0.        , 0.        ,\n",
              "       0.        , 0.        , 0.        , 0.        , 0.        ,\n",
              "       0.        , 0.        , 0.        , 0.        , 0.        ,\n",
              "       0.        , 0.        , 0.        , 0.        , 0.00911484,\n",
              "       0.        , 0.        , 0.        , 0.        , 0.        ,\n",
              "       0.        , 0.        , 0.01927437, 0.04982011, 0.        ,\n",
              "       0.        , 0.        , 0.        , 0.        , 0.        ,\n",
              "       0.        , 0.        , 0.        , 0.        , 0.        ,\n",
              "       0.        , 0.        , 0.        , 0.        , 0.0197906 ,\n",
              "       0.        , 0.        , 0.        , 0.        , 0.        ,\n",
              "       0.        , 0.        , 0.        , 0.        , 0.        ,\n",
              "       0.01142275, 0.        , 0.        , 0.        , 0.        ,\n",
              "       0.        , 0.01797181, 0.        , 0.        , 0.        ,\n",
              "       0.        , 0.        , 0.        , 0.        , 0.        ,\n",
              "       0.        , 0.        , 0.        , 0.        , 0.0276468 ,\n",
              "       0.        , 0.        , 0.01873489, 0.08844653, 0.        ,\n",
              "       0.00813271, 0.        , 0.        , 0.        , 0.        ,\n",
              "       0.        , 0.        , 0.        , 0.        , 0.        ,\n",
              "       0.        , 0.        , 0.        , 0.        , 0.00870725,\n",
              "       0.        , 0.        , 0.        , 0.        , 0.        ,\n",
              "       0.        , 0.02894266, 0.        , 0.01846116, 0.        ,\n",
              "       0.        , 0.        , 0.        , 0.02564093, 0.00869828,\n",
              "       0.        , 0.        , 0.        , 0.00785484, 0.        ,\n",
              "       0.        , 0.        , 0.        , 0.        , 0.        ,\n",
              "       0.        , 0.        , 0.02260091, 0.        , 0.        ,\n",
              "       0.        , 0.        , 0.01505703, 0.03221017, 0.        ,\n",
              "       0.        , 0.        , 0.        , 0.        , 0.        ,\n",
              "       0.        , 0.        , 0.        , 0.00637453, 0.        ,\n",
              "       0.03473368, 0.        , 0.        , 0.02518565, 0.        ,\n",
              "       0.        , 0.        , 0.01536493, 0.02545115, 0.        ,\n",
              "       0.02309283, 0.02020806, 0.        , 0.        , 0.        ,\n",
              "       0.06785722, 0.        , 0.        , 0.        , 0.        ,\n",
              "       0.        , 0.        , 0.        , 0.        , 0.        ,\n",
              "       0.        , 0.        , 0.00688134, 0.        , 0.        ,\n",
              "       0.        , 0.        , 0.        , 0.        , 0.        ,\n",
              "       0.03126034, 0.01472463, 0.        , 0.        , 0.        ,\n",
              "       0.        , 0.        , 0.        , 0.        , 0.        ,\n",
              "       0.        , 0.        , 0.        , 0.        , 0.        ,\n",
              "       0.        , 0.        , 0.        , 0.        , 0.        ,\n",
              "       0.00855012, 0.        , 0.        , 0.02407142, 0.        ,\n",
              "       0.        , 0.        , 0.        , 0.        , 0.        ,\n",
              "       0.04583645, 0.        , 0.        , 0.        , 0.        ,\n",
              "       0.        , 0.        , 0.01339027, 0.00802261, 0.        ,\n",
              "       0.00643895, 0.        , 0.01695788, 0.        , 0.        ,\n",
              "       0.        , 0.        , 0.0215564 , 0.        , 0.        ,\n",
              "       0.        , 0.        , 0.        , 0.        , 0.        ,\n",
              "       0.        , 0.        , 0.        , 0.        , 0.        ,\n",
              "       0.        , 0.        , 0.        , 0.        , 0.        ,\n",
              "       0.        , 0.        , 0.        , 0.02005841, 0.01201996,\n",
              "       0.        , 0.        , 0.        , 0.01792882, 0.00936419,\n",
              "       0.        , 0.01346705, 0.        , 0.00773448, 0.        ,\n",
              "       0.        , 0.        , 0.01776927, 0.01816191, 0.09980051,\n",
              "       0.        , 0.        , 0.        , 0.00927526, 0.        ,\n",
              "       0.        , 0.        , 0.00895676, 0.        , 0.        ,\n",
              "       0.02753823, 0.01504103, 0.        , 0.        , 0.        ,\n",
              "       0.        , 0.        , 0.02075445, 0.        , 0.        ,\n",
              "       0.        , 0.        , 0.        , 0.        , 0.03984042,\n",
              "       0.        , 0.        , 0.03633923, 0.        , 0.        ,\n",
              "       0.        , 0.        , 0.        , 0.        , 0.        ,\n",
              "       0.        , 0.        , 0.        , 0.        , 0.        ,\n",
              "       0.        , 0.        , 0.        , 0.0260668 , 0.        ,\n",
              "       0.        , 0.        , 0.        , 0.        , 0.01941334,\n",
              "       0.        , 0.        , 0.        , 0.00927745, 0.        ,\n",
              "       0.        , 0.        , 0.        , 0.        , 0.        ,\n",
              "       0.        , 0.01936667, 0.        , 0.        , 0.        ,\n",
              "       0.        , 0.        , 0.        , 0.        , 0.        ,\n",
              "       0.        , 0.        , 0.00471633, 0.02568493, 0.        ,\n",
              "       0.        , 0.        , 0.02117709, 0.        , 0.        ,\n",
              "       0.        , 0.        , 0.        , 0.        , 0.01434157,\n",
              "       0.        , 0.        , 0.01780399, 0.        , 0.01387091,\n",
              "       0.        , 0.        , 0.        , 0.        , 0.        ,\n",
              "       0.        , 0.        , 0.        , 0.01560788, 0.        ,\n",
              "       0.        , 0.        , 0.        , 0.02589824, 0.        ,\n",
              "       0.        , 0.        , 0.        , 0.        , 0.        ,\n",
              "       0.01899623, 0.        , 0.        , 0.        , 0.        ,\n",
              "       0.        , 0.        , 0.        , 0.        , 0.        ,\n",
              "       0.        , 0.        , 0.        , 0.02804803, 0.01670449,\n",
              "       0.        , 0.        , 0.01510184, 0.        , 0.        ,\n",
              "       0.        , 0.        , 0.0055799 , 0.18090754, 0.        ,\n",
              "       0.        , 0.        , 0.        , 0.        , 0.        ,\n",
              "       0.        , 0.        , 0.01177562, 0.01494468, 0.        ,\n",
              "       0.        , 0.00775335, 0.        , 0.        , 0.        ,\n",
              "       0.        , 0.        , 0.        , 0.00760315, 0.        ,\n",
              "       0.        , 0.        , 0.        , 0.        , 0.        ,\n",
              "       0.03670866, 0.        , 0.        , 0.        , 0.02551117,\n",
              "       0.        , 0.        , 0.        , 0.        , 0.        ,\n",
              "       0.        , 0.        , 0.        , 0.02421753, 0.        ,\n",
              "       0.        , 0.        , 0.        , 0.00829497, 0.        ,\n",
              "       0.        , 0.        , 0.        , 0.        , 0.        ,\n",
              "       0.        , 0.        , 0.        , 0.        , 0.        ,\n",
              "       0.        , 0.02770051, 0.        , 0.        , 0.        ,\n",
              "       0.02740271, 0.        , 0.03437005, 0.02728716, 0.        ,\n",
              "       0.01289044, 0.        , 0.        , 0.01225888, 0.        ,\n",
              "       0.        , 0.        , 0.        , 0.04072749, 0.        ,\n",
              "       0.        , 0.        , 0.0100086 , 0.        , 0.        ,\n",
              "       0.        , 0.        , 0.        , 1.        , 0.        ])"
            ]
          },
          "metadata": {},
          "execution_count": 41
        }
      ]
    },
    {
      "cell_type": "markdown",
      "source": [
        "1. `argsort`는 값을 오름차순으로 정렬할때 해당하는 인덱스를 반환합니다.\n",
        "2. `argsort`에 역순을 취해 가장 유사한 인덱스가 앞으로 오도록 정렬합니다.\n"
      ],
      "metadata": {
        "id": "S9pEI4AElTyh"
      }
    },
    {
      "cell_type": "code",
      "source": [
        "order_idx = similarity_one_idx.argsort()[::-1] # -1을 주어서 역순 반환??"
      ],
      "metadata": {
        "id": "9qrVI3MXlKNp"
      },
      "execution_count": 46,
      "outputs": []
    },
    {
      "cell_type": "markdown",
      "source": [],
      "metadata": {
        "id": "ZdgELKqmlrTu"
      }
    },
    {
      "cell_type": "code",
      "source": [
        "order_idx[:100]"
      ],
      "metadata": {
        "colab": {
          "base_uri": "https://localhost:8080/"
        },
        "id": "RErDodJslfib",
        "outputId": "f10c0153-7091-4103-c971-601fdf63b584"
      },
      "execution_count": 47,
      "outputs": [
        {
          "output_type": "execute_result",
          "data": {
            "text/plain": [
              "array([998, 515, 913, 215, 779, 598,  43, 150, 675,   3, 392, 148, 181,\n",
              "        25,  99, 231, 241, 548, 725, 363, 331, 447, 988, 207, 270, 804,\n",
              "       256, 517, 940, 807, 401, 319, 245, 660, 977, 400,  18, 648,  11,\n",
              "       695, 459, 621, 402, 503, 903, 135, 971, 594, 790, 975, 185, 978,\n",
              "       513, 823, 883, 408, 853, 628, 944, 668, 663,  64, 446, 147, 953,\n",
              "       718, 240, 264, 670, 642, 484, 742, 461, 857, 178, 797, 295, 671,\n",
              "       763, 412, 470, 564, 243,  54, 268, 829, 841, 547, 890,   8, 597,\n",
              "        13, 623, 778, 581, 768, 316, 867, 777, 133])"
            ]
          },
          "metadata": {},
          "execution_count": 47
        }
      ]
    },
    {
      "cell_type": "markdown",
      "source": [
        "자기 자신을 뺀 유사도가 가장 높고 이후 유사한 영화의 인덱스를 얻습니다."
      ],
      "metadata": {
        "id": "rSzw1Da1l39G"
      }
    },
    {
      "cell_type": "code",
      "source": [
        "top5 = order_idx[:6]\n",
        "top5"
      ],
      "metadata": {
        "colab": {
          "base_uri": "https://localhost:8080/"
        },
        "id": "GlHoqF1_lkNk",
        "outputId": "7e0b4a3e-5d77-45ee-94fe-b988fde4c4af"
      },
      "execution_count": 48,
      "outputs": [
        {
          "output_type": "execute_result",
          "data": {
            "text/plain": [
              "array([998, 515, 913, 215, 779, 598])"
            ]
          },
          "metadata": {},
          "execution_count": 48
        }
      ]
    },
    {
      "cell_type": "markdown",
      "source": [
        "기존 데이터에서 각 인덱스에 해당하는 영화의 제목은 다음과 같습니다.\n",
        "\n",
        "\"Robin Hood: Prince of Thieves\"와 유사한 \"Robin Hood\" 영화가 추천되는 것을 확인할 수 있습니다."
      ],
      "metadata": {
        "id": "uNbjS4trmIK4"
      }
    },
    {
      "cell_type": "code",
      "source": [
        "df.loc[top5,'title']"
      ],
      "metadata": {
        "colab": {
          "base_uri": "https://localhost:8080/"
        },
        "id": "GKsErkzZmCdT",
        "outputId": "501a6a48-21e4-4b01-867d-340c26797600"
      },
      "execution_count": 49,
      "outputs": [
        {
          "output_type": "execute_result",
          "data": {
            "text/plain": [
              "998      Robin Hood: Prince of Thieves\n",
              "515          Robin Hood: Men in Tights\n",
              "913       The Adventures of Robin Hood\n",
              "215                   Boys on the Side\n",
              "779                          Lone Star\n",
              "598    Candyman: Farewell to the Flesh\n",
              "Name: title, dtype: object"
            ]
          },
          "metadata": {},
          "execution_count": 49
        }
      ]
    }
  ]
}