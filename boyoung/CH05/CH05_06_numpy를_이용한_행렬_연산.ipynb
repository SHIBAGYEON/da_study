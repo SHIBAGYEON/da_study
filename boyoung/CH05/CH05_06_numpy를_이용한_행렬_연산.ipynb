{
  "nbformat": 4,
  "nbformat_minor": 0,
  "metadata": {
    "colab": {
      "provenance": []
    },
    "kernelspec": {
      "name": "python3",
      "display_name": "Python 3"
    },
    "language_info": {
      "name": "python"
    }
  },
  "cells": [
    {
      "cell_type": "markdown",
      "source": [
        "# **numpy를 이용한 행렬 연산**"
      ],
      "metadata": {
        "id": "MWAV01MXfvMr"
      }
    },
    {
      "cell_type": "markdown",
      "source": [
        "- 행렬 생성\n",
        "\n"
      ],
      "metadata": {
        "id": "ZcZcsbD3gB6T"
      }
    },
    {
      "cell_type": "code",
      "execution_count": 5,
      "metadata": {
        "id": "QtpanfSYfqGJ"
      },
      "outputs": [],
      "source": [
        "import numpy as np"
      ]
    },
    {
      "cell_type": "code",
      "source": [
        "a = np.array([[1, 2], [3, 4]])"
      ],
      "metadata": {
        "id": "yOWDZuVShPdF"
      },
      "execution_count": 6,
      "outputs": []
    },
    {
      "cell_type": "markdown",
      "source": [],
      "metadata": {
        "id": "YTRbX9okh6oz"
      }
    },
    {
      "cell_type": "code",
      "source": [
        "# 전치 행령(행과 열을 바꿈)\n",
        "\n",
        "a = np.array([[1,2,3], [4,5,6]])\n",
        "print(a.T) # 전체 행렬 출력\n",
        " "
      ],
      "metadata": {
        "colab": {
          "base_uri": "https://localhost:8080/"
        },
        "id": "ymgXzJn5hc0z",
        "outputId": "294c87ad-9df9-432e-abbc-801860eaec60"
      },
      "execution_count": 7,
      "outputs": [
        {
          "output_type": "stream",
          "name": "stdout",
          "text": [
            "[[1 4]\n",
            " [2 5]\n",
            " [3 6]]\n"
          ]
        }
      ]
    },
    {
      "cell_type": "code",
      "source": [
        "# 행렬 차원 확인\n",
        "a = np.array([[1,2,3],[4,5,6]])\n",
        "print(a.shape) # 2행 3열"
      ],
      "metadata": {
        "colab": {
          "base_uri": "https://localhost:8080/"
        },
        "id": "PjD83IbwiV2b",
        "outputId": "9ef2a517-ebf9-4859-b267-725fe2978d83"
      },
      "execution_count": 9,
      "outputs": [
        {
          "output_type": "stream",
          "name": "stdout",
          "text": [
            "(2, 3)\n"
          ]
        }
      ]
    },
    {
      "cell_type": "code",
      "source": [
        "# 행렬 형태 변경\n",
        "a = np.array([[1,2,3],[4,5,6]])\n",
        "b = np.reshape(a, (3,2)) # \n",
        "\n",
        "print(b.shape)\n",
        "print(b)"
      ],
      "metadata": {
        "colab": {
          "base_uri": "https://localhost:8080/"
        },
        "id": "bNrPbwYIisjJ",
        "outputId": "df07ec65-8f9f-46fa-b2b3-83e517bdabaf"
      },
      "execution_count": 12,
      "outputs": [
        {
          "output_type": "stream",
          "name": "stdout",
          "text": [
            "(3, 2)\n",
            "[[1 2]\n",
            " [3 4]\n",
            " [5 6]]\n"
          ]
        }
      ]
    },
    {
      "cell_type": "code",
      "source": [
        "# 배열간 사칙연산\n",
        "# 행렬의 형태가 다른경우에는 불가\n",
        "\n",
        "a = np.array([[1,2,3], [4,5,6]])\n",
        "b = np.array([[2,3,4], [5,6,7]])\n",
        "\n",
        "print(a+b)\n",
        "print(a+3)"
      ],
      "metadata": {
        "colab": {
          "base_uri": "https://localhost:8080/"
        },
        "id": "1v7vOn6EjAAu",
        "outputId": "ee52561f-681c-4afa-8ddc-9d0c1bb0f78f"
      },
      "execution_count": 15,
      "outputs": [
        {
          "output_type": "stream",
          "name": "stdout",
          "text": [
            "[[ 3  5  7]\n",
            " [ 9 11 13]]\n",
            "[[4 5 6]\n",
            " [7 8 9]]\n"
          ]
        }
      ]
    },
    {
      "cell_type": "code",
      "source": [
        "print(a-b)\n",
        "print(a-2)"
      ],
      "metadata": {
        "colab": {
          "base_uri": "https://localhost:8080/"
        },
        "id": "ZdQPLjhOja17",
        "outputId": "766606b3-5af1-424d-ac14-0730440ad888"
      },
      "execution_count": 16,
      "outputs": [
        {
          "output_type": "stream",
          "name": "stdout",
          "text": [
            "[[-1 -1 -1]\n",
            " [-1 -1 -1]]\n",
            "[[-1  0  1]\n",
            " [ 2  3  4]]\n"
          ]
        }
      ]
    },
    {
      "cell_type": "code",
      "source": [
        "print(a * b)\n",
        "print(a * 2)"
      ],
      "metadata": {
        "colab": {
          "base_uri": "https://localhost:8080/"
        },
        "id": "Ju5bM0zFjw9Z",
        "outputId": "9e80f244-644f-4130-d8d7-ed5405376f17"
      },
      "execution_count": 17,
      "outputs": [
        {
          "output_type": "stream",
          "name": "stdout",
          "text": [
            "[[ 2  6 12]\n",
            " [20 30 42]]\n",
            "[[ 2  4  6]\n",
            " [ 8 10 12]]\n"
          ]
        }
      ]
    },
    {
      "cell_type": "code",
      "source": [
        "print(a/b)\n",
        "print(a/2)"
      ],
      "metadata": {
        "colab": {
          "base_uri": "https://localhost:8080/"
        },
        "id": "pXVjELtXj3BP",
        "outputId": "f0789ba3-1e4a-4e4b-eaef-de188be8e246"
      },
      "execution_count": 18,
      "outputs": [
        {
          "output_type": "stream",
          "name": "stdout",
          "text": [
            "[[0.5        0.66666667 0.75      ]\n",
            " [0.8        0.83333333 0.85714286]]\n",
            "[[0.5 1.  1.5]\n",
            " [2.  2.5 3. ]]\n"
          ]
        }
      ]
    },
    {
      "cell_type": "code",
      "source": [
        "# 행렬의 곱셈(cnn, 이미지처리시 자주 사용)\n",
        "a = np.array([1,2,3])\n",
        "b = np.array([4,5,6])\n",
        "\n",
        "print(np.dot(a,b)) "
      ],
      "metadata": {
        "colab": {
          "base_uri": "https://localhost:8080/"
        },
        "id": "q0f2w3Z4j66L",
        "outputId": "7ecdd8ae-043f-47d3-be9f-a059ac5adfc9"
      },
      "execution_count": 19,
      "outputs": [
        {
          "output_type": "stream",
          "name": "stdout",
          "text": [
            "32\n"
          ]
        }
      ]
    },
    {
      "cell_type": "code",
      "source": [
        "a = np.array([[1,2,3], \n",
        "              [4,5,6]])\n",
        "b = np.array([[1,2],\n",
        "              [3,4],\n",
        "              [5,6]])\n",
        "\n",
        "print(np.dot(a,b))"
      ],
      "metadata": {
        "colab": {
          "base_uri": "https://localhost:8080/"
        },
        "id": "JHvGpw8jkNnz",
        "outputId": "913eedea-b434-42b1-f83a-cad362e5d629"
      },
      "execution_count": 20,
      "outputs": [
        {
          "output_type": "stream",
          "name": "stdout",
          "text": [
            "[[22 28]\n",
            " [49 64]]\n"
          ]
        }
      ]
    },
    {
      "cell_type": "code",
      "source": [],
      "metadata": {
        "id": "C3UqofSYkyux"
      },
      "execution_count": null,
      "outputs": []
    }
  ]
}