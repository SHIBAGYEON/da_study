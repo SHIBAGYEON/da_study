{
  "nbformat": 4,
  "nbformat_minor": 0,
  "metadata": {
    "colab": {
      "provenance": []
    },
    "kernelspec": {
      "name": "python3",
      "display_name": "Python 3"
    },
    "language_info": {
      "name": "python"
    }
  },
  "cells": [
    {
      "cell_type": "markdown",
      "source": [
        "# **다양한 머신러닝 기법**"
      ],
      "metadata": {
        "id": "2v4of5wEaEWl"
      }
    },
    {
      "cell_type": "markdown",
      "source": [
        "- 데이터 생성"
      ],
      "metadata": {
        "id": "XLbrFWwDaHzs"
      }
    },
    {
      "cell_type": "code",
      "execution_count": 4,
      "metadata": {
        "colab": {
          "base_uri": "https://localhost:8080/"
        },
        "id": "U-scjE1FZ5lj",
        "outputId": "e4af3efa-dd5a-4776-cc8b-3d4740a1ff29"
      },
      "outputs": [
        {
          "output_type": "stream",
          "name": "stderr",
          "text": [
            "/usr/local/lib/python3.7/dist-packages/ipykernel_launcher.py:13: FutureWarning: Dropping of nuisance columns in DataFrame reductions (with 'numeric_only=None') is deprecated; in a future version this will raise TypeError.  Select only valid columns before calling the reduction.\n",
            "  del sys.path[0]\n",
            "/usr/local/lib/python3.7/dist-packages/ipykernel_launcher.py:14: FutureWarning: Dropping of nuisance columns in DataFrame reductions (with 'numeric_only=None') is deprecated; in a future version this will raise TypeError.  Select only valid columns before calling the reduction.\n",
            "  \n"
          ]
        }
      ],
      "source": [
        "import seaborn as sns\n",
        "import pandas as pd\n",
        "\n",
        "df = sns.load_dataset('titanic')\n",
        "\n",
        "train_df = df[:800]\n",
        "test_df = df[800:]\n",
        "\n",
        "names = train_df.columns\n",
        "train_df = train_df.drop(names[4:], axis = 1)\n",
        "test_df = test_df.drop(names[4:], axis = 1)\n",
        "\n",
        "train_df.fillna(train_df.mean()['age'], inplace = True)\n",
        "test_df.fillna(test_df.mean()['age'], inplace = True)\n",
        "\n",
        "map_dict = {'female':0, 'male':1}\n",
        "\n",
        "train_df['sex'] = train_df['sex'].map(map_dict).astype(int)\n",
        "test_df['sex'] = test_df['sex'].map(map_dict).astype(int)\n",
        "\n",
        "def function1(x):\n",
        "  if x < 20:\n",
        "    return 1\n",
        "  elif x < 40:\n",
        "    return 2\n",
        "  elif x < 60:\n",
        "    return 3\n",
        "  else:\n",
        "    return 4\n",
        "\n",
        "train_df['age'] = train_df['age'].apply(function1)\n",
        "test_df['age'] = test_df['age'].apply(function1)\n",
        "\n",
        "X_train = train_df.drop(['survived'], axis = 1)\n",
        "Y_train = train_df['survived']\n",
        "X_test = test_df.drop(['survived'], axis = 1)\n",
        "Y_test = test_df['survived']"
      ]
    },
    {
      "cell_type": "code",
      "source": [
        "# 결정나무\n",
        "from sklearn.tree import DecisionTreeClassifier\n",
        "\n",
        "decision_tree = DecisionTreeClassifier()\n",
        "decision_tree.fit(X_train, Y_train)\n",
        "\n",
        "print(decision_tree.score(X_train, Y_train))\n",
        "print(decision_tree.score(X_test, Y_test))"
      ],
      "metadata": {
        "colab": {
          "base_uri": "https://localhost:8080/"
        },
        "id": "7yxaZ499aW2d",
        "outputId": "4d72147b-06d9-4f7c-eead-c6413b008e2c"
      },
      "execution_count": 6,
      "outputs": [
        {
          "output_type": "stream",
          "name": "stdout",
          "text": [
            "0.8\n",
            "0.7692307692307693\n"
          ]
        }
      ]
    },
    {
      "cell_type": "code",
      "source": [
        "# 배깅(렌덤 포레스트)\n",
        "# 특정 데이터내에서 몇개만 샘플로 뽑아서 각각 모델을 돌려서 최종 평균값 도출\n",
        "\n",
        "from sklearn.ensemble import RandomForestClassifier\n",
        "# n_estimators = 100 모델의 개수 구현해서 1개로 더함\n",
        "random_forest = RandomForestClassifier(n_estimators = 100) \n",
        "random_forest.fit(X_train, Y_train)\n",
        "print(random_forest.score(X_train, Y_train))\n",
        "print(random_forest.score(X_test, Y_test))"
      ],
      "metadata": {
        "colab": {
          "base_uri": "https://localhost:8080/"
        },
        "id": "_0546aLvaOvJ",
        "outputId": "123ac7f8-dcc7-469a-97c2-d5c4053f9b83"
      },
      "execution_count": 7,
      "outputs": [
        {
          "output_type": "stream",
          "name": "stdout",
          "text": [
            "0.8\n",
            "0.7802197802197802\n"
          ]
        }
      ]
    },
    {
      "cell_type": "code",
      "source": [
        "# 부스팅(xgboost)\n",
        "# 데이터를 가지고 모델을 생성 >  결점 보안해서 새로운 모델 만들면서 단점 줄임\n",
        "# 가장 많이쓰이는 머신러닝 기법\n",
        "import xgboost as xgb\n",
        "boosting_model = xgb.XGBClassifier(n_estimators = 100) # 모델 생성\n",
        "boosting_model.fit(X_train, Y_train) # 학습\n",
        "print(boosting_model.score(X_train, Y_train))\n",
        "print(boosting_model.score(X_test, Y_test))"
      ],
      "metadata": {
        "colab": {
          "base_uri": "https://localhost:8080/"
        },
        "id": "1RBuHmm0doUz",
        "outputId": "e3f6371b-c180-4c7a-b3c2-f16424544459"
      },
      "execution_count": 8,
      "outputs": [
        {
          "output_type": "stream",
          "name": "stdout",
          "text": [
            "0.79875\n",
            "0.7802197802197802\n"
          ]
        }
      ]
    },
    {
      "cell_type": "code",
      "source": [],
      "metadata": {
        "id": "JvEywvRVfX4N"
      },
      "execution_count": null,
      "outputs": []
    },
    {
      "cell_type": "code",
      "source": [],
      "metadata": {
        "id": "Rw3rMzZQfoQK"
      },
      "execution_count": null,
      "outputs": []
    }
  ]
}