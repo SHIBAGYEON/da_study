{
  "nbformat": 4,
  "nbformat_minor": 0,
  "metadata": {
    "colab": {
      "provenance": []
    },
    "kernelspec": {
      "name": "python3",
      "display_name": "Python 3"
    },
    "language_info": {
      "name": "python"
    }
  },
  "cells": [
    {
      "cell_type": "markdown",
      "source": [
        "1.1 Data Load\n",
        "\n",
        "sms_spam.scv 데이터는 문자 내용이 스팸인지 아닌지를 구분하기 위한 데이터임"
      ],
      "metadata": {
        "id": "qBVqRAf5hw4c"
      }
    },
    {
      "cell_type": "code",
      "source": [
        "import pandas as pd\n",
        "import numpy as np\n",
        "import matplotlib.pyplot as plt\n",
        "\n",
        "np.random.seed(2021)"
      ],
      "metadata": {
        "id": "3m9eA8GviNK6"
      },
      "execution_count": 63,
      "outputs": []
    },
    {
      "cell_type": "code",
      "source": [
        "from google.colab import drive\n",
        "drive.mount('/content/drive')"
      ],
      "metadata": {
        "colab": {
          "base_uri": "https://localhost:8080/"
        },
        "id": "HnTLuGuAjsTl",
        "outputId": "dde4b6d3-3149-43f1-9bcc-5d3bb1eb51f9"
      },
      "execution_count": 64,
      "outputs": [
        {
          "output_type": "stream",
          "name": "stdout",
          "text": [
            "Mounted at /content/drive\n"
          ]
        }
      ]
    },
    {
      "cell_type": "code",
      "execution_count": 65,
      "metadata": {
        "id": "7xO-cs90hic5"
      },
      "outputs": [],
      "source": [
        "spam = pd.read_csv(\"sms_spam.csv\")"
      ]
    },
    {
      "cell_type": "code",
      "source": [
        "text = spam[\"text\"]\n",
        "label = spam[\"type\"]"
      ],
      "metadata": {
        "id": "mIdePqrTiAoc"
      },
      "execution_count": 66,
      "outputs": []
    },
    {
      "cell_type": "markdown",
      "source": [
        "1.2 Data EDA"
      ],
      "metadata": {
        "id": "eFBITSAwj9Yd"
      }
    },
    {
      "cell_type": "code",
      "source": [
        "text[0]"
      ],
      "metadata": {
        "colab": {
          "base_uri": "https://localhost:8080/",
          "height": 54
        },
        "id": "M8E_qp6oj1nT",
        "outputId": "8fa69ff3-eed6-430d-a070-053c708d5ff3"
      },
      "execution_count": 67,
      "outputs": [
        {
          "output_type": "execute_result",
          "data": {
            "text/plain": [
              "'Go until jurong point, crazy.. Available only in bugis n great world la e buffet... Cine there got amore wat...'"
            ],
            "application/vnd.google.colaboratory.intrinsic+json": {
              "type": "string"
            }
          },
          "metadata": {},
          "execution_count": 67
        }
      ]
    },
    {
      "cell_type": "code",
      "source": [
        "label[0]\n",
        "# ham = 스팸이 아니다\n",
        "# spam = 스팸 이다"
      ],
      "metadata": {
        "colab": {
          "base_uri": "https://localhost:8080/",
          "height": 36
        },
        "id": "k4vlZDeIjt8m",
        "outputId": "7776543c-2c0b-47d8-e270-73952bce2e8f"
      },
      "execution_count": 68,
      "outputs": [
        {
          "output_type": "execute_result",
          "data": {
            "text/plain": [
              "'ham'"
            ],
            "application/vnd.google.colaboratory.intrinsic+json": {
              "type": "string"
            }
          },
          "metadata": {},
          "execution_count": 68
        }
      ]
    },
    {
      "cell_type": "code",
      "source": [
        "label.value_counts()"
      ],
      "metadata": {
        "colab": {
          "base_uri": "https://localhost:8080/"
        },
        "id": "i-RWMb0lkCHU",
        "outputId": "b206cae8-6164-422e-bf96-28ef81790d15"
      },
      "execution_count": 69,
      "outputs": [
        {
          "output_type": "execute_result",
          "data": {
            "text/plain": [
              "ham     4827\n",
              "spam     747\n",
              "Name: type, dtype: int64"
            ]
          },
          "metadata": {},
          "execution_count": 69
        }
      ]
    },
    {
      "cell_type": "markdown",
      "source": [
        "1.3 Data Cleansing\n",
        "\n",
        "정답의 문자를 숫자로 변환시켜줍니다.\\\n",
        "ham은 0으로, spam은 1로 변환 시켜주겠습니다."
      ],
      "metadata": {
        "id": "FVjLMZTQkqMw"
      }
    },
    {
      "cell_type": "code",
      "source": [
        "# map을 활용해서 dictionary 으로 변환\n",
        "label = label.map({\"ham\":0,\"spam\":1})"
      ],
      "metadata": {
        "id": "E_sgR4l7knjO"
      },
      "execution_count": 70,
      "outputs": []
    },
    {
      "cell_type": "code",
      "source": [
        "label.value_counts()"
      ],
      "metadata": {
        "colab": {
          "base_uri": "https://localhost:8080/"
        },
        "id": "WHcHe8ELtnX1",
        "outputId": "ef1a4edb-d46d-4cd6-fcf5-79a99fb87ada"
      },
      "execution_count": 71,
      "outputs": [
        {
          "output_type": "execute_result",
          "data": {
            "text/plain": [
              "0    4827\n",
              "1     747\n",
              "Name: type, dtype: int64"
            ]
          },
          "metadata": {},
          "execution_count": 71
        }
      ]
    },
    {
      "cell_type": "markdown",
      "source": [
        "text를 문자만 존재하도록 정리하도록 해줍니다.\\\n",
        "regex를 통해 영어, 숫자 그리고 띄어쓰기를 제외한 모든 단어를 지우도록 하겠습니다."
      ],
      "metadata": {
        "id": "tmVgsfE2owWy"
      }
    },
    {
      "cell_type": "code",
      "source": [
        "re_pattern = \"[^a-zA-Z0-9\\ ]\""
      ],
      "metadata": {
        "id": "tusEAB0ikr79"
      },
      "execution_count": 72,
      "outputs": []
    },
    {
      "cell_type": "code",
      "source": [
        "text[0]"
      ],
      "metadata": {
        "colab": {
          "base_uri": "https://localhost:8080/",
          "height": 54
        },
        "id": "ejPtENoGpZqE",
        "outputId": "523baee8-703b-4b71-a9af-ccf1651ae7b1"
      },
      "execution_count": 73,
      "outputs": [
        {
          "output_type": "execute_result",
          "data": {
            "text/plain": [
              "'Go until jurong point, crazy.. Available only in bugis n great world la e buffet... Cine there got amore wat...'"
            ],
            "application/vnd.google.colaboratory.intrinsic+json": {
              "type": "string"
            }
          },
          "metadata": {},
          "execution_count": 73
        }
      ]
    },
    {
      "cell_type": "code",
      "source": [
        "text.iloc[:1].str.replace(re_pattern, \"\", regex=True)[0]"
      ],
      "metadata": {
        "colab": {
          "base_uri": "https://localhost:8080/",
          "height": 54
        },
        "id": "ZlSmkx3QpbVS",
        "outputId": "91f4f07c-c442-4b31-ecc2-d442e1631e43"
      },
      "execution_count": 74,
      "outputs": [
        {
          "output_type": "execute_result",
          "data": {
            "text/plain": [
              "'Go until jurong point crazy Available only in bugis n great world la e buffet Cine there got amore wat'"
            ],
            "application/vnd.google.colaboratory.intrinsic+json": {
              "type": "string"
            }
          },
          "metadata": {},
          "execution_count": 74
        }
      ]
    },
    {
      "cell_type": "code",
      "source": [
        "text = text.str.replace(re_pattern, \"\", regex=True)"
      ],
      "metadata": {
        "id": "kv8T81shtOcG"
      },
      "execution_count": 75,
      "outputs": []
    },
    {
      "cell_type": "markdown",
      "source": [
        "그리고 나서 대문자들을 모두 소문자로 바꿔 줍니다."
      ],
      "metadata": {
        "id": "1etQ8OXruDer"
      }
    },
    {
      "cell_type": "code",
      "source": [
        "text[0]"
      ],
      "metadata": {
        "colab": {
          "base_uri": "https://localhost:8080/",
          "height": 54
        },
        "id": "iAF838TouJnG",
        "outputId": "69f22426-cfc4-46b9-f902-35022a254de6"
      },
      "execution_count": 76,
      "outputs": [
        {
          "output_type": "execute_result",
          "data": {
            "text/plain": [
              "'Go until jurong point crazy Available only in bugis n great world la e buffet Cine there got amore wat'"
            ],
            "application/vnd.google.colaboratory.intrinsic+json": {
              "type": "string"
            }
          },
          "metadata": {},
          "execution_count": 76
        }
      ]
    },
    {
      "cell_type": "code",
      "source": [
        "text.iloc[:1].str.lower()[0]"
      ],
      "metadata": {
        "colab": {
          "base_uri": "https://localhost:8080/",
          "height": 54
        },
        "id": "xqlbY_2NuU9B",
        "outputId": "f774fb55-11ab-4596-e838-62c050f26b9f"
      },
      "execution_count": 77,
      "outputs": [
        {
          "output_type": "execute_result",
          "data": {
            "text/plain": [
              "'go until jurong point crazy available only in bugis n great world la e buffet cine there got amore wat'"
            ],
            "application/vnd.google.colaboratory.intrinsic+json": {
              "type": "string"
            }
          },
          "metadata": {},
          "execution_count": 77
        }
      ]
    },
    {
      "cell_type": "code",
      "source": [
        "text = text.str.lower()"
      ],
      "metadata": {
        "id": "JorU6yXyuZ4m"
      },
      "execution_count": 78,
      "outputs": []
    },
    {
      "cell_type": "code",
      "source": [
        "text[0]"
      ],
      "metadata": {
        "colab": {
          "base_uri": "https://localhost:8080/",
          "height": 54
        },
        "id": "3JYMSciTu_Zw",
        "outputId": "20f708bd-fd74-4b4e-c2d8-a353af2b0992"
      },
      "execution_count": 79,
      "outputs": [
        {
          "output_type": "execute_result",
          "data": {
            "text/plain": [
              "'go until jurong point crazy available only in bugis n great world la e buffet cine there got amore wat'"
            ],
            "application/vnd.google.colaboratory.intrinsic+json": {
              "type": "string"
            }
          },
          "metadata": {},
          "execution_count": 79
        }
      ]
    },
    {
      "cell_type": "markdown",
      "source": [
        "1.4 Data Split"
      ],
      "metadata": {
        "id": "XmJR53r2vmVO"
      }
    },
    {
      "cell_type": "code",
      "source": [
        "from sklearn.model_selection import train_test_split\n",
        "\n",
        "train_text, test_text, train_label, test_label = train_test_split(\n",
        "    text, label, train_size=0.7, random_state=2021\n",
        ")"
      ],
      "metadata": {
        "id": "opaJkgn2vYuP"
      },
      "execution_count": 80,
      "outputs": []
    },
    {
      "cell_type": "code",
      "source": [
        "print(f\"train_data size: {len(train_label)}, {len(train_label)/len(text):.2f}\")\n",
        "print(f\"test_data size: {len(test_label)}, {len(test_label)/len(text):.2f}\")"
      ],
      "metadata": {
        "colab": {
          "base_uri": "https://localhost:8080/"
        },
        "id": "wezl15QDv-T7",
        "outputId": "6a02f007-2984-4f1b-e945-20ceab6a9c45"
      },
      "execution_count": 81,
      "outputs": [
        {
          "output_type": "stream",
          "name": "stdout",
          "text": [
            "train_data size: 3901, 0.70\n",
            "test_data size: 1673, 0.30\n"
          ]
        }
      ]
    },
    {
      "cell_type": "markdown",
      "source": [
        "# 2. Count Vectorize\n",
        "\n",
        "이제 Naive Bayes를 학습시키기 위해서 각 문장에서 단어들이 몇 번 나왔는지로 변환해야 함"
      ],
      "metadata": {
        "id": "EZ_EVCsZxkFJ"
      }
    },
    {
      "cell_type": "markdown",
      "source": [
        "2.1 word tokenize\\\n",
        "문장을 단어로 나누는 데에는 nltk 패키지의 word_tokenize를 이용함"
      ],
      "metadata": {
        "id": "lgfh4tu7xxW3"
      }
    },
    {
      "cell_type": "code",
      "source": [
        "import nltk\n",
        "from nltk import word_tokenize\n",
        "\n",
        "nltk.download('punkt')"
      ],
      "metadata": {
        "colab": {
          "base_uri": "https://localhost:8080/"
        },
        "id": "ig0fxnz5xxDo",
        "outputId": "875fbf86-a152-40a5-c46d-72be29235be6"
      },
      "execution_count": 82,
      "outputs": [
        {
          "output_type": "stream",
          "name": "stderr",
          "text": [
            "[nltk_data] Downloading package punkt to /root/nltk_data...\n",
            "[nltk_data]   Package punkt is already up-to-date!\n"
          ]
        },
        {
          "output_type": "execute_result",
          "data": {
            "text/plain": [
              "True"
            ]
          },
          "metadata": {},
          "execution_count": 82
        }
      ]
    },
    {
      "cell_type": "code",
      "source": [
        "# 자연어 데이터는 바로 나이브 베이즈 모델에 넣을 수 없음!!\n",
        "# 모델에 넣기 전에 Count Vectorize 메트릭스 형태로 들어가야함\n",
        "\n",
        "train_text.iloc[0]"
      ],
      "metadata": {
        "colab": {
          "base_uri": "https://localhost:8080/",
          "height": 36
        },
        "id": "FItke4gjxHBB",
        "outputId": "3a70fc50-ee23-4f15-9357-aa300ed05693"
      },
      "execution_count": 83,
      "outputs": [
        {
          "output_type": "execute_result",
          "data": {
            "text/plain": [
              "'am only searching for good dual sim mobile pa'"
            ],
            "application/vnd.google.colaboratory.intrinsic+json": {
              "type": "string"
            }
          },
          "metadata": {},
          "execution_count": 83
        }
      ]
    },
    {
      "cell_type": "code",
      "source": [
        "# 띄어쓰기 단위로 데이터 나뉨\n",
        "word_tokenize(train_text.iloc[0])"
      ],
      "metadata": {
        "colab": {
          "base_uri": "https://localhost:8080/"
        },
        "id": "pWgHQChgyVrr",
        "outputId": "f3cf7eb4-885f-4683-b080-7a1942b7cedc"
      },
      "execution_count": 84,
      "outputs": [
        {
          "output_type": "execute_result",
          "data": {
            "text/plain": [
              "['am', 'only', 'searching', 'for', 'good', 'dual', 'sim', 'mobile', 'pa']"
            ]
          },
          "metadata": {},
          "execution_count": 84
        }
      ]
    },
    {
      "cell_type": "markdown",
      "source": [
        "2.2 count vectorize\\\n",
        "다음은 sklearn.feature_extractation.text의 CountVectorizer를 이용해 단어들을 count vector로 만들어 보겠음"
      ],
      "metadata": {
        "id": "2_zcYglRzSgO"
      }
    },
    {
      "cell_type": "code",
      "source": [
        "from sklearn.feature_extraction.text import CountVectorizer"
      ],
      "metadata": {
        "id": "Bf06UWHJybO9"
      },
      "execution_count": 85,
      "outputs": []
    },
    {
      "cell_type": "markdown",
      "source": [
        "우선 예시로 2개의 문장으로 CountVectorizer를 학습해 보겠습니다."
      ],
      "metadata": {
        "id": "LRuYmEI4z3VP"
      }
    },
    {
      "cell_type": "code",
      "source": [
        "train_text.iloc[:2].values"
      ],
      "metadata": {
        "colab": {
          "base_uri": "https://localhost:8080/"
        },
        "id": "z6ohG7dpzUll",
        "outputId": "69b19f86-fa42-426c-bfa7-9a775bfe121d"
      },
      "execution_count": 86,
      "outputs": [
        {
          "output_type": "execute_result",
          "data": {
            "text/plain": [
              "array(['am only searching for good dual sim mobile pa',\n",
              "       'excellent ill see what rileys plans are'], dtype=object)"
            ]
          },
          "metadata": {},
          "execution_count": 86
        }
      ]
    },
    {
      "cell_type": "code",
      "source": [
        "# countvectorizer에 tokenizer 을 word tokenize로 하겟다.\n",
        "cnt_vectorizer = CountVectorizer(tokenizer=word_tokenize)"
      ],
      "metadata": {
        "id": "LKoQ29xW1GQX"
      },
      "execution_count": 87,
      "outputs": []
    },
    {
      "cell_type": "code",
      "source": [
        "cnt_vectorizer.fit(train_text.iloc[:2])"
      ],
      "metadata": {
        "colab": {
          "base_uri": "https://localhost:8080/"
        },
        "id": "Ez7q6QRm1t2J",
        "outputId": "2beae4f2-3532-40c3-ace5-d51c3b604621"
      },
      "execution_count": 88,
      "outputs": [
        {
          "output_type": "stream",
          "name": "stderr",
          "text": [
            "/usr/local/lib/python3.8/dist-packages/sklearn/feature_extraction/text.py:516: UserWarning: The parameter 'token_pattern' will not be used since 'tokenizer' is not None'\n",
            "  warnings.warn(\n"
          ]
        },
        {
          "output_type": "execute_result",
          "data": {
            "text/plain": [
              "CountVectorizer(tokenizer=<function word_tokenize at 0x7fd5fdabe3a0>)"
            ]
          },
          "metadata": {},
          "execution_count": 88
        }
      ]
    },
    {
      "cell_type": "markdown",
      "source": [
        "문장에서 나온 단어들은 다음과 같음"
      ],
      "metadata": {
        "id": "YXaJ2wY82LGa"
      }
    },
    {
      "cell_type": "code",
      "source": [
        "cnt_vectorizer.vocabulary_\n",
        "# 2문장에서 나온 단어들을ㄴ 총 15개, 앞에 단어가 뒤에 번호로 매핑됨"
      ],
      "metadata": {
        "colab": {
          "base_uri": "https://localhost:8080/"
        },
        "id": "3-9rtK1b2HdW",
        "outputId": "a7a1d686-89ee-4319-aa0d-d0b070a04791"
      },
      "execution_count": 89,
      "outputs": [
        {
          "output_type": "execute_result",
          "data": {
            "text/plain": [
              "{'am': 0,\n",
              " 'only': 8,\n",
              " 'searching': 12,\n",
              " 'for': 4,\n",
              " 'good': 5,\n",
              " 'dual': 2,\n",
              " 'sim': 14,\n",
              " 'mobile': 7,\n",
              " 'pa': 9,\n",
              " 'excellent': 3,\n",
              " 'ill': 6,\n",
              " 'see': 13,\n",
              " 'what': 15,\n",
              " 'rileys': 11,\n",
              " 'plans': 10,\n",
              " 'are': 1}"
            ]
          },
          "metadata": {},
          "execution_count": 89
        }
      ]
    },
    {
      "cell_type": "code",
      "source": [
        "vocab = sorted(cnt_vectorizer.vocabulary_.items(), key=lambda x: x[1])\n",
        "vocab = list(map(lambda x: x[0], vocab))\n",
        "vocab"
      ],
      "metadata": {
        "colab": {
          "base_uri": "https://localhost:8080/"
        },
        "id": "Q5obxpmw3GuF",
        "outputId": "ddf64501-78c2-426c-cabf-ee7be5e3a73c"
      },
      "execution_count": 90,
      "outputs": [
        {
          "output_type": "execute_result",
          "data": {
            "text/plain": [
              "['am',\n",
              " 'are',\n",
              " 'dual',\n",
              " 'excellent',\n",
              " 'for',\n",
              " 'good',\n",
              " 'ill',\n",
              " 'mobile',\n",
              " 'only',\n",
              " 'pa',\n",
              " 'plans',\n",
              " 'rileys',\n",
              " 'searching',\n",
              " 'see',\n",
              " 'sim',\n",
              " 'what']"
            ]
          },
          "metadata": {},
          "execution_count": 90
        }
      ]
    },
    {
      "cell_type": "code",
      "source": [
        "# fitting한 count vectorizer로 변환\n",
        "sample_cnt_vector = cnt_vectorizer.transform(train_text.iloc[:2]).toarray()\n",
        "sample_cnt_vector"
      ],
      "metadata": {
        "colab": {
          "base_uri": "https://localhost:8080/"
        },
        "id": "ujgdqlfT3p4d",
        "outputId": "524fabcb-718c-4176-98d4-ea0ecd58c2dd"
      },
      "execution_count": 91,
      "outputs": [
        {
          "output_type": "execute_result",
          "data": {
            "text/plain": [
              "array([[1, 0, 1, 0, 1, 1, 0, 1, 1, 1, 0, 0, 1, 0, 1, 0],\n",
              "       [0, 1, 0, 1, 0, 0, 1, 0, 0, 0, 1, 1, 0, 1, 0, 1]])"
            ]
          },
          "metadata": {},
          "execution_count": 91
        }
      ]
    },
    {
      "cell_type": "code",
      "source": [
        "train_text.iloc[:2].values"
      ],
      "metadata": {
        "colab": {
          "base_uri": "https://localhost:8080/"
        },
        "id": "hoXq1r-M358v",
        "outputId": "8b7dc787-f991-450c-a501-5ad7ca9e32c9"
      },
      "execution_count": 92,
      "outputs": [
        {
          "output_type": "execute_result",
          "data": {
            "text/plain": [
              "array(['am only searching for good dual sim mobile pa',\n",
              "       'excellent ill see what rileys plans are'], dtype=object)"
            ]
          },
          "metadata": {},
          "execution_count": 92
        }
      ]
    },
    {
      "cell_type": "markdown",
      "source": [
        "2.2.1 학습\n",
        "\n",
        "이제 모든 데이터에 대해서 진행"
      ],
      "metadata": {
        "id": "rNYB48oE4ZM3"
      }
    },
    {
      "cell_type": "code",
      "source": [
        "cnt_vectorizer = CountVectorizer(tokenizer=word_tokenize)\n",
        "cnt_vectorizer.fit(train_text)"
      ],
      "metadata": {
        "colab": {
          "base_uri": "https://localhost:8080/"
        },
        "id": "WM7n2n224BJa",
        "outputId": "4fc53a54-9b24-4c70-c765-930bdf7619a3"
      },
      "execution_count": 93,
      "outputs": [
        {
          "output_type": "execute_result",
          "data": {
            "text/plain": [
              "CountVectorizer(tokenizer=<function word_tokenize at 0x7fd5fdabe3a0>)"
            ]
          },
          "metadata": {},
          "execution_count": 93
        }
      ]
    },
    {
      "cell_type": "code",
      "source": [
        "# 전체 단어는 7908개가 존재\n",
        "len(cnt_vectorizer.vocabulary_)"
      ],
      "metadata": {
        "colab": {
          "base_uri": "https://localhost:8080/"
        },
        "id": "Y71sS27s4we0",
        "outputId": "d014dd0a-c73e-4713-a3c0-dd7521ae24ce"
      },
      "execution_count": 94,
      "outputs": [
        {
          "output_type": "execute_result",
          "data": {
            "text/plain": [
              "7908"
            ]
          },
          "metadata": {},
          "execution_count": 94
        }
      ]
    },
    {
      "cell_type": "markdown",
      "source": [
        "2.2.2 예측"
      ],
      "metadata": {
        "id": "NsaQqQ_K44f7"
      }
    },
    {
      "cell_type": "code",
      "source": [
        "train_matrix = cnt_vectorizer.transform(train_text)\n",
        "test_matrix = cnt_vectorizer.transform(test_text)"
      ],
      "metadata": {
        "id": "PK2qDUmT42bd"
      },
      "execution_count": 101,
      "outputs": []
    },
    {
      "cell_type": "markdown",
      "source": [
        "만약 존재하지 않는 단어가 들어올 경우 어떻게 될까?\\\n",
        "CountVectorize는 학습한 단어장에 존재하지 않는 단어가 들어오게 될 경우 무시함"
      ],
      "metadata": {
        "id": "ACjlIqOW5Psk"
      }
    },
    {
      "cell_type": "code",
      "source": [
        "cnt_vectorizer.transform([\"notavilblewordforcnt\"]).toarray().sum() #??"
      ],
      "metadata": {
        "colab": {
          "base_uri": "https://localhost:8080/"
        },
        "id": "lr60dMVy5L39",
        "outputId": "152c4bbc-c91c-4c60-8164-63474bdc8518"
      },
      "execution_count": 102,
      "outputs": [
        {
          "output_type": "execute_result",
          "data": {
            "text/plain": [
              "0"
            ]
          },
          "metadata": {},
          "execution_count": 102
        }
      ]
    },
    {
      "cell_type": "markdown",
      "source": [
        "3. Naive Bayes\n",
        "\n",
        "분류를 위한 Naive Bayes모델은 sklearn.naive_bayes의 BernoulliNB 사용하면 됨\n"
      ],
      "metadata": {
        "id": "BPIACBag6sli"
      }
    },
    {
      "cell_type": "code",
      "source": [
        "from sklearn.naive_bayes import BernoulliNB\n",
        "\n",
        "naive_bayes = BernoulliNB()"
      ],
      "metadata": {
        "id": "lTQQdxq07A6B"
      },
      "execution_count": 103,
      "outputs": []
    },
    {
      "cell_type": "markdown",
      "source": [
        "3.1 학습"
      ],
      "metadata": {
        "id": "TJpk918M7Yma"
      }
    },
    {
      "cell_type": "code",
      "source": [
        "naive_bayes.fit(train_matrix, train_label)"
      ],
      "metadata": {
        "colab": {
          "base_uri": "https://localhost:8080/"
        },
        "id": "3BZd1l5B6wIV",
        "outputId": "064ba08c-fc47-4992-c832-03e961645fe5"
      },
      "execution_count": 104,
      "outputs": [
        {
          "output_type": "execute_result",
          "data": {
            "text/plain": [
              "BernoulliNB()"
            ]
          },
          "metadata": {},
          "execution_count": 104
        }
      ]
    },
    {
      "cell_type": "markdown",
      "source": [
        "3.2 예측"
      ],
      "metadata": {
        "id": "Y-UWLceQ88RV"
      }
    },
    {
      "cell_type": "code",
      "source": [
        "train_pred = naive_bayes.predict(train_matrix)\n",
        "test_pred = naive_bayes.predict(test_matrix)\n",
        "                          "
      ],
      "metadata": {
        "id": "2CFKMbmP5vIR"
      },
      "execution_count": 105,
      "outputs": []
    },
    {
      "cell_type": "markdown",
      "source": [
        "3.3 평가"
      ],
      "metadata": {
        "id": "o_8Sj6KQ9Mcy"
      }
    },
    {
      "cell_type": "code",
      "source": [
        "from sklearn.metrics import accuracy_score\n",
        "\n",
        "train_acc = accuracy_score(train_label, train_pred)\n",
        "test_acc = accuracy_score(test_label, test_pred)"
      ],
      "metadata": {
        "id": "7K1PSaym9KuV"
      },
      "execution_count": 107,
      "outputs": []
    },
    {
      "cell_type": "code",
      "source": [
        "print(f\"Train Accuracy is {train_acc:.4f}\")\n",
        "print(f\"Test Accuracy is {test_acc:.4f}\")"
      ],
      "metadata": {
        "colab": {
          "base_uri": "https://localhost:8080/"
        },
        "id": "XaFXFkU99ZyK",
        "outputId": "990a3838-7f4b-490e-e135-bd6c53eeeb10"
      },
      "execution_count": 109,
      "outputs": [
        {
          "output_type": "stream",
          "name": "stdout",
          "text": [
            "Train Accuracy is 0.9854\n",
            "Test Accuracy is 0.9767\n"
          ]
        }
      ]
    },
    {
      "cell_type": "code",
      "source": [],
      "metadata": {
        "id": "saD4fRrh9pSL"
      },
      "execution_count": null,
      "outputs": []
    }
  ]
}