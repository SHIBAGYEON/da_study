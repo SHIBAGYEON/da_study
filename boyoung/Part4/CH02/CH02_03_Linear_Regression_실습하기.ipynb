{
  "nbformat": 4,
  "nbformat_minor": 0,
  "metadata": {
    "colab": {
      "provenance": []
    },
    "kernelspec": {
      "name": "python3",
      "display_name": "Python 3"
    },
    "language_info": {
      "name": "python"
    }
  },
  "cells": [
    {
      "cell_type": "markdown",
      "source": [
        "# **Linear Regression 실습**"
      ],
      "metadata": {
        "id": "9HiJuS9nosd0"
      }
    },
    {
      "cell_type": "code",
      "source": [
        "import pandas as pd\n",
        "import numpy as np\n",
        "import matplotlib.pyplot as plt\n",
        "\n",
        "np.random.seed(2021) #???"
      ],
      "metadata": {
        "id": "YwM3xhbzopqs"
      },
      "execution_count": 1,
      "outputs": []
    },
    {
      "cell_type": "markdown",
      "source": [
        "# **1. Univariate Regression**"
      ],
      "metadata": {
        "id": "npk44zsnpGG7"
      }
    },
    {
      "cell_type": "markdown",
      "source": [
        "1.1 Sample Data\\\n",
        "강의에서 예시로 사용중인 데이터를 생성합니다.\n"
      ],
      "metadata": {
        "id": "f3In3egApKgL"
      }
    },
    {
      "cell_type": "code",
      "source": [
        "X = np.array([1,2,3,4])\n",
        "y = np.array([2,1,4,3])"
      ],
      "metadata": {
        "id": "CqSfAwsJpJ5o"
      },
      "execution_count": 5,
      "outputs": []
    },
    {
      "cell_type": "markdown",
      "source": [
        "Plot 으로 그려보겠습니다."
      ],
      "metadata": {
        "id": "x0o196UOpp8o"
      }
    },
    {
      "cell_type": "code",
      "source": [
        "plt.scatter(X,y)"
      ],
      "metadata": {
        "colab": {
          "base_uri": "https://localhost:8080/",
          "height": 283
        },
        "id": "63QToTQIprm3",
        "outputId": "f4ced1cf-f980-4e04-989e-1cdc73480792"
      },
      "execution_count": 6,
      "outputs": [
        {
          "output_type": "execute_result",
          "data": {
            "text/plain": [
              "<matplotlib.collections.PathCollection at 0x7f998c2f6ed0>"
            ]
          },
          "metadata": {},
          "execution_count": 6
        },
        {
          "output_type": "display_data",
          "data": {
            "text/plain": [
              "<Figure size 432x288 with 1 Axes>"
            ],
            "image/png": "[encoded data removed]"
          },
          "metadata": {
            "needs_background": "light"
          }
        }
      ]
    },
    {
      "cell_type": "markdown",
      "source": [
        "1.2 Data 변환\n",
        "scikit-learn에서 모델 학습을 위한 데이터는 (n, c) 형태로 되어 있어야 함\n",
        "\n",
        "\n",
        "*   n은 데이터의 개수를 의미\n",
        "*   c는 feature 개수를 의미\n",
        "\n",
        "우리가 사용하는 데이터는 4개의 데이터와 1개의 feature로 이루어져 있음\n"
      ],
      "metadata": {
        "id": "N1N5h9alqC-t"
      }
    },
    {
      "cell_type": "code",
      "execution_count": 7,
      "metadata": {
        "colab": {
          "base_uri": "https://localhost:8080/"
        },
        "id": "vP2gcxICojAu",
        "outputId": "3c044c61-de4e-4cd7-b485-c3281fa58f06"
      },
      "outputs": [
        {
          "output_type": "execute_result",
          "data": {
            "text/plain": [
              "array([1, 2, 3, 4])"
            ]
          },
          "metadata": {},
          "execution_count": 7
        }
      ],
      "source": [
        "X"
      ]
    },
    {
      "cell_type": "code",
      "source": [
        "X.shape"
      ],
      "metadata": {
        "colab": {
          "base_uri": "https://localhost:8080/"
        },
        "id": "Bnqej9o8qh6S",
        "outputId": "36ba8af8-e5c1-4051-b559-d73a9e107f2a"
      },
      "execution_count": 8,
      "outputs": [
        {
          "output_type": "execute_result",
          "data": {
            "text/plain": [
              "(4,)"
            ]
          },
          "metadata": {},
          "execution_count": 8
        }
      ]
    },
    {
      "cell_type": "code",
      "source": [
        "data = X.reshape(-1,1) #???"
      ],
      "metadata": {
        "id": "2G1bFphjqjOn"
      },
      "execution_count": 9,
      "outputs": []
    },
    {
      "cell_type": "code",
      "source": [
        "data"
      ],
      "metadata": {
        "colab": {
          "base_uri": "https://localhost:8080/"
        },
        "id": "oc7fcqvlqn2z",
        "outputId": "3d840d5c-97f2-4924-859e-6cda654bf135"
      },
      "execution_count": 10,
      "outputs": [
        {
          "output_type": "execute_result",
          "data": {
            "text/plain": [
              "array([[1],\n",
              "       [2],\n",
              "       [3],\n",
              "       [4]])"
            ]
          },
          "metadata": {},
          "execution_count": 10
        }
      ]
    },
    {
      "cell_type": "markdown",
      "source": [
        "1.3 Linear Regression"
      ],
      "metadata": {
        "id": "ah9wd61mq6zY"
      }
    },
    {
      "cell_type": "code",
      "source": [
        "from sklearn.linear_model import LinearRegression"
      ],
      "metadata": {
        "id": "zT_n2tjSqorW"
      },
      "execution_count": 13,
      "outputs": []
    },
    {
      "cell_type": "code",
      "source": [
        "# LinearRegression을 model 변수에 선언\n",
        "model = LinearRegression()"
      ],
      "metadata": {
        "id": "N8uoI6rlrO_Y"
      },
      "execution_count": 56,
      "outputs": []
    },
    {
      "cell_type": "markdown",
      "source": [
        "1.3.1 학습하기\\\n",
        "scikit-learn 패키지의 LinearRegression을 이용해 선형 회귀 모델을 생성\\\n",
        "fit 함수 통해서 model 학습\n",
        "\n",
        "\n",
        "```\n",
        "# model.fit(X=...,y=...)\n",
        "```\n",
        "\n",
        "x는 학습에 사용할 데이터를 y는 학습에 사용할 정답 입니다."
      ],
      "metadata": {
        "id": "phU6kS-krn_1"
      }
    },
    {
      "cell_type": "code",
      "source": [
        "model.fit(X=data, y=y)\n",
        "# model.fit(data,y)"
      ],
      "metadata": {
        "colab": {
          "base_uri": "https://localhost:8080/"
        },
        "id": "9wO4kAV-razO",
        "outputId": "7c1a4e81-c485-44e9-dcce-9a13678204bb"
      },
      "execution_count": 17,
      "outputs": [
        {
          "output_type": "execute_result",
          "data": {
            "text/plain": [
              "LinearRegression()"
            ]
          },
          "metadata": {},
          "execution_count": 17
        }
      ]
    },
    {
      "cell_type": "markdown",
      "source": [
        "1.3.2 모델의 식 확인\n",
        "\n",
        "bias, 편향 먼저 확인\\\n",
        "sklearn 에서는 intercept로 확인할 수 있음"
      ],
      "metadata": {
        "id": "dfPgLavCszXU"
      }
    },
    {
      "cell_type": "code",
      "source": [
        "model.intercept_"
      ],
      "metadata": {
        "colab": {
          "base_uri": "https://localhost:8080/"
        },
        "id": "hbv4Pto-slQt",
        "outputId": "a18c1877-ddeb-4efd-d1ba-a294e726ba1c"
      },
      "execution_count": 19,
      "outputs": [
        {
          "output_type": "execute_result",
          "data": {
            "text/plain": [
              "1.0000000000000004"
            ]
          },
          "metadata": {},
          "execution_count": 19
        }
      ]
    },
    {
      "cell_type": "code",
      "source": [
        "# 회귀게수 확인\n",
        "model.coef_\n",
        "\n",
        "# y = 1+0.6 회귀선 예측 가능"
      ],
      "metadata": {
        "colab": {
          "base_uri": "https://localhost:8080/"
        },
        "id": "iLduNp55tNDG",
        "outputId": "1e3a50b1-84ba-428a-f599-6e7e04603814"
      },
      "execution_count": 21,
      "outputs": [
        {
          "output_type": "execute_result",
          "data": {
            "text/plain": [
              "array([0.6])"
            ]
          },
          "metadata": {},
          "execution_count": 21
        }
      ]
    },
    {
      "cell_type": "markdown",
      "source": [
        "1.3.3 예측하기\n"
      ],
      "metadata": {
        "id": "JCM_lV-_t6Dj"
      }
    },
    {
      "cell_type": "code",
      "source": [
        "pred = model.predict(data)"
      ],
      "metadata": {
        "id": "zViV6egdtZaG"
      },
      "execution_count": 23,
      "outputs": []
    },
    {
      "cell_type": "code",
      "source": [
        "pred"
      ],
      "metadata": {
        "colab": {
          "base_uri": "https://localhost:8080/"
        },
        "id": "yHaz9aepuBWc",
        "outputId": "f459bada-8f02-45dd-9b67-4278f0ba0733"
      },
      "execution_count": 24,
      "outputs": [
        {
          "output_type": "execute_result",
          "data": {
            "text/plain": [
              "array([1.6, 2.2, 2.8, 3.4])"
            ]
          },
          "metadata": {},
          "execution_count": 24
        }
      ]
    },
    {
      "cell_type": "markdown",
      "source": [
        "1.4 회귀선을 Plot으로 표현하기"
      ],
      "metadata": {
        "id": "NSY44pJAuJ8w"
      }
    },
    {
      "cell_type": "code",
      "source": [
        "plt.scatter(X,y)\n",
        "plt.plot(X, pred, color = 'green')\n",
        "# 파란점은 자기고 있는데이터, 초록선은 예측하는 회귀선"
      ],
      "metadata": {
        "colab": {
          "base_uri": "https://localhost:8080/",
          "height": 283
        },
        "id": "Pj_R1baouIc6",
        "outputId": "e12b8129-51f0-4467-c75c-a043866e3e7e"
      },
      "execution_count": 27,
      "outputs": [
        {
          "output_type": "execute_result",
          "data": {
            "text/plain": [
              "[<matplotlib.lines.Line2D at 0x7f997e7db2d0>]"
            ]
          },
          "metadata": {},
          "execution_count": 27
        },
        {
          "output_type": "display_data",
          "data": {
            "text/plain": [
              "<Figure size 432x288 with 1 Axes>"
            ],
            "image/png": "[encoded data removed]"
          },
          "metadata": {
            "needs_background": "light"
          }
        }
      ]
    },
    {
      "cell_type": "markdown",
      "source": [
        "# **2. Multivariate Regression**"
      ],
      "metadata": {
        "id": "mKaZFEiRulOm"
      }
    },
    {
      "cell_type": "markdown",
      "source": [
        "2.1 Sample Data\\\n",
        "Multivariate Regression에서 사용할 데이터를 생성하고 학습한 회귀식과 비교"
      ],
      "metadata": {
        "id": "JoB-SmzQuqGU"
      }
    },
    {
      "cell_type": "code",
      "source": [
        "bias = 1\n",
        "beta = np.array([2,3,4,5]).reshape(4,1)\n",
        "noise = np.random.randn(100,1)"
      ],
      "metadata": {
        "id": "egNj1u7VuPYA"
      },
      "execution_count": 28,
      "outputs": []
    },
    {
      "cell_type": "code",
      "source": [
        "X = np.random.randn(100, 4)\n",
        "y = bias + X.dot(beta)\n",
        "y_with_noise = y + noise"
      ],
      "metadata": {
        "id": "0BK8ccpvur6d"
      },
      "execution_count": 30,
      "outputs": []
    },
    {
      "cell_type": "code",
      "source": [
        "X[:10]"
      ],
      "metadata": {
        "colab": {
          "base_uri": "https://localhost:8080/"
        },
        "id": "bwKvAT4xwfSb",
        "outputId": "fb2d99b2-5311-4c38-9fac-b6f7606e1592"
      },
      "execution_count": 31,
      "outputs": [
        {
          "output_type": "execute_result",
          "data": {
            "text/plain": [
              "array([[ 0.16485133,  0.4443254 , -0.34349934, -0.48812377],\n",
              "       [-0.60445985, -0.72321797,  0.26184428, -0.40424619],\n",
              "       [-0.51761993, -2.13187529, -0.63013353,  0.25704767],\n",
              "       [ 1.37077615,  1.71038234, -0.29680754, -0.95314827],\n",
              "       [ 0.10645787,  0.402295  ,  1.08828507,  0.98909523],\n",
              "       [ 1.08008362, -0.71583989, -0.73240449,  0.60224466],\n",
              "       [-0.23652914,  2.90796314,  1.04894104,  2.40895558],\n",
              "       [ 1.32261009,  0.52924783,  0.21490651,  1.58655878],\n",
              "       [-0.22493034,  0.35284928, -0.09853375,  0.19143512],\n",
              "       [-0.46717167, -0.78954719, -1.41015172,  0.45243316]])"
            ]
          },
          "metadata": {},
          "execution_count": 31
        }
      ]
    },
    {
      "cell_type": "code",
      "source": [
        "y[:10]"
      ],
      "metadata": {
        "colab": {
          "base_uri": "https://localhost:8080/"
        },
        "id": "qNjT8fOcwiAc",
        "outputId": "4ce6cae7-a982-4e84-d6ef-8ad9d2aed7a5"
      },
      "execution_count": 32,
      "outputs": [
        {
          "output_type": "execute_result",
          "data": {
            "text/plain": [
              "array([[-1.15193731],\n",
              "       [-3.35242744],\n",
              "       [-7.66616148],\n",
              "       [ 2.91972784],\n",
              "       [11.71841717],\n",
              "       [ 1.09425289],\n",
              "       [25.49137321],\n",
              "       [14.0253836 ],\n",
              "       [ 2.17172778],\n",
              "       [-5.68142599]])"
            ]
          },
          "metadata": {},
          "execution_count": 32
        }
      ]
    },
    {
      "cell_type": "markdown",
      "source": [
        "2.2 Multivariate Regression"
      ],
      "metadata": {
        "id": "c6H34d21wl7F"
      }
    },
    {
      "cell_type": "code",
      "source": [
        "model = LinearRegression()\n",
        "model.fit(X,y_with_noise)"
      ],
      "metadata": {
        "colab": {
          "base_uri": "https://localhost:8080/"
        },
        "id": "ekLap0V2wjzY",
        "outputId": "22af8a6e-8135-49d5-94dc-daf2d2edbf6b"
      },
      "execution_count": 33,
      "outputs": [
        {
          "output_type": "execute_result",
          "data": {
            "text/plain": [
              "LinearRegression()"
            ]
          },
          "metadata": {},
          "execution_count": 33
        }
      ]
    },
    {
      "cell_type": "markdown",
      "source": [
        "2.3 회귀식 확인"
      ],
      "metadata": {
        "id": "beXFHK66w02j"
      }
    },
    {
      "cell_type": "code",
      "source": [
        "model.intercept_"
      ],
      "metadata": {
        "colab": {
          "base_uri": "https://localhost:8080/"
        },
        "id": "YHok7nmDwyyx",
        "outputId": "a09e6ab0-967c-4ec6-a78f-4295445ebbe7"
      },
      "execution_count": 34,
      "outputs": [
        {
          "output_type": "execute_result",
          "data": {
            "text/plain": [
              "array([1.13288074])"
            ]
          },
          "metadata": {},
          "execution_count": 34
        }
      ]
    },
    {
      "cell_type": "code",
      "source": [
        "model.coef_"
      ],
      "metadata": {
        "colab": {
          "base_uri": "https://localhost:8080/"
        },
        "id": "v0sOB0Raw4f6",
        "outputId": "34cafecb-de47-4023-9c1d-45807b9dbf5d"
      },
      "execution_count": 35,
      "outputs": [
        {
          "output_type": "execute_result",
          "data": {
            "text/plain": [
              "array([[2.0044348 , 3.0267574 , 4.1070518 , 5.03333809]])"
            ]
          },
          "metadata": {},
          "execution_count": 35
        }
      ]
    },
    {
      "cell_type": "markdown",
      "source": [
        "워래 식과 비교한 결과 편향은 잘 맞추지 못함.\\\n",
        "다만, 회귀계수 정확하게 예측"
      ],
      "metadata": {
        "id": "52VFqf_AxIVs"
      }
    },
    {
      "cell_type": "markdown",
      "source": [
        "2.4 통계적인 방법\n",
        "이번엔 통계적 방법으로 회귀식을 계산"
      ],
      "metadata": {
        "id": "unuB_HQkxU-T"
      }
    },
    {
      "cell_type": "code",
      "source": [
        "bias_X = np.array([1]*len(X)).reshape(-1,1)\n",
        "stat_X = np.hstack([bias_X, X])\n",
        "X_X_transpose = stat_X.transpose().dot(stat_X)\n",
        "X_X_transpose_inverse = np.linalg.inv(X_X_transpose)"
      ],
      "metadata": {
        "id": "z_whki_9w7dj"
      },
      "execution_count": 37,
      "outputs": []
    },
    {
      "cell_type": "code",
      "source": [
        "stat_beta = X_X_transpose_inverse.dot(stat_X.transpose()).dot(y_with_noise)"
      ],
      "metadata": {
        "id": "27emKppDyNP2"
      },
      "execution_count": 39,
      "outputs": []
    },
    {
      "cell_type": "code",
      "source": [
        "stat_beta # 구했던 값과 같은값이 나옴"
      ],
      "metadata": {
        "colab": {
          "base_uri": "https://localhost:8080/"
        },
        "id": "TZjvIUUSyqMV",
        "outputId": "77f0b385-f6c7-4813-cdfb-47da637a627e"
      },
      "execution_count": 40,
      "outputs": [
        {
          "output_type": "execute_result",
          "data": {
            "text/plain": [
              "array([[1.13288074],\n",
              "       [2.0044348 ],\n",
              "       [3.0267574 ],\n",
              "       [4.1070518 ],\n",
              "       [5.03333809]])"
            ]
          },
          "metadata": {},
          "execution_count": 40
        }
      ]
    },
    {
      "cell_type": "markdown",
      "source": [
        "# **3. Polynomial Regression**\n",
        "\n",
        "3.1 Sample data"
      ],
      "metadata": {
        "id": "dMumu6Dryx2t"
      }
    },
    {
      "cell_type": "code",
      "source": [
        "# 비선형 데이터 생성\n",
        "bias = 1\n",
        "beta = np.array([2,3]).reshape(2,1)\n",
        "noise = np.random.randn(100,1)"
      ],
      "metadata": {
        "id": "gIhjdm5xywPZ"
      },
      "execution_count": 46,
      "outputs": []
    },
    {
      "cell_type": "code",
      "source": [
        "X = np.random.randn(100,1)\n",
        "X_poly = np.hstack([X, X**2])"
      ],
      "metadata": {
        "id": "JYtZLymHzNRb"
      },
      "execution_count": 47,
      "outputs": []
    },
    {
      "cell_type": "code",
      "source": [
        "X_poly[:10]"
      ],
      "metadata": {
        "colab": {
          "base_uri": "https://localhost:8080/"
        },
        "id": "AApIyy-6z9nL",
        "outputId": "221de6a7-d206-412c-cd71-4f784802de20"
      },
      "execution_count": 50,
      "outputs": [
        {
          "output_type": "execute_result",
          "data": {
            "text/plain": [
              "array([[-1.76032731e+00,  3.09875222e+00],\n",
              "       [ 1.16610305e+00,  1.35979633e+00],\n",
              "       [ 4.91710199e-01,  2.41778920e-01],\n",
              "       [-8.02142511e-01,  6.43432607e-01],\n",
              "       [ 6.24904809e-01,  3.90506020e-01],\n",
              "       [ 1.43160874e-01,  2.04950357e-02],\n",
              "       [-3.36336888e-01,  1.13122502e-01],\n",
              "       [-3.23460700e-01,  1.04626825e-01],\n",
              "       [ 1.30698158e+00,  1.70820084e+00],\n",
              "       [-2.83035916e-02,  8.01093296e-04]])"
            ]
          },
          "metadata": {},
          "execution_count": 50
        }
      ]
    },
    {
      "cell_type": "code",
      "source": [
        "y = bias + X_poly.dot(beta)\n",
        "y_with_noise = y + noise"
      ],
      "metadata": {
        "id": "N1tQFGFIzVtk"
      },
      "execution_count": 48,
      "outputs": []
    },
    {
      "cell_type": "code",
      "source": [
        "plt.scatter(X, y_with_noise)"
      ],
      "metadata": {
        "colab": {
          "base_uri": "https://localhost:8080/",
          "height": 285
        },
        "id": "Yd7BoGyNzydf",
        "outputId": "cdfdb3ee-caf3-4e18-a827-ea19b554325f"
      },
      "execution_count": 49,
      "outputs": [
        {
          "output_type": "execute_result",
          "data": {
            "text/plain": [
              "<matplotlib.collections.PathCollection at 0x7f997bdc15d0>"
            ]
          },
          "metadata": {},
          "execution_count": 49
        },
        {
          "output_type": "display_data",
          "data": {
            "text/plain": [
              "<Figure size 432x288 with 1 Axes>"
            ],
            "image/png": "[encoded data removed]"
          },
          "metadata": {
            "needs_background": "light"
          }
        }
      ]
    },
    {
      "cell_type": "markdown",
      "source": [
        "3.2 Polynomial Regression"
      ],
      "metadata": {
        "id": "N-JCG-5r0B-4"
      }
    },
    {
      "cell_type": "markdown",
      "source": [
        "3.2.1 학습하기\n",
        " "
      ],
      "metadata": {
        "id": "O-D832DY0FdR"
      }
    },
    {
      "cell_type": "code",
      "source": [
        "model = LinearRegression()\n",
        "model.fit(X_poly, y_with_noise)\n"
      ],
      "metadata": {
        "colab": {
          "base_uri": "https://localhost:8080/"
        },
        "id": "ZvTf-A5nz13o",
        "outputId": "a160e32e-f629-4331-c31a-0264a07f4af2"
      },
      "execution_count": 51,
      "outputs": [
        {
          "output_type": "execute_result",
          "data": {
            "text/plain": [
              "LinearRegression()"
            ]
          },
          "metadata": {},
          "execution_count": 51
        }
      ]
    },
    {
      "cell_type": "markdown",
      "source": [
        "3.2.2 회귀식 확인하기"
      ],
      "metadata": {
        "id": "6FQIEEFi0Sr5"
      }
    },
    {
      "cell_type": "code",
      "source": [
        "model.intercept_"
      ],
      "metadata": {
        "colab": {
          "base_uri": "https://localhost:8080/"
        },
        "id": "q3VK8CoG0RHL",
        "outputId": "6f2554f4-3c45-43dc-e8ff-bed9cd52d0fa"
      },
      "execution_count": 52,
      "outputs": [
        {
          "output_type": "execute_result",
          "data": {
            "text/plain": [
              "array([0.96501686])"
            ]
          },
          "metadata": {},
          "execution_count": 52
        }
      ]
    },
    {
      "cell_type": "code",
      "source": [
        "model.coef_"
      ],
      "metadata": {
        "colab": {
          "base_uri": "https://localhost:8080/"
        },
        "id": "UZSUYvhH0WUw",
        "outputId": "ce0a5f40-9e12-41e4-95a3-8b93cff5dbca"
      },
      "execution_count": 53,
      "outputs": [
        {
          "output_type": "execute_result",
          "data": {
            "text/plain": [
              "array([[2.05641242, 2.9530699 ]])"
            ]
          },
          "metadata": {},
          "execution_count": 53
        }
      ]
    },
    {
      "cell_type": "markdown",
      "source": [
        "3.2.3 예측하기"
      ],
      "metadata": {
        "id": "4QsFRYIe0ZUH"
      }
    },
    {
      "cell_type": "code",
      "source": [
        "pred = model.predict(X_poly)"
      ],
      "metadata": {
        "id": "JILPN4Ad0YD-"
      },
      "execution_count": 54,
      "outputs": []
    },
    {
      "cell_type": "markdown",
      "source": [
        "3.3 예측값 Plot으로 확인"
      ],
      "metadata": {
        "id": "jT70GULd0gRb"
      }
    },
    {
      "cell_type": "code",
      "source": [
        "plt.scatter(X, pred)"
      ],
      "metadata": {
        "colab": {
          "base_uri": "https://localhost:8080/",
          "height": 283
        },
        "id": "_A6ID9JJ0bpV",
        "outputId": "b81ef2f9-5d6e-40f9-9dcd-3472fea83779"
      },
      "execution_count": 55,
      "outputs": [
        {
          "output_type": "execute_result",
          "data": {
            "text/plain": [
              "<matplotlib.collections.PathCollection at 0x7f997bd42e50>"
            ]
          },
          "metadata": {},
          "execution_count": 55
        },
        {
          "output_type": "display_data",
          "data": {
            "text/plain": [
              "<Figure size 432x288 with 1 Axes>"
            ],
            "image/png": "[encoded data removed]"
          },
          "metadata": {
            "needs_background": "light"
          }
        }
      ]
    },
    {
      "cell_type": "code",
      "source": [],
      "metadata": {
        "id": "d0xVfwYM0baf"
      },
      "execution_count": null,
      "outputs": []
    }
  ]
}